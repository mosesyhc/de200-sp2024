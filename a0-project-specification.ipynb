{
 "cells": [
  {
   "cell_type": "markdown",
   "id": "1eb13d5f-a5dd-49d6-9520-b0bd314fb407",
   "metadata": {},
   "source": [
    "# Project Specification\n",
    "\n"
   ]
  },
  {
   "cell_type": "markdown",
   "id": "e9d2c4e0-78d1-4406-ace1-410388d40748",
   "metadata": {},
   "source": [
    "### Group formation\n",
    "The project group may consist of 2 to 3 students.  The declared group should be included in the project proposal."
   ]
  },
  {
   "cell_type": "markdown",
   "id": "d6b483df-c054-40ad-82b5-525c5e9e786d",
   "metadata": {},
   "source": [
    "### Overview\n",
    "You will be tasked to \n",
    "\n",
    "1. Identify one or more datasets of your interest,\n",
    "2. Design questions surrounding the data,\n",
    "3. Conduct analyses, and\n",
    "4. Communicate your findings."
   ]
  },
  {
   "cell_type": "markdown",
   "id": "ad4e5120-cf1f-400e-9986-ccb692f5afed",
   "metadata": {},
   "source": [
    "### List of important dates\n",
    "\n",
    "May 7: Group project proposal due\n",
    "\n",
    "May 28, 30: In-class project presentation\n",
    "\n",
    "Jun 4: Project report due"
   ]
  },
  {
   "cell_type": "markdown",
   "id": "b54baead-387e-42b1-b91d-99f07e42b1c7",
   "metadata": {},
   "source": [
    "### Potential dataset sources\n",
    "A list of datasets is available for you to choose from.  If you are selecting any datasets outside of this list, communicate with the instructor for approval."
   ]
  }
 ],
 "metadata": {
  "kernelspec": {
   "display_name": "Python 3 (ipykernel)",
   "language": "python",
   "name": "python3"
  },
  "language_info": {
   "codemirror_mode": {
    "name": "ipython",
    "version": 3
   },
   "file_extension": ".py",
   "mimetype": "text/x-python",
   "name": "python",
   "nbconvert_exporter": "python",
   "pygments_lexer": "ipython3",
   "version": "3.11.5"
  }
 },
 "nbformat": 4,
 "nbformat_minor": 5
}
