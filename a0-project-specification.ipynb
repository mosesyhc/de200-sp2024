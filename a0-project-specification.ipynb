{
 "cells": [
  {
   "cell_type": "markdown",
   "id": "1eb13d5f-a5dd-49d6-9520-b0bd314fb407",
   "metadata": {},
   "source": [
    "# Project Specification\n",
    "\n"
   ]
  },
  {
   "cell_type": "markdown",
   "id": "d6b483df-c054-40ad-82b5-525c5e9e786d",
   "metadata": {},
   "source": [
    "## Task overview\n",
    "You will be tasked to \n",
    "\n",
    "1. Identify one or more datasets of your interest,\n",
    "2. Design questions surrounding the data,\n",
    "3. Conduct analyses, and\n",
    "4. Communicate your findings."
   ]
  },
  {
   "cell_type": "markdown",
   "id": "e9d2c4e0-78d1-4406-ace1-410388d40748",
   "metadata": {
    "jp-MarkdownHeadingCollapsed": true
   },
   "source": [
    "### Group formation\n",
    "The project group may consist of 2 to 3 students.  The declared group should be included in the project proposal."
   ]
  },
  {
   "cell_type": "markdown",
   "id": "14be4139-cf42-47c8-9463-3f0ce0181111",
   "metadata": {},
   "source": [
    "## Project grading \n",
    "The project is worth 20% of the class grade, with the following details:\n",
    "\n",
    "|                     |                        |                   |\n",
    "|---------------------|:----------------------:|:-----------------:|\n",
    "|                     |   **Due date**         |    **Points**     |\n",
    "| Proposal            | May 7                  |       50          |\n",
    "| Presentations       | all slides due May 28  |      100          |\n",
    "| Report              | June 4                 |      150          |\n",
    "| **Total**           |                        |      300          |"
   ]
  },
  {
   "cell_type": "markdown",
   "id": "eb29e4bb-2fb6-4e5b-9fec-89fcd4ae20d5",
   "metadata": {},
   "source": [
    "## Project proposal\n",
    "\n",
    "Develop a proposal that includes your topic, the selection of relevant dataset(s), and a plan to answer questions of interests.  Keep in mind the timeline of the quarter and set achievable goals.\n",
    "\n",
    "The proposal will contain several parts of your project report.  You may incorporate feedback from the proposal to improve your project report."
   ]
  },
  {
   "cell_type": "markdown",
   "id": "6673f418-622e-4fe2-89ea-ba0970a7dea3",
   "metadata": {},
   "source": [
    "### Canvas project team declaration\n",
    "After forming your team of 2 - 3 students, add your group on **Canvas -> People -> Groups -> + Group**.\n",
    "\n",
    "Only form a group with explicit approval given by your teammates."
   ]
  },
  {
   "cell_type": "markdown",
   "id": "ddd9a442-540f-40d4-964c-fe1586ef6ca4",
   "metadata": {},
   "source": [
    "### Guidelines for proposal\n",
    "\n",
    "The proposal should follow this format (5 points): \n",
    "\n",
    "- Include full names of all teammates.\n",
    "- Between 1 to 2 pages, single-spaced, 11-point type, 1-inch margins.\n",
    "- Do not include graphics.\n",
    "- A pdf named `[GroupName]_proposal.pdf` should be submitted.  Decide on the name of your group.\n",
    "\n",
    "The proposal should include the following components:\n",
    "\n",
    "- **Introduction** (10 points): Introduce your project and motivation, e.g.,\n",
    "  - Why is this topic important?\n",
    "  - In what way does this project provide a solution?\n",
    "- **Dataset(s)** (10 points): Describe the dataset(s) you have chosen, e.g.,\n",
    "  - How can this dataset be retrieved?\n",
    "  - How is this dataset related to the topic?\n",
    "  - State the amount of data you will be working with.\n",
    "  - If more than one datasets are included, state how you intend to relate them.\n",
    "- **Questions of interest** (20 points): State five to six questions you are interested in answering with the selected datasets.  For each question, briefly describe:\n",
    "  - How do you intend to answer the question?  Suggest a possible analysis.\n",
    "  - *This should be the focus of your proposal.*\n",
    "- **Reference** (5 points): Provide valid references for your dataset(s). (Reference does not count toward the page limit.)\n",
    "  - For example, using APA guidelines, the MIMIC-III database can be cited as\n",
    "    > Johnson, A., Pollard, T., & Mark, R. (2016). MIMIC-III Clinical Database (version 1.4). *PhysioNet*. https://doi.org/10.13026/C2XW26.\n",
    "  - or the original article \n",
    "    > Johnson, A. E., Pollard, T. J., Shen, L., Lehman, L. W. H., Feng, M., Ghassemi, M., ... & Mark, R. G. (2016). MIMIC-III, a freely accessible critical care database. *Scientific data*, 3(1), 1-9.\n",
    "  "
   ]
  },
  {
   "cell_type": "markdown",
   "id": "b54baead-387e-42b1-b91d-99f07e42b1c7",
   "metadata": {},
   "source": [
    "### Potential dataset sources\n",
    "A list of datasets is available for you to choose from.  The link to the list of datasets is as follows:\n",
    "> https://docs.google.com/spreadsheets/d/1pobrIcFPoDUd8KU8yWKpWmSAZH4FV2m8Otyas1XxPxg/edit?usp=sharing\n",
    "\n",
    "If you are selecting any datasets outside of this list, communicate with the instructor for approval before the project proposal is due."
   ]
  },
  {
   "cell_type": "markdown",
   "id": "a640df96-bdce-4915-a450-93282e9616da",
   "metadata": {},
   "source": [
    "### Proposal feedback mechanism\n",
    "You will receive feedback on your proposal within one week of submission.  \n",
    "\n",
    "Since your proposal consists of significant portions for the final report, your proposal grade may improve upon incorporating of feedback in the final report in a satisfactory manner."
   ]
  },
  {
   "cell_type": "markdown",
   "id": "0ca55a5c-ffba-456b-bf55-5c48cee5cb5a",
   "metadata": {},
   "source": [
    "## Project presentation"
   ]
  },
  {
   "cell_type": "markdown",
   "id": "7f1deb49-6dbd-4b59-9d0b-91575a8af4a2",
   "metadata": {},
   "source": [
    "Prepare an in-class presentation for May 28 and 30, 2024.  The presentation schedule will be published on Canvas.\n",
    "\n",
    "**Submission:** Your slides (either a `.pptx` or a `.pdf` file) should be submitted by May 28 noon on Canvas."
   ]
  },
  {
   "cell_type": "markdown",
   "id": "8e561d44-a36b-4fc2-b48b-3c8531943e87",
   "metadata": {
    "jp-MarkdownHeadingCollapsed": true
   },
   "source": [
    "### Guidelines for presentation (80 points)\n",
    "\n",
    "The presentation should be *up to 10 minutes*, with an additional 2-3 minutes for Q/A. \n",
    "\n",
    "The presentation should include *but not limited to* the following:\n",
    "\n",
    "- Motivation of your project.\n",
    "- Introduction to your dataset(s) and its relevance.\n",
    "- Key questions, method of analyses, and findings.\n",
    "  - You may choose to present **no less than two** of your proposed questions.  You can choose to present all five (or six?!) questions but *consider the time you need to present sufficiently for the audience's understanding.*  Choose what is important to you.\n",
    "  - *Tips:*\n",
    "    - Quality over quantity here.\n",
    "    - Provide an overall narrative that connects the questions, rather than jumping from one to another.\n",
    "- *(Optional, quick)* Major lesson learned or barrier in the project.\n",
    "- Summary."
   ]
  },
  {
   "cell_type": "markdown",
   "id": "2835c3e3-0099-4b77-8c4a-313844f7a298",
   "metadata": {},
   "source": [
    "### Guidelines for participation (20 points)"
   ]
  },
  {
   "cell_type": "markdown",
   "id": "821f877d-be4b-489f-b334-4b15aecaab9a",
   "metadata": {},
   "source": [
    "Visit https://padlet.com/yhc6909/de200_presentation for entering presentation feedback.\n",
    "\n",
    "For each presentation besides your own, enter your response (see pinned example).\n",
    "\n",
    "When leaving your response,\n",
    "- Include your full name.\n",
    "- Note one thing you have learned during the presentation.\n",
    "- Note one question you have during the presentation."
   ]
  },
  {
   "cell_type": "markdown",
   "id": "14bae79b-3ee9-4ea1-bc98-49eaa7cd09c3",
   "metadata": {},
   "source": [
    "### Grading criteria"
   ]
  },
  {
   "cell_type": "markdown",
   "id": "ad6bc9df-f86d-4952-a9fc-2cc756f4cf9a",
   "metadata": {},
   "source": [
    "The presentation is evaluated via the following criteria:\n",
    "- Organization of content\n",
    "- Appropriate use of language\n",
    "- Delivery\n",
    "- Use of supporting materials (visuals, statistics, etc.)\n",
    "- Clarity of central idea\n",
    "\n",
    "Note that while the evaluation is primarily for the entire group, evaluation may differ among students if significant discrepancy is observed.  You may refer to the [sample reference rubric](a1-presentation-rubric) for details."
   ]
  },
  {
   "cell_type": "markdown",
   "id": "37a50ce0-f5eb-4e52-a565-04465607c3e9",
   "metadata": {},
   "source": [
    "## Project report\n",
    "\n",
    "Prepare a project report to clearly convey your topic choice and its importance, your approach to analysis, and your findings."
   ]
  },
  {
   "cell_type": "markdown",
   "id": "b7d80e81-6bdc-4b32-8dc2-6e444ce2b87b",
   "metadata": {},
   "source": [
    "### Guidelines for report\n",
    "\n",
    "The report should follow this format (5 points):\n",
    "\n",
    "- Include full names of all teammates.\n",
    "  - This is a reminder that it is an academic violation to include your name on any work you have not contributed or performed.\n",
    "- Up to 15 pages, single-spaced, 11-point type, 1-inch margins.\n",
    "\n",
    "A pdf named [GroupName]_proposal.pdf should be submitted."
   ]
  },
  {
   "cell_type": "markdown",
   "id": "2cccbebd-4cc1-4624-86db-1d0cc3735dfb",
   "metadata": {},
   "source": [
    "The report should include the following components:\n",
    "\n",
    "- **Introduction** (15 points): Introduce your project and motivation, e.g.,\n",
    "  - Why is this topic important?\n",
    "  - In what way does this project provide a solution?\n",
    "- **Dataset(s)** (15 points): Describe the dataset(s) you have chosen, e.g.,\n",
    "  - How can this dataset be retrieved?\n",
    "  - How is this dataset related to the topic?\n",
    "  - State the amount of data you will be working with.\n",
    "  - If more than one datasets are included, state how you intend to relate them.\n",
    "- **Questions and analyses** (90 points): State five to six questions you are answering with the selected datasets.  For each question, provide the method of analysis, its implementation, and your findings.  Use any graph, table, or other visualization to support your findings.\n",
    "  - *Note:* Do not pad your reports with graphics.  Make sure any graphs you use are necessary and clearly presented.\n",
    "  - Graphics should be included in-text (but not side by side with any texts), referenced in the text, and described fully by the caption.\n",
    "- **Distribution of work** (10 points): Clearly describe the distribution of work among teammates. \n",
    "- **Summary** (10 points): Provide a brief summary of your project, and describe any loose ends or future opportunities.\n",
    "- **Generative AI statement** and **Reference** (5 points):\n",
    "  - Generative AI statement: If you have, in any way, employed the use of generative AI tools, report all usage according to the syllabus. *This statement does not count toward the page limit.*\n",
    "  - Reference: Provide valid references for your dataset(s) and any relevant sources you have cited. *Reference does not count toward the page limit.*\n",
    "    - For example, using APA guidelines, the MIMIC-III database can be cited as\n",
    "    > Johnson, A., Pollard, T., & Mark, R. (2016). MIMIC-III Clinical Database (version 1.4). *PhysioNet*. https://doi.org/10.13026/C2XW26.\n",
    "    - or the original article \n",
    "    > Johnson, A. E., Pollard, T. J., Shen, L., Lehman, L. W. H., Feng, M., Ghassemi, M., ... & Mark, R. G. (2016). MIMIC-III, a freely accessible critical care database. *Scientific data*, 3(1), 1-9.\n",
    "- **Appendix**: Include all code you have used in the appendix.  If you have used Tableau, submit the `.twbx` file(s) as supplementary materials. "
   ]
  }
 ],
 "metadata": {
  "kernelspec": {
   "display_name": "Python 3 (ipykernel)",
   "language": "python",
   "name": "python3"
  },
  "language_info": {
   "codemirror_mode": {
    "name": "ipython",
    "version": 3
   },
   "file_extension": ".py",
   "mimetype": "text/x-python",
   "name": "python",
   "nbconvert_exporter": "python",
   "pygments_lexer": "ipython3",
   "version": "3.11.5"
  }
 },
 "nbformat": 4,
 "nbformat_minor": 5
}
