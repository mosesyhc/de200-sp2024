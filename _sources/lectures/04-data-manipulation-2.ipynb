{
 "cells": [
  {
   "cell_type": "markdown",
   "id": "4abd1e78-cc90-44e4-83ce-86e7511cdebc",
   "metadata": {},
   "source": [
    "# `pandas` Part II\n",
    "\n",
    "This document continues to cover data manipulation with `pandas`, including aggregation, reorganizing, and merging data."
   ]
  },
  {
   "cell_type": "markdown",
   "id": "fbeb81f0-36c3-448b-a184-43668a895ee6",
   "metadata": {},
   "source": [
    "## Grouping data\n",
    "\n",
    "Grouping together that are in the same category to aggregate over rows in each category.\n",
    "\n",
    "Useful in \n",
    "- performing large operations, and\n",
    "- summarizing trends in a dataset."
   ]
  },
  {
   "cell_type": "markdown",
   "id": "dd53b6a5-27a0-4477-afae-0a7edf229da5",
   "metadata": {},
   "source": [
    "Say we have a dataset with baby naming frequency throughout the years.  Perhaps we are first interested in \n",
    "\n",
    "- how many babies are born in each year? (Good indicator of societal confidence..)"
   ]
  },
  {
   "cell_type": "markdown",
   "id": "b6e5ac39-445f-459f-819c-713deb18e15d",
   "metadata": {},
   "source": [
    "```{figure} ../img/pandas-group-schema.png\n",
    "---\n",
    "width: 80%\n",
    "name: pandas-group\n",
    "---\n",
    "Example of aggregation in `pandas` {cite:p}`lau2023learning`\n",
    "```"
   ]
  },
  {
   "cell_type": "code",
   "execution_count": 1,
   "id": "ba266c58-7369-40cc-b5c3-0c020bfa5e46",
   "metadata": {},
   "outputs": [],
   "source": [
    "import pandas as pd\n",
    "\n",
    "baby = pd.read_csv('../data/ssa-names.csv.zip')"
   ]
  },
  {
   "cell_type": "code",
   "execution_count": null,
   "id": "51c2e789-5f41-4b8b-9d3a-cfad60f95e9f",
   "metadata": {},
   "outputs": [],
   "source": [
    "# number of total babies\n",
    "baby['Count'].sum()"
   ]
  },
  {
   "cell_type": "markdown",
   "id": "778b1cad-883e-45f3-8c20-3c0e2e07306d",
   "metadata": {},
   "source": [
    "### Grouping and aggregating"
   ]
  },
  {
   "cell_type": "markdown",
   "id": "09459bf7-2be4-4857-94bf-304d461314a4",
   "metadata": {},
   "source": [
    "**How many babies are born each year?**"
   ]
  },
  {
   "cell_type": "code",
   "execution_count": null,
   "id": "f8f77a95-4a9d-4cdd-bf53-36d0f6464130",
   "metadata": {},
   "outputs": [],
   "source": [
    "counts_by_year = baby.groupby('Year')['Count'].sum()"
   ]
  },
  {
   "cell_type": "markdown",
   "id": "e89f8625-ccfd-42c0-b2a0-5f209eaaa03b",
   "metadata": {},
   "source": [
    "### A general recipe for grouping\n",
    "\n",
    "```python\n",
    "(baby                # the dataframe\n",
    " .groupby('Year')    # column(s) to group\n",
    " ['Count']           # column(s) to aggregate\n",
    " .sum()              # how to aggregate\n",
    ")\n",
    "\n",
    "# general form\n",
    "dataframe.groupby(column_name).agg(aggregation_function)\n",
    "```"
   ]
  },
  {
   "cell_type": "markdown",
   "id": "1ebb0039-cc75-43f3-9096-1bfc3573bac7",
   "metadata": {},
   "source": [
    "### Grouping by multiple attributes\n",
    "\n",
    "**How many female and male babies are born each year?**"
   ]
  },
  {
   "cell_type": "code",
   "execution_count": null,
   "id": "50c4c960-bdda-4b2a-8d6c-47792bbc2174",
   "metadata": {},
   "outputs": [],
   "source": [
    "counts_by_year_and_sex = baby.groupby(['Year', 'Sex'])['Count'].sum()\n",
    "counts_by_year_and_sex"
   ]
  },
  {
   "cell_type": "markdown",
   "id": "8e92f7f8-53a4-4f8f-995a-7d7fef38bb28",
   "metadata": {},
   "source": [
    "### Aggregating by a custom function"
   ]
  },
  {
   "cell_type": "markdown",
   "id": "80df9d6b-1607-4da4-a89e-07597827623b",
   "metadata": {},
   "source": [
    "**What about number of unique names by year?**"
   ]
  },
  {
   "cell_type": "code",
   "execution_count": null,
   "id": "853b2631-7f2a-4a59-9b70-6a69a5bc65f5",
   "metadata": {
    "scrolled": true
   },
   "outputs": [],
   "source": [
    "def count_unique(names):\n",
    "    return len(names.unique())\n",
    "\n",
    "unique_names_by_year = (baby\n",
    " .groupby('Year')\n",
    " ['Name']\n",
    " .agg(count_unique) # aggregate using the custom count_unique function\n",
    ")\n",
    "unique_names_by_year"
   ]
  },
  {
   "cell_type": "markdown",
   "id": "1d7fcc1e-28cc-4dde-a9f6-180da0b63f13",
   "metadata": {},
   "source": [
    "## Apply\n",
    "The `Series.apply()` function applies an arbitrary function on each row entry.\n",
    "\n",
    "**Retrieve first letter of name**"
   ]
  },
  {
   "cell_type": "code",
   "execution_count": 2,
   "id": "7d019df2-91fb-45a4-872d-68787682a3f0",
   "metadata": {},
   "outputs": [],
   "source": [
    "def get_first_letter(s):\n",
    "    return s[0]  # assumes string input"
   ]
  },
  {
   "cell_type": "code",
   "execution_count": 3,
   "id": "1404ae44-b6cb-4857-b474-11a5fd3de26b",
   "metadata": {},
   "outputs": [
    {
     "data": {
      "text/plain": [
       "0          M\n",
       "1          V\n",
       "2          E\n",
       "3          R\n",
       "4          M\n",
       "          ..\n",
       "6311499    Z\n",
       "6311500    Z\n",
       "6311501    Z\n",
       "6311502    Z\n",
       "6311503    Z\n",
       "Name: Name, Length: 6311504, dtype: object"
      ]
     },
     "execution_count": 3,
     "metadata": {},
     "output_type": "execute_result"
    }
   ],
   "source": [
    "names = baby['Name']\n",
    "names.apply(get_first_letter)"
   ]
  },
  {
   "cell_type": "markdown",
   "id": "b791dd40-0ef4-4263-8718-8284b44aea98",
   "metadata": {},
   "source": [
    "**Number of letters in name**"
   ]
  },
  {
   "cell_type": "markdown",
   "id": "43c8ecd1-8ba6-44ee-83a4-7db234cf375b",
   "metadata": {},
   "source": [
    "### Quick word about `apply()` effectiveness"
   ]
  },
  {
   "cell_type": "markdown",
   "id": "4fe71004-780b-476e-b8c7-ebc6d62463cb",
   "metadata": {},
   "source": [
    "The `apply()` function is flexible, accommodating custom operations.  But it is *slow*."
   ]
  },
  {
   "cell_type": "code",
   "execution_count": null,
   "id": "a24d730b-0848-4db3-afc7-988d1e0ea169",
   "metadata": {},
   "outputs": [],
   "source": []
  },
  {
   "cell_type": "markdown",
   "id": "45e4cd68-fc7e-447e-8da4-32c1145f4aeb",
   "metadata": {},
   "source": [
    "## Pivoting\n",
    "Pivoting is one way to organize and present data, by arranging the results of a group and aggregation when grouping with two columns."
   ]
  },
  {
   "cell_type": "markdown",
   "id": "11860d07-e06b-4d57-ade3-410ba383d288",
   "metadata": {},
   "source": [
    "```{figure} ../img/pandas-pivot.png\n",
    "---\n",
    "width: 80%\n",
    "name: pandas-pivot\n",
    "---\n",
    "Example of pivoting in `pandas` (Data 100)\n",
    "```"
   ]
  },
  {
   "cell_type": "code",
   "execution_count": 55,
   "id": "b40c8c3c-0159-4ccc-bc2e-f1ece7461d64",
   "metadata": {},
   "outputs": [
    {
     "data": {
      "text/html": [
       "<div>\n",
       "<style scoped>\n",
       "    .dataframe tbody tr th:only-of-type {\n",
       "        vertical-align: middle;\n",
       "    }\n",
       "\n",
       "    .dataframe tbody tr th {\n",
       "        vertical-align: top;\n",
       "    }\n",
       "\n",
       "    .dataframe thead th {\n",
       "        text-align: right;\n",
       "    }\n",
       "</style>\n",
       "<table border=\"1\" class=\"dataframe\">\n",
       "  <thead>\n",
       "    <tr style=\"text-align: right;\">\n",
       "      <th>Sex</th>\n",
       "      <th>F</th>\n",
       "      <th>M</th>\n",
       "    </tr>\n",
       "    <tr>\n",
       "      <th>Year</th>\n",
       "      <th></th>\n",
       "      <th></th>\n",
       "    </tr>\n",
       "  </thead>\n",
       "  <tbody>\n",
       "    <tr>\n",
       "      <th>1910</th>\n",
       "      <td>352089</td>\n",
       "      <td>164223</td>\n",
       "    </tr>\n",
       "    <tr>\n",
       "      <th>1911</th>\n",
       "      <td>372382</td>\n",
       "      <td>193441</td>\n",
       "    </tr>\n",
       "    <tr>\n",
       "      <th>1912</th>\n",
       "      <td>504299</td>\n",
       "      <td>383704</td>\n",
       "    </tr>\n",
       "    <tr>\n",
       "      <th>1913</th>\n",
       "      <td>566973</td>\n",
       "      <td>461606</td>\n",
       "    </tr>\n",
       "    <tr>\n",
       "      <th>1914</th>\n",
       "      <td>696907</td>\n",
       "      <td>596441</td>\n",
       "    </tr>\n",
       "    <tr>\n",
       "      <th>...</th>\n",
       "      <td>...</td>\n",
       "      <td>...</td>\n",
       "    </tr>\n",
       "    <tr>\n",
       "      <th>2017</th>\n",
       "      <td>1405262</td>\n",
       "      <td>1606186</td>\n",
       "    </tr>\n",
       "    <tr>\n",
       "      <th>2018</th>\n",
       "      <td>1382391</td>\n",
       "      <td>1570957</td>\n",
       "    </tr>\n",
       "    <tr>\n",
       "      <th>2019</th>\n",
       "      <td>1360299</td>\n",
       "      <td>1545678</td>\n",
       "    </tr>\n",
       "    <tr>\n",
       "      <th>2020</th>\n",
       "      <td>1303090</td>\n",
       "      <td>1478890</td>\n",
       "    </tr>\n",
       "    <tr>\n",
       "      <th>2021</th>\n",
       "      <td>1320095</td>\n",
       "      <td>1492780</td>\n",
       "    </tr>\n",
       "  </tbody>\n",
       "</table>\n",
       "<p>112 rows × 2 columns</p>\n",
       "</div>"
      ],
      "text/plain": [
       "Sex         F        M\n",
       "Year                  \n",
       "1910   352089   164223\n",
       "1911   372382   193441\n",
       "1912   504299   383704\n",
       "1913   566973   461606\n",
       "1914   696907   596441\n",
       "...       ...      ...\n",
       "2017  1405262  1606186\n",
       "2018  1382391  1570957\n",
       "2019  1360299  1545678\n",
       "2020  1303090  1478890\n",
       "2021  1320095  1492780\n",
       "\n",
       "[112 rows x 2 columns]"
      ]
     },
     "execution_count": 55,
     "metadata": {},
     "output_type": "execute_result"
    }
   ],
   "source": [
    "mf_pivot = pd.pivot_table(\n",
    "    baby,\n",
    "    index='Year',   # Column to turn into new index\n",
    "    columns='Sex',  # Column to turn into new columns\n",
    "    values='Count', # Column to aggregate for values\n",
    "    aggfunc='sum')    # Aggregation function\n",
    "mf_pivot"
   ]
  },
  {
   "cell_type": "markdown",
   "id": "83520d69-80a9-4252-a9b1-8dc29ffeccb1",
   "metadata": {},
   "source": [
    "## Melting\n",
    "Melting is the \"reverse\" of pivoting, transforming *wide* tables into *long* tables."
   ]
  },
  {
   "cell_type": "code",
   "execution_count": null,
   "id": "be8dfd2f-13af-4d9f-8cbb-7852c8d784b0",
   "metadata": {},
   "outputs": [],
   "source": [
    "mf_long = mf_pivot.reset_index().melt(\n",
    "    id_vars='Year', # column that uniquely identifies a row (can be multiple)\n",
    "    var_name='Sex', # name for the new column created by melting\n",
    "    value_name='Count' # name for new column containing values from melted columns\n",
    ")\n",
    "mf_long"
   ]
  },
  {
   "cell_type": "markdown",
   "id": "3636d2e0-a8d8-45f7-a543-a7c294f21f3d",
   "metadata": {},
   "source": [
    "*Why do we need* `reset_index()`?"
   ]
  },
  {
   "cell_type": "markdown",
   "id": "8475a616-d839-4af6-9cdb-745822ba4352",
   "metadata": {},
   "source": [
    "## Practice 3"
   ]
  },
  {
   "cell_type": "markdown",
   "id": "2656cec9-2f4b-4a8e-95ce-350dea33c13d",
   "metadata": {},
   "source": [
    "Using the baby names data, find the names with most occurrences in each year for both sexes."
   ]
  },
  {
   "cell_type": "code",
   "execution_count": null,
   "id": "740a3c63-c255-49e8-b67f-c350bc5047ef",
   "metadata": {},
   "outputs": [],
   "source": []
  },
  {
   "cell_type": "markdown",
   "id": "19495d65-8b11-498e-92e6-e9d7f647f403",
   "metadata": {},
   "source": [
    "Using the meteorite data from the `Meteorite_Landings.csv` file, \n",
    "\n",
    "1. use `groupby` to examine the number of meteors recorded each year.\n",
    "2. use `groupby` to find the heaviest meteorite from each year and report its name and mass.\n",
    "3. create a pivot table that shows for each year\n",
    "    - the number of meteorites, and\n",
    "    - the 95th percentile of meteorite mass.\n",
    "4. create a pivot table to compare for each year\n",
    "    - the 5%, 25%, 50%, 75%, and 95% percentile of the mass column for the meteorites that were found versus observed falling.\n",
    "5. melt the two tables above to create a *long*-format table."
   ]
  },
  {
   "cell_type": "code",
   "execution_count": 40,
   "id": "ac10f012-deda-4149-913f-98746edd1a35",
   "metadata": {},
   "outputs": [],
   "source": [
    "meteor = pd.read_csv('../data/Meteorite_Landings.csv')"
   ]
  },
  {
   "cell_type": "code",
   "execution_count": 41,
   "id": "e9499134-4926-4760-b3f2-95220bfbca26",
   "metadata": {},
   "outputs": [
    {
     "name": "stdout",
     "output_type": "stream",
     "text": [
      "<class 'pandas.core.frame.DataFrame'>\n",
      "RangeIndex: 45716 entries, 0 to 45715\n",
      "Data columns (total 10 columns):\n",
      " #   Column       Non-Null Count  Dtype  \n",
      "---  ------       --------------  -----  \n",
      " 0   name         45716 non-null  object \n",
      " 1   id           45716 non-null  int64  \n",
      " 2   nametype     45716 non-null  object \n",
      " 3   recclass     45716 non-null  object \n",
      " 4   mass (g)     45585 non-null  float64\n",
      " 5   fall         45716 non-null  object \n",
      " 6   year         45425 non-null  float64\n",
      " 7   reclat       38401 non-null  float64\n",
      " 8   reclong      38401 non-null  float64\n",
      " 9   GeoLocation  38401 non-null  object \n",
      "dtypes: float64(4), int64(1), object(5)\n",
      "memory usage: 3.5+ MB\n"
     ]
    }
   ],
   "source": [
    "meteor.info()"
   ]
  },
  {
   "cell_type": "code",
   "execution_count": null,
   "id": "c9c7593d-e8a9-4197-a6dc-165a37748a0e",
   "metadata": {},
   "outputs": [],
   "source": []
  }
 ],
 "metadata": {
  "kernelspec": {
   "display_name": "Python 3 (ipykernel)",
   "language": "python",
   "name": "python3"
  },
  "language_info": {
   "codemirror_mode": {
    "name": "ipython",
    "version": 3
   },
   "file_extension": ".py",
   "mimetype": "text/x-python",
   "name": "python",
   "nbconvert_exporter": "python",
   "pygments_lexer": "ipython3",
   "version": "3.11.8"
  }
 },
 "nbformat": 4,
 "nbformat_minor": 5
}
