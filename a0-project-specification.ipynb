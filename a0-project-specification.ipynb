{
 "cells": [
  {
   "cell_type": "markdown",
   "id": "1eb13d5f-a5dd-49d6-9520-b0bd314fb407",
   "metadata": {},
   "source": [
    "# Project Specification\n",
    "\n"
   ]
  },
  {
   "cell_type": "markdown",
   "id": "d6b483df-c054-40ad-82b5-525c5e9e786d",
   "metadata": {},
   "source": [
    "## Task overview\n",
    "You will be tasked to \n",
    "\n",
    "1. Identify one or more datasets of your interest,\n",
    "2. Design questions surrounding the data,\n",
    "3. Conduct analyses, and\n",
    "4. Communicate your findings."
   ]
  },
  {
   "cell_type": "markdown",
   "id": "e9d2c4e0-78d1-4406-ace1-410388d40748",
   "metadata": {
    "jp-MarkdownHeadingCollapsed": true
   },
   "source": [
    "### Group formation\n",
    "The project group may consist of 2 to 3 students.  The declared group should be included in the project proposal."
   ]
  },
  {
   "cell_type": "markdown",
   "id": "14be4139-cf42-47c8-9463-3f0ce0181111",
   "metadata": {},
   "source": [
    "## Project grading \n",
    "The project is worth 20% of the class grade, with the following details:\n",
    "\n",
    "|                     |                        |                   |\n",
    "|---------------------|:----------------------:|:-----------------:|\n",
    "|                     |   **Due date**         |    **Points**     |\n",
    "| Proposal            | May 7                  |       50          |\n",
    "| Presentations       | all slides due May 28  |      100          |\n",
    "| Report              | June 4                 |      150          |\n",
    "| **Total**           |                        |      300          |"
   ]
  },
  {
   "cell_type": "markdown",
   "id": "eb29e4bb-2fb6-4e5b-9fec-89fcd4ae20d5",
   "metadata": {},
   "source": [
    "## Project proposal\n",
    "\n",
    "Develop a proposal that includes your topic, the selection of relevant dataset(s), and a plan to answer questions of interests.  Keep in mind the timeline of the quarter and set achievable goals.\n",
    "\n",
    "The proposal will contain several parts of your project report.  You may incorporate feedback from the proposal to improve your project report."
   ]
  },
  {
   "cell_type": "markdown",
   "id": "6673f418-622e-4fe2-89ea-ba0970a7dea3",
   "metadata": {},
   "source": [
    "### Canvas project team declaration\n",
    "After forming your team of 2 - 3 students, add your group on **Canvas -> People -> Groups -> + Group**.\n",
    "\n",
    "Only form a group with explicit approval given by your teammates."
   ]
  },
  {
   "cell_type": "markdown",
   "id": "ddd9a442-540f-40d4-964c-fe1586ef6ca4",
   "metadata": {},
   "source": [
    "### Guidelines for proposal\n",
    "\n",
    "The proposal should follow this format (5 points): \n",
    "\n",
    "- Include full names of all teammates.\n",
    "- Between 1 to 2 pages, single-spaced, 11-point type, 1-inch margins.\n",
    "- Do not include graphics.\n",
    "- A pdf named `[GroupName]_proposal.pdf` should be submitted.  Decide on the name of your group.\n",
    "\n",
    "The proposal should include the following components:\n",
    "\n",
    "- **Introduction** (10 points): Introduce your project and motivation, e.g.,\n",
    "  - Why is this topic important?\n",
    "  - In what way does this project provide a solution?\n",
    "- **Dataset(s)** (10 points): Describe the dataset(s) you have chosen, e.g.,\n",
    "  - How can this dataset be retrieved?\n",
    "  - How is this dataset related to the topic?\n",
    "  - State the amount of data you will be working with.\n",
    "  - If more than one datasets are included, state how you intend to relate them.\n",
    "- **Questions of interest** (20 points): State five to six questions you are interested in answering with the selected datasets.  For each question, briefly describe:\n",
    "  - How do you intend to answer the question?  Suggest a possible analysis.\n",
    "  - *This should be the focus of your proposal.*\n",
    "- **Reference** (5 points): Provide valid references for your dataset(s). (Reference does not count toward the page limit.)\n",
    "  - For example, using APA guidelines, the MIMIC-III database can be cited as\n",
    "    > Johnson, A., Pollard, T., & Mark, R. (2016). MIMIC-III Clinical Database (version 1.4). *PhysioNet*. https://doi.org/10.13026/C2XW26.\n",
    "  - or the original article \n",
    "    > Johnson, A. E., Pollard, T. J., Shen, L., Lehman, L. W. H., Feng, M., Ghassemi, M., ... & Mark, R. G. (2016). MIMIC-III, a freely accessible critical care database. *Scientific data*, 3(1), 1-9.\n",
    "  "
   ]
  },
  {
   "cell_type": "markdown",
   "id": "b54baead-387e-42b1-b91d-99f07e42b1c7",
   "metadata": {},
   "source": [
    "### Potential dataset sources\n",
    "A list of datasets is available for you to choose from.  The link to the list of datasets is as follows:\n",
    "> https://docs.google.com/spreadsheets/d/1pobrIcFPoDUd8KU8yWKpWmSAZH4FV2m8Otyas1XxPxg/edit?usp=sharing\n",
    "\n",
    "If you are selecting any datasets outside of this list, communicate with the instructor for approval before the project proposal is due."
   ]
  },
  {
   "cell_type": "markdown",
   "id": "a640df96-bdce-4915-a450-93282e9616da",
   "metadata": {},
   "source": [
    "### Proposal feedback mechanism\n",
    "You will receive feedback on your proposal within one week of submission.  \n",
    "\n",
    "Since your proposal consists of significant portions for the final report, your proposal grade may improve upon incorporating of feedback in the final report in a satisfactory manner."
   ]
  }
 ],
 "metadata": {
  "kernelspec": {
   "display_name": "Python 3 (ipykernel)",
   "language": "python",
   "name": "python3"
  },
  "language_info": {
   "codemirror_mode": {
    "name": "ipython",
    "version": 3
   },
   "file_extension": ".py",
   "mimetype": "text/x-python",
   "name": "python",
   "nbconvert_exporter": "python",
   "pygments_lexer": "ipython3",
   "version": "3.11.5"
  }
 },
 "nbformat": 4,
 "nbformat_minor": 5
}
