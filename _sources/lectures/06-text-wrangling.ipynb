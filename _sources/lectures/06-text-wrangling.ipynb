{
 "cells": [
  {
   "cell_type": "markdown",
   "id": "645f39eb-34e2-48a6-bc85-9934bc80cd75",
   "metadata": {},
   "source": [
    "# Handling text with string methods\n",
    "\n",
    "This document deals with handling text, a generally challenging task in data anaylses.  We will cover general `str` methods and introduce regular expressions (regex) to identify patterns in strings."
   ]
  },
  {
   "cell_type": "markdown",
   "id": "5ee38626-60d3-4540-98d2-a00bf45c08df",
   "metadata": {},
   "source": [
    "## Why is handling text important?\n",
    "\n",
    "We will illustrate with several examples.\n",
    "\n",
    "**Predicting stock returns**"
   ]
  },
  {
   "cell_type": "markdown",
   "id": "de96a8f8-c5c6-4d63-8e95-0dc924468df2",
   "metadata": {},
   "source": [
    "```{figure} ../img/text-financial-sentiment.png\n",
    "---\n",
    "width: 100%\n",
    "name: text-financial\n",
    "---\n",
    "Truncated table of positive and negative text for predicting stock returns {cite:p}`glasserman2020choosing`\n",
    "```"
   ]
  },
  {
   "cell_type": "markdown",
   "id": "9b708f7f-f52d-49d3-bac0-c601fb461332",
   "metadata": {},
   "source": [
    "**Parsing clinical notes**"
   ]
  },
  {
   "cell_type": "markdown",
   "id": "7a3f3729-9399-4830-a9f2-7bffca447d23",
   "metadata": {},
   "source": [
    "```{figure} ../img/text-clinical-notes.png\n",
    "---\n",
    "width: 60%\n",
    "name: text-clinical\n",
    "---\n",
    "Text importance in long-term mortality prediction {cite:p}`mahbub2022unstructured`\n",
    "```"
   ]
  },
  {
   "cell_type": "markdown",
   "id": "154c841f-4ee6-412f-ba25-6827185bb3ae",
   "metadata": {},
   "source": [
    "**Untangling inspection violations**"
   ]
  },
  {
   "cell_type": "code",
   "execution_count": 1,
   "id": "ca07ef7d-d998-4b88-ab27-ca4bcb314fa8",
   "metadata": {},
   "outputs": [],
   "source": [
    "import pandas as pd\n",
    "food = pd.read_csv('../data/inspections.csv')"
   ]
  },
  {
   "cell_type": "code",
   "execution_count": 2,
   "id": "e16e5093-dd47-42e9-baf6-c7133d3bfbfa",
   "metadata": {},
   "outputs": [],
   "source": [
    "violations = food['Violations']"
   ]
  },
  {
   "cell_type": "code",
   "execution_count": 3,
   "id": "7b4b122a-9274-4401-bc51-e9e4f4276ba7",
   "metadata": {},
   "outputs": [
    {
     "data": {
      "text/plain": [
       "0    58. ALLERGEN TRAINING AS REQUIRED - Comments: ...\n",
       "2    10. ADEQUATE HANDWASHING SINKS PROPERLY SUPPLI...\n",
       "6    1. PERSON IN CHARGE PRESENT, DEMONSTRATES KNOW...\n",
       "7    37. FOOD PROPERLY LABELED; ORIGINAL CONTAINER ...\n",
       "9    3. MANAGEMENT, FOOD EMPLOYEE AND CONDITIONAL E...\n",
       "Name: Violations, dtype: object"
      ]
     },
     "execution_count": 3,
     "metadata": {},
     "output_type": "execute_result"
    }
   ],
   "source": [
    "violations[~violations.isna()].head()"
   ]
  },
  {
   "cell_type": "code",
   "execution_count": 4,
   "id": "034f12f3-93f6-4123-becb-8d095d1e8b13",
   "metadata": {},
   "outputs": [
    {
     "data": {
      "text/plain": [
       "\"58. ALLERGEN TRAINING AS REQUIRED - Comments: OBSERVED THE CERTIFIED FOOD MANAGER WITHOUT AN ALLERGEN TRAINING CERTIFICATE.  MANAGEMENT INSTRUCTED THAT ALL CERTIFIED FOOD MANAGERS MUST SHOW PROOF OF TRAINING. | 61. SUMMARY REPORT DISPLAYED AND VISIBLE TO THE PUBLIC - Comments: THE PREVIOUS INSPECTION REPORT SUMMARY FROM 10/25/23 WAS NOT POSTED IN THE PUBLIC VIEW.  AN INSPECTION REPORT SUMMARY FROM 2022 WAS POSTED INSTEAD.  MANAGEMENT WAS GIVEN A COPY OF TODAY'S INSPECTION REPORT SUMMARY AND WAS INSTRUCTED TO POST IT IN THE PUBLIC VIEW.  PRIORITY FOUNDATION VIOLATION 7-42-010(B).  CITATION ISSUED.\""
      ]
     },
     "execution_count": 4,
     "metadata": {},
     "output_type": "execute_result"
    }
   ],
   "source": [
    "violations[0]"
   ]
  },
  {
   "cell_type": "markdown",
   "id": "e526ed7b-8e71-4a32-bcfe-10fd909056ed",
   "metadata": {},
   "source": [
    "## Why is handling text difficult?\n",
    "\n",
    "-\n"
   ]
  },
  {
   "cell_type": "markdown",
   "id": "a0d906a4-0ec0-49d4-9d8b-b1f87cadbe49",
   "metadata": {},
   "source": [
    "## Two primary goals of handling text\n",
    "\n",
    "1. Canonicalization : transforming text of different representations into a standard form."
   ]
  },
  {
   "cell_type": "markdown",
   "id": "47e6084d-dc9d-4884-a34b-da4fa465cedb",
   "metadata": {},
   "source": [
    "```{figure} ../img/text-canon.png\n",
    "---\n",
    "width: 70%\n",
    "name: text-canon\n",
    "---\n",
    "Example of canonization for joining tables with mismatched labels (DS 100).\n",
    "```"
   ]
  },
  {
   "cell_type": "markdown",
   "id": "9dedf987-b2ab-415f-b5ff-c24c6c418a54",
   "metadata": {},
   "source": [
    "2. Extraction: extracting information into useful features.\n",
    "\n",
    "Example: extracting dates, times, and other information from log files:\n",
    "\n",
    "```\n",
    "169.237.46.168 - - [26/Jan/2024:10:47:58 -0800] \"GET /cs150/Winter24/ HTTP/1.1\" 200 2585 \"http://cs.northwestern.edu/courses\"\n",
    "```\n",
    "\n",
    "```\n",
    "day, month, year = \"26\", \"Jan\", \"2024\"\n",
    "hour, minute, seconds = \"10\", \"47\", \"58\"\n",
    "```"
   ]
  },
  {
   "cell_type": "markdown",
   "id": "e0cac68a-7ab4-489a-a863-c2f898c41989",
   "metadata": {},
   "source": [
    "## Python string methods and `pandas` `str`\n",
    "In base Python, manipulating strings is possible through various string methods."
   ]
  },
  {
   "cell_type": "code",
   "execution_count": 6,
   "id": "51e517a4-fcad-4535-98ee-5a600bd384bf",
   "metadata": {},
   "outputs": [
    {
     "data": {
      "text/plain": [
       "'ABC,123,$%^&'"
      ]
     },
     "execution_count": 6,
     "metadata": {},
     "output_type": "execute_result"
    }
   ],
   "source": [
    "s = \"ABC,123,$%^&\"\n",
    "s"
   ]
  },
  {
   "cell_type": "code",
   "execution_count": 7,
   "id": "ab3a2157-59e3-494d-8d17-b44d92470a4f",
   "metadata": {},
   "outputs": [
    {
     "data": {
      "text/plain": [
       "'abc,123,$%^&'"
      ]
     },
     "execution_count": 7,
     "metadata": {},
     "output_type": "execute_result"
    }
   ],
   "source": [
    "s.lower()"
   ]
  },
  {
   "cell_type": "code",
   "execution_count": 8,
   "id": "fa7f4d39-003a-4c96-9cc1-e5b0fd72cccb",
   "metadata": {},
   "outputs": [
    {
     "data": {
      "text/plain": [
       "'ABC,123,$%^&'"
      ]
     },
     "execution_count": 8,
     "metadata": {},
     "output_type": "execute_result"
    }
   ],
   "source": [
    "s.upper()"
   ]
  },
  {
   "cell_type": "code",
   "execution_count": 9,
   "id": "ed6b5ee9-8466-4c43-9c85-3bc4b49c00a8",
   "metadata": {},
   "outputs": [
    {
     "data": {
      "text/plain": [
       "'ABC 123 $%^&'"
      ]
     },
     "execution_count": 9,
     "metadata": {},
     "output_type": "execute_result"
    }
   ],
   "source": [
    "s.replace(',', ' ')"
   ]
  },
  {
   "cell_type": "code",
   "execution_count": 10,
   "id": "51a83fdc-bf3d-4406-b637-85bc9fce28a4",
   "metadata": {},
   "outputs": [
    {
     "data": {
      "text/plain": [
       "['ABC', '123', '$%^&']"
      ]
     },
     "execution_count": 10,
     "metadata": {},
     "output_type": "execute_result"
    }
   ],
   "source": [
    "s.split(',')"
   ]
  },
  {
   "cell_type": "code",
   "execution_count": 11,
   "id": "6d68a839-ab76-46f7-b829-54c37e393f84",
   "metadata": {},
   "outputs": [
    {
     "data": {
      "text/plain": [
       "True"
      ]
     },
     "execution_count": 11,
     "metadata": {},
     "output_type": "execute_result"
    }
   ],
   "source": [
    "'AB' in s"
   ]
  },
  {
   "cell_type": "code",
   "execution_count": 12,
   "id": "f15d9906-dcdf-4dd2-9f76-526432435a48",
   "metadata": {},
   "outputs": [
    {
     "data": {
      "text/plain": [
       "12"
      ]
     },
     "execution_count": 12,
     "metadata": {},
     "output_type": "execute_result"
    }
   ],
   "source": [
    "len(s)"
   ]
  },
  {
   "cell_type": "code",
   "execution_count": 13,
   "id": "13c7879d-0366-406c-93a1-6b9aae2d4cc6",
   "metadata": {},
   "outputs": [
    {
     "data": {
      "text/plain": [
       "',$'"
      ]
     },
     "execution_count": 13,
     "metadata": {},
     "output_type": "execute_result"
    }
   ],
   "source": [
    "s[7:9]"
   ]
  },
  {
   "cell_type": "markdown",
   "id": "347d89c9-7d03-49cc-8973-546ebde54abe",
   "metadata": {},
   "source": [
    "**Issue?**\n",
    "Although the string operations are useful (*recall our `apply()` function*), Python assumes we work with one string at a time.\n",
    "\n",
    "Looping over each entry of a large dataset becomes slow."
   ]
  },
  {
   "cell_type": "markdown",
   "id": "480a42a0-6935-4251-b346-959166b54b1c",
   "metadata": {},
   "source": [
    "In `pandas`, most of the operations are vectorized to perform on multiple entries simultaneously.\n",
    "\n",
    "|       Operation      | Python (single string)  |   `pandas` (Series of strings) |\n",
    "|:--------------------:|:------------------------|:-------------------------------|\n",
    "| transformation       | `s.lower()`, `s.upper()`    | `ser.str.lower()`, `ser.str.upper()` |\n",
    "| replacement/deletion | `s.replace(...)`            | `ser.str.replace(...)`             |\n",
    "| split                | `s.split(...)`              | `ser.str.split(...)`               |\n",
    "| substring            | `s[1:4]`                  | `ser.str[1:4]`                   |\n",
    "| membership           | `'ab' in s`               | `ser.str.contains(...)`            |\n",
    "| length               | `len(s)`                  | `ser.str.len()`                  |"
   ]
  },
  {
   "cell_type": "markdown",
   "id": "3b3feec5-beb6-4190-8f02-3d0d16caf24b",
   "metadata": {},
   "source": [
    "## Practice 5 - canonicalization \n",
    "Combine the following two tables into one, showing the county, state, and population as columns."
   ]
  },
  {
   "cell_type": "code",
   "execution_count": 15,
   "id": "b5cbd281-f68e-40e1-886b-1bbb09885580",
   "metadata": {},
   "outputs": [],
   "source": [
    "import io\n",
    "import pandas as pd\n",
    "\n",
    "county_population = pd.read_csv(\n",
    "    io.StringIO('''County,Population\n",
    "    DeWitt,16798\n",
    "    Lac Qui Parle,8067\n",
    "    Lewis & Clark,55716\n",
    "    St. John the Baptist,43044'''))\n",
    "\n",
    "county_state = pd.read_csv(\n",
    "    io.StringIO('''County,State\n",
    "    De Witt County,IL\n",
    "    Lac qui Parle County,MN\n",
    "    Lewis and Clark County,MT\n",
    "    St John the Baptist Parish,LS'''))"
   ]
  },
  {
   "cell_type": "code",
   "execution_count": 16,
   "id": "895d3c45-5e25-4017-8adf-58ff2979251d",
   "metadata": {},
   "outputs": [
    {
     "data": {
      "text/html": [
       "<div>\n",
       "<style scoped>\n",
       "    .dataframe tbody tr th:only-of-type {\n",
       "        vertical-align: middle;\n",
       "    }\n",
       "\n",
       "    .dataframe tbody tr th {\n",
       "        vertical-align: top;\n",
       "    }\n",
       "\n",
       "    .dataframe thead th {\n",
       "        text-align: right;\n",
       "    }\n",
       "</style>\n",
       "<table border=\"1\" class=\"dataframe\">\n",
       "  <thead>\n",
       "    <tr style=\"text-align: right;\">\n",
       "      <th></th>\n",
       "      <th>County</th>\n",
       "      <th>State</th>\n",
       "    </tr>\n",
       "  </thead>\n",
       "  <tbody>\n",
       "    <tr>\n",
       "      <th>0</th>\n",
       "      <td>De Witt County</td>\n",
       "      <td>IL</td>\n",
       "    </tr>\n",
       "    <tr>\n",
       "      <th>1</th>\n",
       "      <td>Lac qui Parle County</td>\n",
       "      <td>MN</td>\n",
       "    </tr>\n",
       "    <tr>\n",
       "      <th>2</th>\n",
       "      <td>Lewis and Clark County</td>\n",
       "      <td>MT</td>\n",
       "    </tr>\n",
       "    <tr>\n",
       "      <th>3</th>\n",
       "      <td>St John the Baptist Parish</td>\n",
       "      <td>LS</td>\n",
       "    </tr>\n",
       "  </tbody>\n",
       "</table>\n",
       "</div>"
      ],
      "text/plain": [
       "                           County State\n",
       "0                  De Witt County    IL\n",
       "1            Lac qui Parle County    MN\n",
       "2          Lewis and Clark County    MT\n",
       "3      St John the Baptist Parish    LS"
      ]
     },
     "execution_count": 16,
     "metadata": {},
     "output_type": "execute_result"
    }
   ],
   "source": [
    "county_state"
   ]
  },
  {
   "cell_type": "code",
   "execution_count": 17,
   "id": "851f4711-27d8-40ab-81a4-8e42be9f8787",
   "metadata": {},
   "outputs": [
    {
     "data": {
      "text/html": [
       "<div>\n",
       "<style scoped>\n",
       "    .dataframe tbody tr th:only-of-type {\n",
       "        vertical-align: middle;\n",
       "    }\n",
       "\n",
       "    .dataframe tbody tr th {\n",
       "        vertical-align: top;\n",
       "    }\n",
       "\n",
       "    .dataframe thead th {\n",
       "        text-align: right;\n",
       "    }\n",
       "</style>\n",
       "<table border=\"1\" class=\"dataframe\">\n",
       "  <thead>\n",
       "    <tr style=\"text-align: right;\">\n",
       "      <th></th>\n",
       "      <th>County</th>\n",
       "      <th>Population</th>\n",
       "    </tr>\n",
       "  </thead>\n",
       "  <tbody>\n",
       "    <tr>\n",
       "      <th>0</th>\n",
       "      <td>DeWitt</td>\n",
       "      <td>16798</td>\n",
       "    </tr>\n",
       "    <tr>\n",
       "      <th>1</th>\n",
       "      <td>Lac Qui Parle</td>\n",
       "      <td>8067</td>\n",
       "    </tr>\n",
       "    <tr>\n",
       "      <th>2</th>\n",
       "      <td>Lewis &amp; Clark</td>\n",
       "      <td>55716</td>\n",
       "    </tr>\n",
       "    <tr>\n",
       "      <th>3</th>\n",
       "      <td>St. John the Baptist</td>\n",
       "      <td>43044</td>\n",
       "    </tr>\n",
       "  </tbody>\n",
       "</table>\n",
       "</div>"
      ],
      "text/plain": [
       "                     County  Population\n",
       "0                    DeWitt       16798\n",
       "1             Lac Qui Parle        8067\n",
       "2             Lewis & Clark       55716\n",
       "3      St. John the Baptist       43044"
      ]
     },
     "execution_count": 17,
     "metadata": {},
     "output_type": "execute_result"
    }
   ],
   "source": [
    "county_population"
   ]
  },
  {
   "cell_type": "code",
   "execution_count": null,
   "id": "dc6ed35c-4cac-43d3-b2a3-e86d1fdc7245",
   "metadata": {},
   "outputs": [],
   "source": [
    "def canon_county(county_series):\n",
    "    return"
   ]
  },
  {
   "cell_type": "code",
   "execution_count": 24,
   "id": "427a671b-048b-4346-8dc7-712001e764e9",
   "metadata": {},
   "outputs": [],
   "source": [
    "county_state['county_clean'] = canon_county(county_state['County'])"
   ]
  },
  {
   "cell_type": "code",
   "execution_count": 25,
   "id": "b5325351-6222-42a1-93a0-8a57899a85b5",
   "metadata": {},
   "outputs": [],
   "source": [
    "county_population['county_clean'] = canon_county(county_population['County'])"
   ]
  },
  {
   "cell_type": "markdown",
   "id": "c054d41c-8e40-4e6e-949d-dda6038d48f8",
   "metadata": {},
   "source": [
    "## Regular expressions\n",
    "Many text data have \"some\" inherited structure, e.g., log files, concatenated violation codes.\n",
    "\n",
    "## Practice 6 - manipulating logs\n",
    "**Starting with an example:**\n",
    "\n",
    "Consider the two log entries below, how can we extract the dates and times, perhaps with `split()`?\n",
    "\n",
    "```\n",
    "169.237.46.168 - - [26/Jan/2024:10:47:58 -0800] \"GET /cs150/Winter24/150.html HTTP/1.1\" 200 2585 \"http://cs.northwestern.edu/courses/\"\n",
    "\n",
    "193.205.203.3 - - [2/Feb/2023:17:23:6 -0800] \"GET /iems394/Notes/dim.html HTTP/1.0\" 404 302 \"http://iems.northwestern.edu/academics/\"\n",
    "```"
   ]
  },
  {
   "cell_type": "code",
   "execution_count": 30,
   "id": "bf589e20-db76-4300-839d-41a6a2d07813",
   "metadata": {},
   "outputs": [],
   "source": [
    "line1 = '169.237.46.168 - - [26/Jan/2024:10:47:58 -0800] \"GET /cs150/Winter24/150.html HTTP/1.1\" 200 2585 \"http://cs.northwestern.edu/courses/\"'\n",
    "line2 = '193.205.203.3 - - [2/Feb/2023:17:23:6 -0800] \"GET /iems394/Notes/dim.html HTTP/1.0\" 404 302 \"http://iems.northwestern.edu/academics/\"'"
   ]
  },
  {
   "cell_type": "code",
   "execution_count": 42,
   "id": "05243bf1-471b-401d-8b28-57650108f273",
   "metadata": {},
   "outputs": [],
   "source": [
    "def return_date_time(line):\n",
    "\n",
    "    return result"
   ]
  },
  {
   "cell_type": "markdown",
   "id": "4ca1a365-f7b0-4526-8f07-2fa3ac7951af",
   "metadata": {},
   "source": [
    "**Regular expression** is an alternative way to perform systematic pattern recognition.\n",
    "\n",
    "- Implemented in Python `re` library and also in `pandas` `str` methods."
   ]
  },
  {
   "cell_type": "markdown",
   "id": "3b09d835-8fd6-4c5f-9b22-4354a10b4789",
   "metadata": {},
   "source": [
    "Back to the log lines..."
   ]
  },
  {
   "cell_type": "code",
   "execution_count": 45,
   "id": "54392de9-1430-4633-b659-a8a4218ce1d6",
   "metadata": {},
   "outputs": [
    {
     "data": {
      "text/plain": [
       "('26', 'Jan', '2024', '10', '47', '58', '-0800')"
      ]
     },
     "execution_count": 45,
     "metadata": {},
     "output_type": "execute_result"
    }
   ],
   "source": [
    "import re\n",
    "\n",
    "pattern = r'\\[(\\d+)\\/(\\w+)\\/(\\d+):(\\d+):(\\d+):(\\d+) (.+)\\]'  # pattern to find in text\n",
    "match = re.findall(pattern, line1)[0]                        # try to match line to string\n",
    "match"
   ]
  },
  {
   "cell_type": "code",
   "execution_count": 46,
   "id": "91e0755b-81b7-49f6-b078-6f3130414dfd",
   "metadata": {},
   "outputs": [],
   "source": [
    "day, month, year, hour, minute, second, time_zone = match"
   ]
  },
  {
   "cell_type": "markdown",
   "id": "d8a45235-0371-4a36-b25c-5da651a1526f",
   "metadata": {},
   "source": [
    "### Basic regex\n",
    "A regex is a sequence of characters that specifies a search pattern.\n",
    "\n",
    "**Log file example** (characters separated for legibility, the following pattern no longer matches):\n",
    "\n",
    "```\n",
    "\\[ (\\d+) \\/ (\\w+) \\/ (\\d+) : (\\d+) : (\\d+) : (\\d+) (.+) \\]\n",
    "```\n",
    "corresponds to\n",
    "```\n",
    "[ (numbers) / (alphanumerics) / (numbers) : (numbers) : (numbers) : (numbers) (anything else) ]\n",
    "```\n",
    "\n",
    "**Social Security Number example**:\n",
    "\n",
    "```\n",
    "[0-9]{3}-[0-9]{2}-[0-9]{4}\n",
    "```\n",
    "corresponds to \n",
    "```\n",
    "3digits dash 2digits dash 4digits.\n",
    "```"
   ]
  },
  {
   "cell_type": "markdown",
   "id": "94d41fde-f791-4ed4-a77b-db9f42a5c584",
   "metadata": {},
   "source": [
    "**There is no way (and no reason) to memorize regex!**\n",
    "\n",
    "On a high level, \n",
    "\n",
    "1. Understand what regex can do.\n",
    "2. Parse and create regex patterns, using reference.\n",
    "\n",
    "Toward more details,\n",
    "\n",
    "3. Build up vocabulary (metacharacter, escape character, group, ...) to help **describe regex** patterns.\n",
    "4. Understand the difference between `()`, `[]`, `{}`.\n",
    "5. Design patterns using `\\d`, `\\s`, `\\w`, `[...-...]`, etc.\n",
    "6. Use Python and `pandas` methods."
   ]
  },
  {
   "cell_type": "markdown",
   "id": "f708b3b4-46e9-42ea-80c2-a14789781fc1",
   "metadata": {},
   "source": [
    "## Learning regex with [regex101.com](regex101.com)\n",
    "\n",
    "Sample text:\n",
    "\n",
    "```\n",
    "0.70 - Coffee\n",
    "0.75 - Cake slice\n",
    "19.99 - Video game\n",
    "12 - Lunch\n",
    "6.99 - Spotify monthly charge\n",
    "22.24 - Travel mug\n",
    "7 - Cinema ticket\n",
    "15 - Lunch\n",
    "Total: 85.62\n",
    "```"
   ]
  },
  {
   "cell_type": "markdown",
   "id": "7157602f-b366-47aa-98b5-43fd4dc7d501",
   "metadata": {},
   "source": [
    "### Basic operations:\n",
    "\n",
    "- Concatenation, i.e. *consecutive characters*\n",
    "- `|`, *or* operator\n",
    "- `*`, zero or more\n",
    "- `+`, one or more\n",
    "- `()`, consider as a group\n",
    "\n",
    "*Note*: `|`, `*`, `+`, `()` are metacharacters.  They represent operations, not the literal character."
   ]
  },
  {
   "cell_type": "markdown",
   "id": "f5b14066-2331-455b-baf4-49586f08a4d9",
   "metadata": {},
   "source": [
    "| Operation                        | Order | Example    | Matches     | Doesn’t match      |\r\n",
    "|----------------------------------|-------|------------|-------------|--------------------|\r\n",
    "| concatenation(consecutive chars) | 3     | AABAAB     | AABAAB      | every other string |\r\n",
    "| or, \\|                           | 4     | AA\\|BAAB   | AA BAAB     | every other string |\r\n",
    "| * (zero or more)                 | 2     | AB*A       | AA ABBBBBBA | AB ABABA           |\r\n",
    "| group (parenthesis)              | 1     | A(A\\|B)AAB | AAAAB ABAAB | every other string |\r\n",
    "|                                  |       | (AB)*A     | A ABABABABA | AA ABBA            |"
   ]
  },
  {
   "cell_type": "markdown",
   "id": "13258dad-aab1-4982-8cfb-873d63826a1a",
   "metadata": {},
   "source": [
    "### More operations:\n",
    "\n",
    "- `.`, matches any character\n",
    "- `[]`, define a character class\n",
    "- `?`, zero or one\n",
    "- `{x}`, repeat exactly x times\n",
    "- `{x, y}`, repeat between x and y times"
   ]
  },
  {
   "cell_type": "markdown",
   "id": "18d1c9b4-9267-41d4-be28-43d8f14e258b",
   "metadata": {},
   "source": [
    "### Character classes:\n",
    "\n",
    "- `[A-Z]`, any uppercase letter between A and Z\n",
    "- `[0-9]`,  any digit between 0 and 9\n",
    "- `[A-Za-z0-9]`,  any letter, any digit\n",
    "\n",
    "**Built-in classes:**\n",
    "- `\\w` means \"word-like\", equivalent to `[A-Za-z0-9]`\n",
    "- `\\d` means \"digit\", equivalent to `[0-9]`\n",
    "- `\\s` means \"space\", matches whitespace\n",
    "\n",
    "**Negation of class:**\n",
    "Use `^` to negate a class, meaning match *any* character but the ones in the class.\n",
    "\n",
    "- `\\W`, `\\D`, `\\S` are the negations of each of the built-in classes"
   ]
  },
  {
   "cell_type": "markdown",
   "id": "f1557352-50a2-49ae-8ab2-f1e278023f76",
   "metadata": {},
   "source": [
    "| Operation                         | Example        | Matches          | Doesn’t match       | Doesn’t match      |\r\n",
    "|-----------------------------------|----------------|------------------|---------------------|--------------------|\r\n",
    "| any character(except newline)     | .U.U.U.        | CUMULUS JUGULUM  | SUCCUBUS TUMULTUOUS | every other string |\r\n",
    "| character class                   | [A-Za-z][a-z]* | word Capitalized | camelCase 4illegal  | every other string |\r\n",
    "| repeated exactly a times: {a}     | j[aeiou]{3}hn  | jaoehn jooohn    | jhn jaeiouhn        | AB ABABA           |\r\n",
    "| repeated from a to b times: {a,b} | j[ou]{1,2}hn   | john juohn       | jhn jooohn          | every other string |\r\n",
    "| at least one                      | jo+hn          | john joooooohn   | jhn jjohn           | AA ABBA            |"
   ]
  },
  {
   "cell_type": "markdown",
   "id": "5ab94dff-b442-4ce1-9c5b-e7b530338a5d",
   "metadata": {},
   "source": [
    "## Practice 7 - regex for receipt\n",
    "\n",
    "Develop a regex pattern for all items in the receipt (excluding the total):\n",
    "\n",
    "```\n",
    "0.70 - Coffee\n",
    "0.75 - Cake slice\n",
    "19.99 - Video game\n",
    "12 - Lunch\n",
    "6.99 - Spotify monthly charge\n",
    "22.24 - Travel mug\n",
    "7 - Cinema ticket\n",
    "15 - Lunch\n",
    "Total: 85.62\n",
    "```"
   ]
  },
  {
   "cell_type": "markdown",
   "id": "d8b43f33-760d-4258-9ce0-2b6b67c6c7f1",
   "metadata": {},
   "source": [
    "## Examples worked on in April 25 class"
   ]
  },
  {
   "cell_type": "markdown",
   "id": "f02a0bde-cece-4dbd-a0c4-61c580dc844e",
   "metadata": {},
   "source": [
    "Date: 26/Jan/2024\n",
    "\n",
    "`\\d{1,2}\\/[A-Z][a-z]{2}\\/[0-9]{4}`\n",
    "\n",
    "Academic email address:\n",
    "\n",
    "`(\\w+)((\\.|\\-)?(\\w+)?)*@\\S+\\.edu`\n",
    "\n",
    "Course number:\n",
    "\n",
    "`(\\w+)\\s*\\d{3}`\n",
    "\n",
    "Zip-code:\n",
    "\n",
    "`^[0-9]{5}(\\-[0-9]{4})?$`"
   ]
  },
  {
   "cell_type": "markdown",
   "id": "8898557a-46a1-436e-95df-5fcc7379c4fb",
   "metadata": {},
   "source": [
    "## Examples of regex with Python and `pandas`\n",
    "\n",
    "### Python"
   ]
  },
  {
   "cell_type": "code",
   "execution_count": 2,
   "id": "532b27a6-6f50-4929-813d-c970e89d1613",
   "metadata": {},
   "outputs": [],
   "source": [
    "import re  \n",
    "\n",
    "text = \"<div><td valign='top'>Moo</td></div>\"\n",
    "pattern = r\"<[^>]+>\"       # r\"...\" indicates a raw string"
   ]
  },
  {
   "cell_type": "markdown",
   "id": "a824409e-24bf-416a-bdc1-0c35e8ac18ad",
   "metadata": {},
   "source": [
    "**What does this pattern match?**"
   ]
  },
  {
   "cell_type": "code",
   "execution_count": 4,
   "id": "f3cee592-be77-41e1-9473-e55d4c133ece",
   "metadata": {},
   "outputs": [
    {
     "data": {
      "text/plain": [
       "'<div>'"
      ]
     },
     "execution_count": 4,
     "metadata": {},
     "output_type": "execute_result"
    }
   ],
   "source": [
    "re.match(pattern, text)[0]"
   ]
  },
  {
   "cell_type": "code",
   "execution_count": 5,
   "id": "03554549-67a6-49bc-a9a3-926ed833e265",
   "metadata": {},
   "outputs": [
    {
     "data": {
      "text/plain": [
       "['<div>', \"<td valign='top'>\", '</td>', '</div>']"
      ]
     },
     "execution_count": 5,
     "metadata": {},
     "output_type": "execute_result"
    }
   ],
   "source": [
    "re.findall(pattern, text)"
   ]
  },
  {
   "cell_type": "code",
   "execution_count": 7,
   "id": "a9d26dec-9b9f-4100-a72a-3d5ad3ec3508",
   "metadata": {},
   "outputs": [
    {
     "data": {
      "text/plain": [
       "\"<div><td valign='top'>Moo</td></div>\""
      ]
     },
     "execution_count": 7,
     "metadata": {},
     "output_type": "execute_result"
    }
   ],
   "source": [
    "text"
   ]
  },
  {
   "cell_type": "code",
   "execution_count": 6,
   "id": "72611216-bd46-4fd8-bc06-883431cef150",
   "metadata": {},
   "outputs": [
    {
     "data": {
      "text/plain": [
       "'Moo'"
      ]
     },
     "execution_count": 6,
     "metadata": {},
     "output_type": "execute_result"
    }
   ],
   "source": [
    "re.sub(pattern, '', text)  # replace any matched text with ''"
   ]
  },
  {
   "cell_type": "markdown",
   "id": "8b961d57-6460-482b-8214-cc3bab72deca",
   "metadata": {},
   "source": [
    "*Reminder:* If we were to work with many strings (say in a dataset) at once, Python would loop through each one."
   ]
  },
  {
   "cell_type": "markdown",
   "id": "78226825-6725-4c87-9999-a68981269e57",
   "metadata": {},
   "source": [
    "### `pandas`"
   ]
  },
  {
   "cell_type": "code",
   "execution_count": 8,
   "id": "34db4b09-1f94-4ad7-b05e-1cc6ca0bdc3b",
   "metadata": {},
   "outputs": [
    {
     "data": {
      "text/html": [
       "<div>\n",
       "<style scoped>\n",
       "    .dataframe tbody tr th:only-of-type {\n",
       "        vertical-align: middle;\n",
       "    }\n",
       "\n",
       "    .dataframe tbody tr th {\n",
       "        vertical-align: top;\n",
       "    }\n",
       "\n",
       "    .dataframe thead th {\n",
       "        text-align: right;\n",
       "    }\n",
       "</style>\n",
       "<table border=\"1\" class=\"dataframe\">\n",
       "  <thead>\n",
       "    <tr style=\"text-align: right;\">\n",
       "      <th></th>\n",
       "      <th>HTML</th>\n",
       "    </tr>\n",
       "  </thead>\n",
       "  <tbody>\n",
       "    <tr>\n",
       "      <th>0</th>\n",
       "      <td>&lt;div&gt;&lt;td valign='top'&gt;Moo&lt;/td&gt;&lt;/div&gt;</td>\n",
       "    </tr>\n",
       "    <tr>\n",
       "      <th>1</th>\n",
       "      <td>&lt;a href='http://ds100.org'&gt;Link&lt;/a&gt;</td>\n",
       "    </tr>\n",
       "    <tr>\n",
       "      <th>2</th>\n",
       "      <td>&lt;b&gt;Bold text&lt;/b&gt;</td>\n",
       "    </tr>\n",
       "  </tbody>\n",
       "</table>\n",
       "</div>"
      ],
      "text/plain": [
       "                                   HTML\n",
       "0  <div><td valign='top'>Moo</td></div>\n",
       "1   <a href='http://ds100.org'>Link</a>\n",
       "2                      <b>Bold text</b>"
      ]
     },
     "execution_count": 8,
     "metadata": {},
     "output_type": "execute_result"
    }
   ],
   "source": [
    "import pandas as pd\n",
    "\n",
    "texts = [\"<div><td valign='top'>Moo</td></div>\",\n",
    "         \"<a href='http://ds100.org'>Link</a>\",\n",
    "         \"<b>Bold text</b>\"]\n",
    "\n",
    "html_data = pd.DataFrame(texts, columns=['HTML'])\n",
    "html_data"
   ]
  },
  {
   "cell_type": "code",
   "execution_count": 10,
   "id": "22850974-73f1-4b99-b93b-9482c07935ca",
   "metadata": {},
   "outputs": [
    {
     "data": {
      "text/plain": [
       "0    True\n",
       "1    True\n",
       "2    True\n",
       "Name: HTML, dtype: bool"
      ]
     },
     "execution_count": 10,
     "metadata": {},
     "output_type": "execute_result"
    }
   ],
   "source": [
    "html_data['HTML'].str.match(pattern)"
   ]
  },
  {
   "cell_type": "code",
   "execution_count": 11,
   "id": "c2aeafda-1f1b-4518-9918-55a287894920",
   "metadata": {},
   "outputs": [
    {
     "data": {
      "text/plain": [
       "0    [<div>, <td valign='top'>, </td>, </div>]\n",
       "1          [<a href='http://ds100.org'>, </a>]\n",
       "2                                  [<b>, </b>]\n",
       "Name: HTML, dtype: object"
      ]
     },
     "execution_count": 11,
     "metadata": {},
     "output_type": "execute_result"
    }
   ],
   "source": [
    "html_data['HTML'].str.findall(pattern)"
   ]
  },
  {
   "cell_type": "code",
   "execution_count": 17,
   "id": "6d3bc974-3721-4f9b-94d5-4a8a6978e6d2",
   "metadata": {},
   "outputs": [
    {
     "data": {
      "text/plain": [
       "0          Moo\n",
       "1         Link\n",
       "2    Bold text\n",
       "Name: HTML, dtype: object"
      ]
     },
     "execution_count": 17,
     "metadata": {},
     "output_type": "execute_result"
    }
   ],
   "source": [
    "html_data['HTML'].str.replace(pattern, '', regex=True)"
   ]
  },
  {
   "cell_type": "markdown",
   "id": "63eba8be-3ecc-4f5d-9242-9d5b9ca17d1c",
   "metadata": {},
   "source": [
    "## Practice 8 `pandas` regex\n",
    "\n",
    "Valid social security numbers follow the pattern `XXX-XX-XXXX`, where `X` is a digit.  Write a function that takes the following dataframe and returns a list of all valid social security numbers. "
   ]
  },
  {
   "cell_type": "code",
   "execution_count": 18,
   "id": "9477efbc-ee00-4a38-8c1f-bc2f8b834ffd",
   "metadata": {},
   "outputs": [],
   "source": [
    "ssn = ['a82-ng-397d',\n",
    "       '393-572910-38',\n",
    "       'shhhhh', \n",
    "       '123-45-6789 bro or 321-45-6789',\n",
    "       '99-99-9999',\n",
    "       '703-28-6930']\n",
    "\n",
    "df = pd.DataFrame(ssn)"
   ]
  },
  {
   "cell_type": "code",
   "execution_count": 21,
   "id": "8d30785d-b7ac-481b-96df-d217c7f32e5a",
   "metadata": {},
   "outputs": [
    {
     "data": {
      "text/plain": [
       "0                       a82-ng-397d\n",
       "1                     393-572910-38\n",
       "2                            shhhhh\n",
       "3    123-45-6789 bro or 321-45-6789\n",
       "4                        99-99-9999\n",
       "5                       703-28-6930\n",
       "Name: 0, dtype: object"
      ]
     },
     "execution_count": 21,
     "metadata": {},
     "output_type": "execute_result"
    }
   ],
   "source": [
    "df.iloc[:, 0]"
   ]
  },
  {
   "cell_type": "code",
   "execution_count": 37,
   "id": "e0972575-b1b5-4347-8a18-bbe5b86ef9e6",
   "metadata": {},
   "outputs": [
    {
     "data": {
      "text/plain": [
       "0                            []\n",
       "1                            []\n",
       "2                            []\n",
       "3    [123-45-6789, 321-45-6789]\n",
       "4                            []\n",
       "5                 [703-28-6930]\n",
       "Name: 0, dtype: object"
      ]
     },
     "execution_count": 37,
     "metadata": {},
     "output_type": "execute_result"
    }
   ],
   "source": [
    "pattern = r'\\d{3}\\-\\d{2}\\-\\d{4}'\n",
    "results = df.iloc[:, 0].str.findall(pattern)\n",
    "results"
   ]
  },
  {
   "cell_type": "code",
   "execution_count": null,
   "id": "9e517179-ee95-44c4-a74e-344959e7bbc2",
   "metadata": {},
   "outputs": [],
   "source": [
    "def find_ssn(df):\n",
    "    pattern = r'\\d{3}\\-\\d{2}\\-\\d{4}'\n",
    "    results = df.iloc[:, 0].str.findall(pattern)\n",
    "    return results"
   ]
  }
 ],
 "metadata": {
  "kernelspec": {
   "display_name": "Python 3 (ipykernel)",
   "language": "python",
   "name": "python3"
  },
  "language_info": {
   "codemirror_mode": {
    "name": "ipython",
    "version": 3
   },
   "file_extension": ".py",
   "mimetype": "text/x-python",
   "name": "python",
   "nbconvert_exporter": "python",
   "pygments_lexer": "ipython3",
   "version": "3.11.8"
  }
 },
 "nbformat": 4,
 "nbformat_minor": 5
}
