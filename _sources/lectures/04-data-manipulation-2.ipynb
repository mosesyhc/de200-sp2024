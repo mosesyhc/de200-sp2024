{
 "cells": [
  {
   "cell_type": "markdown",
   "id": "4abd1e78-cc90-44e4-83ce-86e7511cdebc",
   "metadata": {},
   "source": [
    "# `pandas` Part II\n",
    "\n",
    "This document continues to cover data manipulation with `pandas`, including aggregation, reorganizing, and merging data."
   ]
  },
  {
   "cell_type": "markdown",
   "id": "fbeb81f0-36c3-448b-a184-43668a895ee6",
   "metadata": {},
   "source": [
    "## Grouping data\n",
    "\n",
    "Grouping together that are in the same category to aggregate over rows in each category.\n",
    "\n",
    "Useful in \n",
    "- performing large operations, and\n",
    "- summarizing trends in a dataset."
   ]
  },
  {
   "cell_type": "markdown",
   "id": "dd53b6a5-27a0-4477-afae-0a7edf229da5",
   "metadata": {},
   "source": [
    "Say we have a dataset with baby naming frequency throughout the years.  Perhaps we are first interested in \n",
    "\n",
    "- how many babies are born in each year? (Good indicator of societal confidence..)"
   ]
  },
  {
   "cell_type": "markdown",
   "id": "b6e5ac39-445f-459f-819c-713deb18e15d",
   "metadata": {},
   "source": [
    "```{figure} ../img/pandas-group-schema.png\n",
    "---\n",
    "width: 80%\n",
    "name: pandas-group\n",
    "---\n",
    "Example of aggregation in `pandas` {cite:p}`lau2023learning`\n",
    "```"
   ]
  },
  {
   "cell_type": "code",
   "execution_count": null,
   "id": "ba266c58-7369-40cc-b5c3-0c020bfa5e46",
   "metadata": {},
   "outputs": [],
   "source": [
    "import pandas as pd\n",
    "\n",
    "baby = pd.read_csv('../data/ssa-names.csv.zip')"
   ]
  },
  {
   "cell_type": "code",
   "execution_count": null,
   "id": "51c2e789-5f41-4b8b-9d3a-cfad60f95e9f",
   "metadata": {},
   "outputs": [],
   "source": [
    "# number of total babies\n",
    "baby['Count'].sum()"
   ]
  },
  {
   "cell_type": "markdown",
   "id": "778b1cad-883e-45f3-8c20-3c0e2e07306d",
   "metadata": {},
   "source": [
    "### Grouping and aggregating"
   ]
  },
  {
   "cell_type": "markdown",
   "id": "09459bf7-2be4-4857-94bf-304d461314a4",
   "metadata": {},
   "source": [
    "**How many babies are born each year?**"
   ]
  },
  {
   "cell_type": "code",
   "execution_count": null,
   "id": "f8f77a95-4a9d-4cdd-bf53-36d0f6464130",
   "metadata": {},
   "outputs": [],
   "source": [
    "counts_by_year = baby.groupby('Year')['Count'].sum()"
   ]
  },
  {
   "cell_type": "markdown",
   "id": "e89f8625-ccfd-42c0-b2a0-5f209eaaa03b",
   "metadata": {},
   "source": [
    "### A general recipe for grouping\n",
    "\n",
    "```python\n",
    "(baby                # the dataframe\n",
    " .groupby('Year')    # column(s) to group\n",
    " ['Count']           # column(s) to aggregate\n",
    " .sum()              # how to aggregate\n",
    ")\n",
    "```"
   ]
  },
  {
   "cell_type": "markdown",
   "id": "1ebb0039-cc75-43f3-9096-1bfc3573bac7",
   "metadata": {},
   "source": [
    "### Grouping by multiple attributes\n",
    "\n",
    "**How many female and male babies are born each year?**"
   ]
  },
  {
   "cell_type": "code",
   "execution_count": null,
   "id": "50c4c960-bdda-4b2a-8d6c-47792bbc2174",
   "metadata": {},
   "outputs": [],
   "source": [
    "counts_by_year_and_sex = baby.groupby(['Year', 'Sex'])['Count'].sum()\n",
    "counts_by_year_and_sex"
   ]
  },
  {
   "cell_type": "markdown",
   "id": "8e92f7f8-53a4-4f8f-995a-7d7fef38bb28",
   "metadata": {},
   "source": [
    "### Aggregating by a custom function"
   ]
  },
  {
   "cell_type": "markdown",
   "id": "80df9d6b-1607-4da4-a89e-07597827623b",
   "metadata": {},
   "source": [
    "**What about number of unique names by year?**"
   ]
  },
  {
   "cell_type": "code",
   "execution_count": null,
   "id": "853b2631-7f2a-4a59-9b70-6a69a5bc65f5",
   "metadata": {
    "scrolled": true
   },
   "outputs": [],
   "source": [
    "def count_unique(names):\n",
    "    return len(names.unique())\n",
    "\n",
    "unique_names_by_year = (baby\n",
    " .groupby('Year')\n",
    " ['Name']\n",
    " .agg(count_unique) # aggregate using the custom count_unique function\n",
    ")\n",
    "unique_names_by_year"
   ]
  },
  {
   "cell_type": "markdown",
   "id": "45e4cd68-fc7e-447e-8da4-32c1145f4aeb",
   "metadata": {},
   "source": [
    "## Pivoting\n",
    "Pivoting is one way to organize and present data, by arranging the results of a group and aggregation when grouping with two columns."
   ]
  },
  {
   "cell_type": "code",
   "execution_count": null,
   "id": "b40c8c3c-0159-4ccc-bc2e-f1ece7461d64",
   "metadata": {},
   "outputs": [],
   "source": [
    "mf_pivot = pd.pivot_table(\n",
    "    baby,\n",
    "    index='Year',   # Column to turn into new index\n",
    "    columns='Sex',  # Column to turn into new columns\n",
    "    values='Count', # Column to aggregate for values\n",
    "    aggfunc='sum')    # Aggregation function\n",
    "mf_pivot"
   ]
  },
  {
   "cell_type": "markdown",
   "id": "83520d69-80a9-4252-a9b1-8dc29ffeccb1",
   "metadata": {},
   "source": [
    "## Melting\n",
    "Melting is the \"reverse\" of pivoting, transforming *wide* tables into *long* tables."
   ]
  },
  {
   "cell_type": "code",
   "execution_count": null,
   "id": "be8dfd2f-13af-4d9f-8cbb-7852c8d784b0",
   "metadata": {},
   "outputs": [],
   "source": [
    "mf_long = mf_pivot.reset_index().melt(\n",
    "    id_vars='Year', # column that uniquely identifies a row (can be multiple)\n",
    "    var_name='Sex', # name for the new column created by melting\n",
    "    value_name='Count' # name for new column containing values from melted columns\n",
    ")\n",
    "mf_long"
   ]
  },
  {
   "cell_type": "markdown",
   "id": "3636d2e0-a8d8-45f7-a543-a7c294f21f3d",
   "metadata": {},
   "source": [
    "*Why do we need* `reset_index()`?"
   ]
  },
  {
   "cell_type": "markdown",
   "id": "8475a616-d839-4af6-9cdb-745822ba4352",
   "metadata": {},
   "source": [
    "## Practice 3"
   ]
  },
  {
   "cell_type": "markdown",
   "id": "19495d65-8b11-498e-92e6-e9d7f647f403",
   "metadata": {},
   "source": [
    "Using the meteorite data from the `Meteorite_Landings.csv` file, \n",
    "\n",
    "1. create a pivot table that shows for each year\n",
    "    - the number of meteorites, and\n",
    "    - the 95th percentile of meteorite mass.\n",
    "2. create a pivot table to compare for each year\n",
    "    - the 5%, 25%, 50%, 75%, and 95% percentile of the mass column for the meteorites that were found versus observed falling.\n",
    "3. melt the two tables above to create a *long*-format table."
   ]
  },
  {
   "cell_type": "code",
   "execution_count": null,
   "id": "ac10f012-deda-4149-913f-98746edd1a35",
   "metadata": {},
   "outputs": [],
   "source": []
  }
 ],
 "metadata": {
  "kernelspec": {
   "display_name": "Python 3 (ipykernel)",
   "language": "python",
   "name": "python3"
  },
  "language_info": {
   "codemirror_mode": {
    "name": "ipython",
    "version": 3
   },
   "file_extension": ".py",
   "mimetype": "text/x-python",
   "name": "python",
   "nbconvert_exporter": "python",
   "pygments_lexer": "ipython3",
   "version": "3.11.8"
  }
 },
 "nbformat": 4,
 "nbformat_minor": 5
}
