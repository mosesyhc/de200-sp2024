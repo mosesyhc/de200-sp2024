{
 "cells": [
  {
   "cell_type": "markdown",
   "id": "5af7d7b3-3719-440e-9f9b-0f4b00db1512",
   "metadata": {},
   "source": [
    "# Application Programming Interface (API)\n",
    "\n",
    "This document introduces the use of API to access and query data.  We focus on data access with APIs in this document."
   ]
  },
  {
   "cell_type": "markdown",
   "id": "20f5d0df-3fcf-4928-997d-0fdd1fed0cb3",
   "metadata": {},
   "source": [
    "## What is an API?\n",
    "Broadly speaking, an API is a set of rules and procedures that facilitate interactions between computers and their applications.\n",
    "\n",
    "A very common type of API is the **Web API**, which, among other things, allows users to query a remote database over the internet.\n",
    "\n",
    "An API specifies **how** a user or application accesses the data.\n",
    "\n",
    "Examples: \n",
    "- Twitter: tweets, users, replies, etc.\n",
    "- Art Institute of Chicago: artworks, exhibits, ticketing, etc.\n",
    "- New York Times archive: articles, headlines, book reviews, etc.\n",
    "\n",
    "### Representational State Transfer (REST)\n",
    "\n",
    "RESTful\n",
    "- APIs are convenient for querying databases by URLs.\n",
    "- requests are self-contained, meaning that they do not rely on previous requests.\n",
    "- responses can be cached to improve server response time.\n",
    "\n",
    "**General methods:**\n",
    "\n",
    "- GET: access resources located at a URL\n",
    "- POST: send data to the server\n",
    "- PUT: update existing resources\n",
    "- DELETE: delete resources in a server"
   ]
  },
  {
   "cell_type": "markdown",
   "id": "26d1dec2-5b3d-466c-909d-a8f74a95ff91",
   "metadata": {},
   "source": [
    "## Request via a URL"
   ]
  },
  {
   "cell_type": "markdown",
   "id": "35a52a37-2085-48f0-947c-7b12eb23f639",
   "metadata": {},
   "source": [
    "```{figure} ../img/url.svg\n",
    "---\n",
    "width: 90%\n",
    "name: url-example\n",
    "---\n",
    "Anatomy of a URL request (rows.com)\n",
    "```"
   ]
  },
  {
   "cell_type": "markdown",
   "id": "f03fa311-3153-4bcf-a0b1-306c140151b5",
   "metadata": {},
   "source": [
    "## Example: Art Institute of Chicago API\n",
    "\n",
    "The Art Institute of Chicago hosts a JSON-response API.  The preferrable way of using an API is to refer to its documentation, e.g. https://api.artic.edu/docs/.\n",
    "\n",
    "**Important for any API usage (Terms and conditions):**\n",
    "\n",
    "- Check rate limits\n",
    "- Check authentication methods"
   ]
  },
  {
   "cell_type": "code",
   "execution_count": 2,
   "id": "5f172488-66a6-4baf-9c4e-baf0c39070a5",
   "metadata": {},
   "outputs": [],
   "source": [
    "import requests  # requests.readthedocs.io/\n",
    "import pandas as pd"
   ]
  },
  {
   "cell_type": "markdown",
   "id": "2b7e63dd-0c17-4a43-8857-cf6cd6c628d7",
   "metadata": {},
   "source": [
    "### First request"
   ]
  },
  {
   "cell_type": "code",
   "execution_count": 3,
   "id": "3edcd21c-baad-4a30-ba64-31ececb408f6",
   "metadata": {},
   "outputs": [],
   "source": [
    "url_artist = 'https://api.artic.edu/api/v1/artists'"
   ]
  },
  {
   "cell_type": "markdown",
   "id": "e8ccbe01-a962-42b0-92dd-83901e000272",
   "metadata": {},
   "source": [
    "**Note:** We only retrieve 12 records from a total of > 10000 records."
   ]
  },
  {
   "cell_type": "markdown",
   "id": "6af50238-6ee3-45a2-b88d-053d6b73f059",
   "metadata": {},
   "source": [
    "### Request with parameters"
   ]
  },
  {
   "cell_type": "code",
   "execution_count": null,
   "id": "6c37b4e6-f5da-414a-a5e1-324ee364b9af",
   "metadata": {},
   "outputs": [],
   "source": []
  },
  {
   "cell_type": "markdown",
   "id": "9891b709-dbfb-4e48-8b1b-5f3d6b9c508a",
   "metadata": {},
   "source": [
    "### A considerable way to retrieve multiple pages of data"
   ]
  },
  {
   "cell_type": "markdown",
   "id": "1d0589e9-bc6a-4d08-b9c8-8e7a29d00b51",
   "metadata": {},
   "source": [
    "1. Check how much data there are.\n",
    "2. Use a for loop with `time.sleep()`."
   ]
  },
  {
   "cell_type": "code",
   "execution_count": null,
   "id": "71303b7f-a58c-4033-bb17-d0251e254f8b",
   "metadata": {},
   "outputs": [],
   "source": []
  },
  {
   "cell_type": "markdown",
   "id": "90940537-87e4-465e-8ce3-743640c73e6e",
   "metadata": {},
   "source": [
    "**Note:* Even though we can \"scrape\" through the entire database, we typically should not.  See for example, discussion in [Data dump vs API](https://api.artic.edu/docs/#data-dumps-vs-api)."
   ]
  },
  {
   "cell_type": "markdown",
   "id": "d56af9bf-a24e-4190-8f82-84378fdf0004",
   "metadata": {},
   "source": [
    "### Search query\n",
    "\n",
    "Simply having access or a copy of the data is not inheritly useful.  Most APIs allow for either filtering or searching."
   ]
  },
  {
   "cell_type": "code",
   "execution_count": 50,
   "id": "0b97b547-b834-4f07-9661-d5ad6feb071a",
   "metadata": {},
   "outputs": [],
   "source": [
    "url_artist_search = url_artist + '/search'"
   ]
  },
  {
   "cell_type": "markdown",
   "id": "ddd11737-de53-4d06-82dd-b62647236eb6",
   "metadata": {},
   "source": [
    "## Practice 9 - API usage\n",
    "Several endpoints for this API include `artists`, `exhibits`, `artworks`, etc.  Refer to https://api.artic.edu/docs/#endpoints.\n",
    "\n",
    "1. How many artworks are in the Art Institute collection?\n",
    "2. Find the exhibits that has \"Van Gogh\" in the title.\n",
    "3. Search for a painting called \"A Sunday on La Grande Jatte\".  Who is the artist?  When was it painted?"
   ]
  },
  {
   "cell_type": "markdown",
   "id": "5e714ab2-58e5-4c26-856a-bc732b92f461",
   "metadata": {},
   "source": [
    "## Possible available APIs without authorizations\n",
    "\n",
    "- See https://github.com/public-apis/public-apis.\n",
    "- See https://mixedanalytics.com/blog/list-actually-free-open-no-auth-needed-apis/."
   ]
  },
  {
   "cell_type": "code",
   "execution_count": null,
   "id": "3acb01a7-08c0-4190-83a1-af99c1b247e8",
   "metadata": {},
   "outputs": [],
   "source": []
  }
 ],
 "metadata": {
  "kernelspec": {
   "display_name": "Python 3 (ipykernel)",
   "language": "python",
   "name": "python3"
  },
  "language_info": {
   "codemirror_mode": {
    "name": "ipython",
    "version": 3
   },
   "file_extension": ".py",
   "mimetype": "text/x-python",
   "name": "python",
   "nbconvert_exporter": "python",
   "pygments_lexer": "ipython3",
   "version": "3.11.8"
  }
 },
 "nbformat": 4,
 "nbformat_minor": 5
}
