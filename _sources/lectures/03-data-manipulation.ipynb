{
 "cells": [
  {
   "cell_type": "markdown",
   "id": "488bb2e4-c3d3-4e67-92e7-9d4088ded12a",
   "metadata": {},
   "source": [
    "# `pandas` Part I - Basic usage, indexing\n",
    "\n",
    "This document includes a sequence of notebooks to introduce data manipulation in Python using the `pandas` library.\n",
    "\n",
    "## Basic building blocks\n",
    "`pandas` works with tabular data (rows and columns) through `Series`, `DataFrame` objects."
   ]
  },
  {
   "cell_type": "code",
   "execution_count": null,
   "id": "945b5f2c-0b75-4286-b13d-87a8c0c59b51",
   "metadata": {},
   "outputs": [],
   "source": [
    "import pandas as pd\n",
    "\n",
    "meteor = pd.read_csv('../data/Meteorite_Landings.csv')"
   ]
  },
  {
   "cell_type": "markdown",
   "id": "4fbeb119-f3dd-4cfb-a061-33ebd5282cc5",
   "metadata": {},
   "source": [
    "*Source: [NASA Open Data Portal](https://data.nasa.gov/Space-Science/Meteorite-Landings/gh4g-9sfh/data_preview)*"
   ]
  },
  {
   "cell_type": "code",
   "execution_count": null,
   "id": "24c6971d-284d-4891-9ef4-37822c8c6e90",
   "metadata": {},
   "outputs": [],
   "source": [
    "type(meteor)"
   ]
  },
  {
   "cell_type": "markdown",
   "id": "df5b269c-3243-4570-aef2-baf898dd7167",
   "metadata": {},
   "source": [
    "A `DataFrame` is the basic \"spreadsheet\" or \"table\" used in Python.  A `DataFrame` object is composed of one or more `Series` objects (columns), and indexed by `Index` (rows)."
   ]
  },
  {
   "cell_type": "code",
   "execution_count": null,
   "id": "f371d292-b1f8-4173-8935-5149ac1fd48c",
   "metadata": {},
   "outputs": [],
   "source": [
    "# head.() shows us the first several rows\n",
    "meteor.head()"
   ]
  },
  {
   "cell_type": "code",
   "execution_count": null,
   "id": "025d1f1f-df50-4077-a4e7-d3ac50edc26c",
   "metadata": {},
   "outputs": [],
   "source": [
    "# investigate a column (note its type)\n",
    "print(type(meteor.name))\n",
    "\n",
    "meteor.name.head()"
   ]
  },
  {
   "cell_type": "code",
   "execution_count": null,
   "id": "916459ae-a041-4a35-865d-8967b0353a18",
   "metadata": {},
   "outputs": [],
   "source": [
    "# investigate how the columns are labeled\n",
    "meteor.columns"
   ]
  },
  {
   "cell_type": "code",
   "execution_count": null,
   "id": "defbb061-6c3b-41af-982f-5f872602b2d7",
   "metadata": {},
   "outputs": [],
   "source": [
    "# investigate how the rows are indexed\n",
    "meteor.index"
   ]
  },
  {
   "cell_type": "markdown",
   "id": "b96e8419-9c6c-4f81-9fe2-c8e33869b92a",
   "metadata": {},
   "source": [
    "## DataFrame sources\n",
    "\n",
    "`DataFrame`s can be created from reading a file, scraping the web, and/or API requests.  "
   ]
  },
  {
   "cell_type": "markdown",
   "id": "18756099-6684-47ce-b54a-1388d580328b",
   "metadata": {},
   "source": [
    "### Reading from a file"
   ]
  },
  {
   "cell_type": "code",
   "execution_count": null,
   "id": "805ccbc8-aea7-4311-8f07-3ea9e650c147",
   "metadata": {},
   "outputs": [],
   "source": [
    "import pandas as pd\n",
    "\n",
    "meteor = pd.read_csv('../data/Meteorite_Landings.csv')"
   ]
  },
  {
   "cell_type": "markdown",
   "id": "042749ed-4ee1-4a45-95ae-522fe65be7cb",
   "metadata": {},
   "source": [
    "### API requests (more details later)"
   ]
  },
  {
   "cell_type": "code",
   "execution_count": null,
   "id": "4588e38a-173f-463e-954e-5002e15dc4fb",
   "metadata": {},
   "outputs": [],
   "source": [
    "import requests\n",
    "\n",
    "response = requests.get(\n",
    "    'https://data.nasa.gov/resource/gh4g-9sfh.json',\n",
    "    params={'$limit': 50000}  # Depending on the API, there may be a default limit of records one can obtain\n",
    ")  "
   ]
  },
  {
   "cell_type": "code",
   "execution_count": null,
   "id": "2c1df1d2-3d99-4613-85b7-d950f631bd91",
   "metadata": {},
   "outputs": [],
   "source": [
    "response  # A 200 exit code indicates success"
   ]
  },
  {
   "cell_type": "markdown",
   "id": "99208ade-f442-472c-a5e7-e47bddee27cf",
   "metadata": {},
   "source": [
    "*Tip:* A list of HTTP GET exit codes is available at https://developer.mozilla.org/en-US/docs/Web/HTTP/Status."
   ]
  },
  {
   "cell_type": "code",
   "execution_count": null,
   "id": "0141490d-5418-4240-acf6-065a508416f4",
   "metadata": {},
   "outputs": [],
   "source": [
    "response.ok  # checks ok flag"
   ]
  },
  {
   "cell_type": "code",
   "execution_count": null,
   "id": "7cf188cf-e4fe-44d8-bc74-c022c5928ceb",
   "metadata": {},
   "outputs": [],
   "source": [
    "# Extract data if request is successful\n",
    "if response.ok:\n",
    "    payload = response.json()\n",
    "else:\n",
    "    print(f'Request failed with exit code {response.status_code}.')\n",
    "    payload = None"
   ]
  },
  {
   "cell_type": "code",
   "execution_count": null,
   "id": "d7eff10f-d571-4aa7-bc6c-7c7fad44ff04",
   "metadata": {
    "scrolled": true
   },
   "outputs": [],
   "source": [
    "# Load into DataFrame\n",
    "meteor_json = pd.DataFrame(payload)\n",
    "meteor_json.head()"
   ]
  },
  {
   "cell_type": "code",
   "execution_count": null,
   "id": "d5ca9186-33cc-4e58-95ba-35ddf934bb0a",
   "metadata": {
    "scrolled": true
   },
   "outputs": [],
   "source": [
    "# Removing auto-computed columns\n",
    "mask = meteor_json.columns.str.contains('@computed_region', regex=True)\n",
    "\n",
    "columns_to_drop = meteor_json.columns[mask]"
   ]
  },
  {
   "cell_type": "code",
   "execution_count": null,
   "id": "c423eec7-e336-47c4-a744-72cd79d9b981",
   "metadata": {},
   "outputs": [],
   "source": [
    "meteor_json = meteor_json.drop(columns=columns_to_drop)"
   ]
  },
  {
   "cell_type": "code",
   "execution_count": null,
   "id": "52276acc-b6e9-4db5-b528-8968eac68d8d",
   "metadata": {},
   "outputs": [],
   "source": [
    "# storing downloaded data into files\n",
    "    # meteor_json.to_csv('meteor.csv')  "
   ]
  },
  {
   "cell_type": "markdown",
   "id": "257d2393-fc59-498e-83d2-513431da7538",
   "metadata": {},
   "source": [
    "## Basic inspection"
   ]
  },
  {
   "cell_type": "markdown",
   "id": "00ff9cc1-f93a-4218-8d1f-631e3815d2c2",
   "metadata": {},
   "source": [
    "### What type of data are available in the dataframe? Are there missing data?"
   ]
  },
  {
   "cell_type": "code",
   "execution_count": null,
   "id": "238ff165-04f3-4226-a8ac-8c6e6d4d35b5",
   "metadata": {},
   "outputs": [],
   "source": [
    "meteor.info()"
   ]
  },
  {
   "cell_type": "markdown",
   "id": "544cb0ce-6530-451e-aa06-652df67009e8",
   "metadata": {},
   "source": [
    "### How much data are available?"
   ]
  },
  {
   "cell_type": "code",
   "execution_count": null,
   "id": "7f323978-00eb-46ad-8172-8957cf79c478",
   "metadata": {},
   "outputs": [],
   "source": [
    "meteor.shape"
   ]
  },
  {
   "cell_type": "markdown",
   "id": "355d00a2-5f79-4a13-95cb-869b4a96fe2c",
   "metadata": {},
   "source": [
    "## Subsetting and indexing\n",
    "\n",
    "Effectively extracting data from a full dataset requires fluency in how the `DataFrame` can be subsetted and how it is indexed."
   ]
  },
  {
   "cell_type": "markdown",
   "id": "5c303ec0-a945-4103-bece-dc30fdc5ba8b",
   "metadata": {},
   "source": [
    "### Calling a column by attributes (if valid)"
   ]
  },
  {
   "cell_type": "code",
   "execution_count": null,
   "id": "3cda61ee-55c9-4537-8c17-3ef23ee2b184",
   "metadata": {},
   "outputs": [],
   "source": [
    "meteor.recclass"
   ]
  },
  {
   "cell_type": "markdown",
   "id": "e7d9f59f-ddee-4158-9d4f-143423cc453d",
   "metadata": {},
   "source": [
    "### Calling a column by keys"
   ]
  },
  {
   "cell_type": "code",
   "execution_count": null,
   "id": "c88c0762-8cb3-4a47-93c7-87cb66f0e5c5",
   "metadata": {
    "scrolled": true
   },
   "outputs": [],
   "source": [
    "meteor['mass (g)']"
   ]
  },
  {
   "cell_type": "markdown",
   "id": "951d5e8c-2637-498b-b2b0-b068a187886f",
   "metadata": {},
   "source": [
    "### Multiple columns by name"
   ]
  },
  {
   "cell_type": "code",
   "execution_count": null,
   "id": "74ad6dad-90c9-495a-b5bc-93f0e352d10d",
   "metadata": {},
   "outputs": [],
   "source": [
    "meteor[['name', 'mass (g)']]"
   ]
  },
  {
   "cell_type": "markdown",
   "id": "96affa57-1f45-4bf6-b164-c593ecff0d8a",
   "metadata": {},
   "source": [
    "### Selecting rows"
   ]
  },
  {
   "cell_type": "code",
   "execution_count": null,
   "id": "c146435a-c677-4023-bcb4-c51f1a3a72c0",
   "metadata": {
    "scrolled": true
   },
   "outputs": [],
   "source": [
    "meteor[5:10]  # end-exclusive"
   ]
  },
  {
   "cell_type": "markdown",
   "id": "7891f0ac-c5c2-4c18-8fcf-37d0fa2f0727",
   "metadata": {},
   "source": [
    "### Indexing with `.loc[]`, `iloc[]`\n",
    "\n",
    "- `.loc[]` indexes by row labels\n",
    "- `.iloc[]` indexes by indices"
   ]
  },
  {
   "cell_type": "code",
   "execution_count": null,
   "id": "b12cdc09-0bcb-4d92-ac22-bdcbe4cd5ffa",
   "metadata": {},
   "outputs": [],
   "source": [
    "meteor.loc[0:4, 'name':'mass (g)']"
   ]
  },
  {
   "cell_type": "code",
   "execution_count": null,
   "id": "7fd5d45d-9a76-466f-ac4f-cff7a017caee",
   "metadata": {
    "scrolled": true
   },
   "outputs": [],
   "source": [
    "meteor.iloc[0:4, 0:5]"
   ]
  },
  {
   "cell_type": "markdown",
   "id": "937ece51-c22e-42d1-b34c-a5380565228a",
   "metadata": {},
   "source": [
    "### Filtering or subsetting by condition\n",
    "Selection by condition can be performed by creating a Boolean *mask* with True/False values to specify which rows/columns to select."
   ]
  },
  {
   "cell_type": "code",
   "execution_count": null,
   "id": "464415e3-42ad-4063-a8b0-874b07ca18a0",
   "metadata": {},
   "outputs": [],
   "source": [
    "# select records with heavy meteor (mass > 10^7) that are found (fall = 'Found')\n",
    "mask = (meteor['mass (g)'] > 1e7) & (meteor.fall == 'Found')\n",
    "mask"
   ]
  },
  {
   "cell_type": "code",
   "execution_count": null,
   "id": "a9df9795-deaf-4660-91f9-2fc385c0706b",
   "metadata": {},
   "outputs": [],
   "source": [
    "meteor[mask]"
   ]
  },
  {
   "cell_type": "markdown",
   "id": "910b9cfe-584d-4c13-9345-6f9481152d2e",
   "metadata": {},
   "source": [
    "**Note:** Each condition is surrounded by parentheses, and we use bitwise operator (`&`, `|`, `~`) instead of logical operators (`and`, `or`, `not`)."
   ]
  },
  {
   "cell_type": "code",
   "execution_count": null,
   "id": "9ebcefe3-3b4e-4731-9a2b-f20dd656178d",
   "metadata": {},
   "outputs": [],
   "source": [
    "# negation of a mask\n",
    "meteor[~mask]"
   ]
  },
  {
   "cell_type": "markdown",
   "id": "1578486c-29e2-4ab2-8802-8c70f97d5c28",
   "metadata": {},
   "source": [
    "**Note**: Boolean masks can be used with `loc[]` and `iloc[]` as well."
   ]
  },
  {
   "cell_type": "markdown",
   "id": "144b2bfd-f551-4900-82db-f25bd98c5457",
   "metadata": {},
   "source": [
    "## Calculating summary statistics\n",
    "This section discusses preliminary calculations before conducting further data analysis."
   ]
  },
  {
   "cell_type": "markdown",
   "id": "9bac3a43-c1d0-4ead-871c-34f3cc40f5f5",
   "metadata": {},
   "source": [
    "### How many of the meteorites were observed falling vs found?"
   ]
  },
  {
   "cell_type": "code",
   "execution_count": null,
   "id": "e6550c92-764b-4bc4-a3b7-66dae5177e37",
   "metadata": {},
   "outputs": [],
   "source": [
    "meteor.fall.value_counts()"
   ]
  },
  {
   "cell_type": "code",
   "execution_count": null,
   "id": "79b1e42c-24f9-4374-b466-bcaa56fb3baa",
   "metadata": {},
   "outputs": [],
   "source": [
    "meteor.fall.value_counts(normalize=True)"
   ]
  },
  {
   "cell_type": "markdown",
   "id": "9f00b844-b11e-469f-a9fc-ac78c40d4c4f",
   "metadata": {},
   "source": [
    "### Behavior of mass of a meterorite?"
   ]
  },
  {
   "cell_type": "code",
   "execution_count": null,
   "id": "6da367c5-dbe0-4b38-a3ba-7706730a219e",
   "metadata": {},
   "outputs": [],
   "source": [
    "meteor['mass (g)'].mean()"
   ]
  },
  {
   "cell_type": "code",
   "execution_count": null,
   "id": "0bbf95b1-f239-4291-be0d-c15f07c55c61",
   "metadata": {},
   "outputs": [],
   "source": [
    "meteor['mass (g)'].quantile([0.01, 0.05, 0.5, 0.95, 0.99])"
   ]
  },
  {
   "cell_type": "code",
   "execution_count": null,
   "id": "67190878-4067-4ac9-b540-07ab9349d06d",
   "metadata": {},
   "outputs": [],
   "source": [
    "meteor['mass (g)'].max()"
   ]
  },
  {
   "cell_type": "code",
   "execution_count": null,
   "id": "b5171bb4-6777-4045-aeac-5a5907517110",
   "metadata": {},
   "outputs": [],
   "source": [
    "# sometimes helpful to locate the other information related to a particular entry\n",
    "meteor.loc[meteor['mass (g)'].idxmax()]  # note the \"index\" of max()"
   ]
  },
  {
   "cell_type": "markdown",
   "id": "cc9d9d28-ace5-437e-b007-6315bde0947e",
   "metadata": {},
   "source": [
    "### How many unique classes are in this dataset?"
   ]
  },
  {
   "cell_type": "code",
   "execution_count": null,
   "id": "f2b56186-b857-4e76-9fee-90fbc8da1941",
   "metadata": {},
   "outputs": [],
   "source": [
    "meteor.recclass.nunique()"
   ]
  },
  {
   "cell_type": "markdown",
   "id": "ecca1bf7-79ab-4976-a533-4a461f7de3b8",
   "metadata": {},
   "source": [
    "### General statistics\n",
    "The `.describe()` method includes numeric columns by default.  Here we can force it to include all columns."
   ]
  },
  {
   "cell_type": "code",
   "execution_count": null,
   "id": "b6bc6890-7841-4949-81cb-df7cb10c1805",
   "metadata": {},
   "outputs": [],
   "source": [
    "meteor.describe(include='all')"
   ]
  },
  {
   "cell_type": "markdown",
   "id": "2e379217-1e37-45e9-b73c-63b189d8b077",
   "metadata": {},
   "source": [
    "\n",
    "**Note**: `NaN` values signify missing data. For instance, the fall column contains strings, so there is no value for mean; likewise, mass (g) is numeric, so we don't have entries for the categorical summary statistics (unique, top, freq)."
   ]
  },
  {
   "cell_type": "markdown",
   "id": "00e8bc54-58b3-4f92-8296-431b80ad49b7",
   "metadata": {},
   "source": [
    "## Practice 1\n",
    "\n",
    "The following command downloads a `.parquet` file containing NYC Yellow Taxi data, a common storage format for moderate to large datasets."
   ]
  },
  {
   "cell_type": "code",
   "execution_count": null,
   "id": "42c43ac4-80a6-47fb-89d4-244a21086e4b",
   "metadata": {},
   "outputs": [],
   "source": [
    "!curl -O https://d37ci6vzurychx.cloudfront.net/trip-data/yellow_tripdata_2024-01.parquet"
   ]
  },
  {
   "cell_type": "code",
   "execution_count": null,
   "id": "40e0a746-bd30-48e9-82ab-349c27d5ca45",
   "metadata": {},
   "outputs": [],
   "source": [
    "taxi = pd.read_XXXXXXX('yellow_tripdata_2024-01.parquet')"
   ]
  },
  {
   "cell_type": "markdown",
   "id": "bc80ace0-040b-4bb2-ae72-ce2c6858ebcc",
   "metadata": {},
   "source": [
    "1. Examine the first five rows of the dataset."
   ]
  },
  {
   "cell_type": "markdown",
   "id": "41d4d4db-8ad4-495e-8ce9-cde20b18e837",
   "metadata": {},
   "source": [
    "2. How much data are included in this dataset?"
   ]
  },
  {
   "cell_type": "markdown",
   "id": "b4942e59-c983-4c6b-aeb7-f8185a925c43",
   "metadata": {},
   "source": [
    "3. Calculate summary statistics for the `fare_amount`, `tolls_amount`, and `tip_amount`.  Do they add up to the `total_amount`?"
   ]
  },
  {
   "cell_type": "markdown",
   "id": "1c8c0094-fd5b-4fa7-b8e9-9ddb9c214530",
   "metadata": {},
   "source": [
    "4. Find the trip that has the longest trip by distance (`trip_distance`)."
   ]
  },
  {
   "cell_type": "markdown",
   "id": "755edd37-a9dd-4dd0-9eb3-38e7d0ca4c95",
   "metadata": {},
   "source": [
    "5. Compare the average `total_amount` for short versus long trips (short trip has `trip_distance` < 10).  Make sure we do not include zero-distance trips."
   ]
  },
  {
   "cell_type": "markdown",
   "id": "8eb1f864-d39a-4de1-97ae-22328b96af7d",
   "metadata": {},
   "source": [
    "---"
   ]
  },
  {
   "cell_type": "markdown",
   "id": "7ee8b556-fde4-4803-8e1d-4af5c92e6606",
   "metadata": {},
   "source": [
    "## Data cleaning\n",
    "We will cover some common transformations that facilitate data analysis, including rearranging columns, type conversion, and sorting."
   ]
  },
  {
   "cell_type": "code",
   "execution_count": null,
   "id": "f2d7b552-6275-409a-b31c-7cb3fb96d728",
   "metadata": {},
   "outputs": [],
   "source": [
    "minitaxi = taxi.sample(10000)  # down-sample our dataset for illustration"
   ]
  },
  {
   "cell_type": "code",
   "execution_count": null,
   "id": "db9bdaad-a4ef-43ad-a39e-721e16999762",
   "metadata": {},
   "outputs": [],
   "source": [
    "minitaxi.shape"
   ]
  },
  {
   "cell_type": "code",
   "execution_count": null,
   "id": "fa834ac0-129b-4ec7-bedc-198c9f857673",
   "metadata": {},
   "outputs": [],
   "source": [
    "minitaxi.head()"
   ]
  },
  {
   "cell_type": "markdown",
   "id": "716b3861-4e52-4171-b851-4796bbd369bb",
   "metadata": {},
   "source": [
    "### Dropping columns"
   ]
  },
  {
   "cell_type": "code",
   "execution_count": null,
   "id": "973301da-24e3-4f9c-b298-bbb2d721c5ea",
   "metadata": {},
   "outputs": [],
   "source": [
    "# drop all id columns and the store_and_fwd_flag column\n",
    "mask = minitaxi.columns.str.contains('ID$|store_and_fwd_flag', regex=True)\n",
    "columns_to_drop = minitaxi.columns[mask]\n",
    "columns_to_drop"
   ]
  },
  {
   "cell_type": "code",
   "execution_count": null,
   "id": "a87bb140-d4ce-4f9a-ae7b-a93496d06fb2",
   "metadata": {},
   "outputs": [],
   "source": [
    "minitaxi = minitaxi.drop(columns=columns_to_drop)\n",
    "minitaxi.head()"
   ]
  },
  {
   "cell_type": "markdown",
   "id": "a0453cd1-5a85-4b2f-92f1-403d1e02918e",
   "metadata": {},
   "source": [
    "### Renaming columns"
   ]
  },
  {
   "cell_type": "code",
   "execution_count": null,
   "id": "4af92935-43a5-47c8-b3b4-d291bb804650",
   "metadata": {},
   "outputs": [],
   "source": [
    "minitaxi = minitaxi.rename(\n",
    "    columns={\n",
    "        'tpep_pickup_datetime': 'pickup', \n",
    "        'tpep_dropoff_datetime': 'dropoff'\n",
    "    }\n",
    ")\n",
    "minitaxi.columns"
   ]
  },
  {
   "cell_type": "markdown",
   "id": "d911edcd-30a0-4a59-99e5-5288c474c777",
   "metadata": {},
   "source": [
    "## Examine the correct data types (type conversion)"
   ]
  },
  {
   "cell_type": "code",
   "execution_count": null,
   "id": "aca6a24f-1d22-4e5b-b954-b892f9bf0288",
   "metadata": {},
   "outputs": [],
   "source": [
    "minitaxi.dtypes"
   ]
  },
  {
   "cell_type": "code",
   "execution_count": null,
   "id": "f8368af2-2066-4a8c-b0a4-9170f9a50db8",
   "metadata": {},
   "outputs": [],
   "source": [
    "minitaxi.info()"
   ]
  },
  {
   "cell_type": "code",
   "execution_count": null,
   "id": "97cb5ef6-39ea-43bf-ab76-79e3cf257bab",
   "metadata": {},
   "outputs": [],
   "source": [
    "# cast passenger_count to integers\n",
    "\n",
    "minitaxi.loc[:, 'passenger_count'] = \\\n",
    "    minitaxi.loc[:, 'passenger_count'].astype(int)\n",
    "minitaxi.dtypes"
   ]
  },
  {
   "cell_type": "markdown",
   "id": "75630507-d0af-4ac2-8957-0e8bedbd4c7f",
   "metadata": {},
   "source": [
    "### Dropping rows with NA values"
   ]
  },
  {
   "cell_type": "code",
   "execution_count": null,
   "id": "ce58dcf3-41da-49d3-a8b5-87b02ccb2b85",
   "metadata": {},
   "outputs": [],
   "source": [
    "minitaxi = minitaxi.dropna()"
   ]
  },
  {
   "cell_type": "code",
   "execution_count": null,
   "id": "e39c3495-fb7b-4e4a-a3c5-0b7c2e7f93ff",
   "metadata": {},
   "outputs": [],
   "source": [
    "minitaxi.info()"
   ]
  },
  {
   "cell_type": "markdown",
   "id": "0f43456d-7fbd-4b38-9d61-49279d0e7fae",
   "metadata": {},
   "source": [
    "## Creating new columns\n",
    "\n",
    "Let's calculate the following for each row:\n",
    "\n",
    "1. elapsed time of the trip\n",
    "2. the tip percentage\n",
    "3. the total taxes, tolls, fees, and surcharges\n",
    "4. the average speed of the taxi"
   ]
  },
  {
   "cell_type": "code",
   "execution_count": null,
   "id": "597d7baa-76d6-4302-9903-0ae199854735",
   "metadata": {},
   "outputs": [],
   "source": [
    "minitaxi = minitaxi.assign(\n",
    "    elapsed_time=lambda x: x.dropoff - x.pickup,\n",
    "    cost_before_tip=lambda x: x.total_amount - x.tip_amount,\n",
    "    tip_pct=lambda x: x.tip_amount / x.cost_before_tip, \n",
    "    fees=lambda x: x.cost_before_tip - x.fare_amount, \n",
    "    avg_speed=lambda x: x.trip_distance.div(\n",
    "        x.elapsed_time.dt.total_seconds() / 60 / 60\n",
    "    )\n",
    ")"
   ]
  },
  {
   "cell_type": "code",
   "execution_count": null,
   "id": "8eda68be-1d6e-48e7-aa23-c8f599f4d798",
   "metadata": {},
   "outputs": [],
   "source": [
    "minitaxi.head(2)"
   ]
  },
  {
   "cell_type": "markdown",
   "id": "9045c84f-b9bf-47b9-99d7-c4bc3efbb96e",
   "metadata": {},
   "source": [
    "*Notes*:\n",
    "\n",
    "- We used `lambda` functions to 1) avoid typing taxis repeatedly and 2) be able to access the `cost_before_tip` and `elapsed_time` columns in the same method that we create them.\n",
    "- To create a single new column, we can also use `df['new_col'] = <values>`."
   ]
  },
  {
   "cell_type": "markdown",
   "id": "51f0109e-73e8-4d60-9e77-10ccf5daba63",
   "metadata": {},
   "source": [
    "## Sorting by values"
   ]
  },
  {
   "cell_type": "code",
   "execution_count": null,
   "id": "30bf49f2-4732-41e2-ad95-90b8bac171bf",
   "metadata": {},
   "outputs": [],
   "source": [
    "# sort by descending passenger count and pickups from earliest to latest\n",
    "minitaxi.sort_values(['passenger_count', 'pickup'], ascending=[False, True]).head()"
   ]
  },
  {
   "cell_type": "code",
   "execution_count": null,
   "id": "46fc0e32-beca-4304-ae08-3765c44c0b17",
   "metadata": {},
   "outputs": [],
   "source": [
    "# pick out the 3 trips with largest timespan\n",
    "minitaxi.nlargest(3, 'elapsed_time')"
   ]
  },
  {
   "cell_type": "markdown",
   "id": "afd98ed0-e39a-440a-9487-2984a6408f94",
   "metadata": {},
   "source": [
    "## Working with index\n",
    "Currently the index is simply using the row numbers, but if we wish to work with the pickup times significantly, perhaps indexing by the datetime column is more effective."
   ]
  },
  {
   "cell_type": "code",
   "execution_count": null,
   "id": "bcc5efcf-153d-4e64-b4e1-9c4cbf34953a",
   "metadata": {},
   "outputs": [],
   "source": [
    "minitaxi.index"
   ]
  },
  {
   "cell_type": "markdown",
   "id": "34a302b1-054f-4709-a490-91286b145e59",
   "metadata": {},
   "source": [
    "### Setting index"
   ]
  },
  {
   "cell_type": "code",
   "execution_count": null,
   "id": "12fb34ed-cde5-4c80-a38c-0c27aeac8a32",
   "metadata": {},
   "outputs": [],
   "source": [
    "minitaxi = minitaxi.set_index('pickup')\n",
    "minitaxi.head(3)"
   ]
  },
  {
   "cell_type": "markdown",
   "id": "5d205c96-326e-4fd7-bd73-8d2e443cd5cf",
   "metadata": {},
   "source": [
    "### Sorting by index"
   ]
  },
  {
   "cell_type": "code",
   "execution_count": null,
   "id": "b99a9167-1598-4da1-a928-c3c9857a29cd",
   "metadata": {},
   "outputs": [],
   "source": [
    "# sorting by indices\n",
    "minitaxi = minitaxi.sort_index()\n",
    "minitaxi.head()"
   ]
  },
  {
   "cell_type": "markdown",
   "id": "0910ff55-b1b3-4558-9f7b-622303558919",
   "metadata": {},
   "source": [
    "Recall how we have used `[0:4]` to locate the rows indexed 0 to 4. Since we are indexing by datetime, we can select within time ranges."
   ]
  },
  {
   "cell_type": "markdown",
   "id": "4ccb2dc1-5ac4-4cf8-b3b6-88d40b7ac892",
   "metadata": {},
   "source": [
    "### Selecting by index"
   ]
  },
  {
   "cell_type": "code",
   "execution_count": null,
   "id": "fd407651-cce2-43f2-8910-158e562c7396",
   "metadata": {},
   "outputs": [],
   "source": [
    "# selecting the taxi rides in the first 6 hours of the new year\n",
    "minitaxi['2024-01-01 00:00':'2024-01-01 06:00']"
   ]
  },
  {
   "cell_type": "markdown",
   "id": "f2bbdf9d-0812-4fe8-b635-5b4b1def779b",
   "metadata": {},
   "source": [
    "### Resetting index\n",
    "We can revert any specific column index back to row numbers, **but** notice that by setting and resetting index you lose the original row numbers."
   ]
  },
  {
   "cell_type": "code",
   "execution_count": null,
   "id": "904ebf9e-db6e-497d-a151-52c5e0671888",
   "metadata": {},
   "outputs": [],
   "source": [
    "minitaxi = minitaxi.reset_index()\n",
    "minitaxi.head()"
   ]
  },
  {
   "cell_type": "markdown",
   "id": "f2b1462f-9e16-4a14-a76e-371d1008d2e1",
   "metadata": {},
   "source": [
    "## Practice 2\n",
    "\n",
    "Using the `meteor` dataset, \n",
    "\n",
    "1. cast the `year` column to an integer column.\n",
    "2. create a new column indicating whether the meteorite was observed falling before 1970.\n",
    "3. set the index to the id column and extract all the rows with IDs between 10,036 and 10,040 (inclusive) with `loc[]`.\n",
    "4. examine the `year` column to see if there are any data errors."
   ]
  },
  {
   "cell_type": "markdown",
   "id": "929a2ff5-d7f8-4f46-a8f3-fd166cdf981e",
   "metadata": {},
   "source": []
  }
 ],
 "metadata": {
  "kernelspec": {
   "display_name": "Python 3 (ipykernel)",
   "language": "python",
   "name": "python3"
  },
  "language_info": {
   "codemirror_mode": {
    "name": "ipython",
    "version": 3
   },
   "file_extension": ".py",
   "mimetype": "text/x-python",
   "name": "python",
   "nbconvert_exporter": "python",
   "pygments_lexer": "ipython3",
   "version": "3.11.8"
  }
 },
 "nbformat": 4,
 "nbformat_minor": 5
}
