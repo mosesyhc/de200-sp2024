{
 "cells": [
  {
   "cell_type": "markdown",
   "id": "8b359c7d-d663-4205-9c24-2d2583b38390",
   "metadata": {},
   "source": [
    "# Some important (high-level) considerations"
   ]
  },
  {
   "cell_type": "markdown",
   "id": "c9de7126-7d82-41dc-9418-96e63257ad21",
   "metadata": {},
   "source": [
    "In applying any machine learning algorithms to a dataset, several considerations are crucial.  This supplementary document covers some of the basic steps in making choices that matter to your problem.\n",
    "\n"
   ]
  },
  {
   "cell_type": "markdown",
   "id": "3ed7de9e-efa7-4c90-be62-8dd7cc9a21b1",
   "metadata": {},
   "source": [
    "## Problem types *or* Goals"
   ]
  },
  {
   "cell_type": "markdown",
   "id": "bccf3a92-f119-49e0-b550-602726ee952a",
   "metadata": {},
   "source": [
    "```{figure} ../img/ml-goals1.png\n",
    "---\n",
    "width: 70%\n",
    "name: ml-goals1\n",
    "---\n",
    "Goals in building a model (image source: Stefano Tempesta).\n",
    "```"
   ]
  },
  {
   "cell_type": "markdown",
   "id": "f3d44423-b314-4424-ba65-312b3504b710",
   "metadata": {},
   "source": [
    "```{figure} ../img/ml-goals2.png\n",
    "---\n",
    "width: 70%\n",
    "name: ml-goals2\n",
    "---\n",
    "Goals in building a model, continued (image source: Stefano Tempesta).\n",
    "```"
   ]
  },
  {
   "cell_type": "markdown",
   "id": "677a6782-b6d4-4104-b221-beaa6b98fa35",
   "metadata": {},
   "source": [
    "## Learning algorithms\n",
    "\n",
    "### Supervised learning\n",
    "To model relationships and dependencies between input and output.\n",
    "\n",
    "**Regression**\n",
    "\n",
    "For example, can we predict the mass of a penguin given its other characteristics?"
   ]
  },
  {
   "cell_type": "code",
   "execution_count": null,
   "id": "0ac83d76-32a3-47dc-932a-01ef44b1faa2",
   "metadata": {},
   "outputs": [],
   "source": [
    "import seaborn as sns\n",
    "import pandas as pd\n",
    "sns.set_palette('bright')\n",
    "\n",
    "penguins = sns.load_dataset('penguins')\n",
    "penguins = penguins[~penguins.isna().any(axis='columns')]\n",
    "penguins = penguins.sort_values('flipper_length_mm')"
   ]
  },
  {
   "cell_type": "code",
   "execution_count": null,
   "id": "f9a1658b-ba07-40e4-88e6-cd17a80bbdfa",
   "metadata": {},
   "outputs": [],
   "source": [
    "from sklearn.linear_model import LinearRegression\n",
    "from sklearn.neighbors import KNeighborsRegressor\n",
    "from sklearn.ensemble import RandomForestRegressor\n",
    "from sklearn.metrics import root_mean_squared_error\n",
    "\n",
    "X = penguins[['flipper_length_mm']]\n",
    "y = penguins['body_mass_g']\n",
    "\n",
    "# Linear Regression\n",
    "lr = LinearRegression()\n",
    "lr.fit(X, y)\n",
    "y_pred_lr = lr.predict(X)\n",
    "print(f\"Linear Regression RMSE: {root_mean_squared_error(y, y_pred_lr)}\")\n",
    "\n",
    "# Nearest Neighbors\n",
    "\n",
    "# Random Forest"
   ]
  },
  {
   "cell_type": "code",
   "execution_count": null,
   "id": "36fc6c64-493d-4ccc-80ff-b31a78c2206e",
   "metadata": {},
   "outputs": [],
   "source": [
    "import matplotlib.pyplot as plt\n",
    "fig, ax = plt.subplots(1, 2, figsize=(10, 5))\n",
    "\n",
    "sns.scatterplot(y='body_mass_g', x='flipper_length_mm', color='k', data=penguins, ax=ax[0])\n",
    "\n",
    "y_preds = [y_pred_lr, y_pred_knn, y_pred_rf]\n",
    "labels = ['linear reg.', 'kNN', 'RF']\n",
    "linestyles = ['-', '--', ':']\n",
    "markerstyles = ['.', 'D', 'x']\n",
    "\n",
    "for j, y_pred in enumerate(y_preds):\n",
    "    ax[0].plot(X, y_pred, label=labels[j], linestyle=linestyles[j])\n",
    "    ax[1].scatter(X, y - y_pred, label=labels[j], marker=markerstyles[j], alpha=0.5)\n",
    "ax[0].legend()\n",
    "ax[1].legend()\n",
    "plt.tight_layout()"
   ]
  },
  {
   "cell_type": "markdown",
   "id": "1def330d-d5b7-4a37-8141-47bf7421ea93",
   "metadata": {},
   "source": [
    "**Classification**\n",
    "\n",
    "For example, can we predict where a penguin lives given its other characteristics?"
   ]
  },
  {
   "cell_type": "code",
   "execution_count": null,
   "id": "cd5047ca-8baf-4ac8-9fbd-0e7104509b9e",
   "metadata": {},
   "outputs": [],
   "source": [
    "from sklearn.linear_model import LogisticRegression\n",
    "from sklearn.svm import SVC\n",
    "from sklearn.ensemble import RandomForestClassifier\n",
    "from sklearn.metrics import accuracy_score\n",
    "from sklearn.model_selection import cross_val_score\n",
    "from sklearn.preprocessing import LabelEncoder\n",
    "\n",
    "# Define inputs and outputs\n",
    "penguins = penguins.sample(frac=1)\n",
    "X = penguins.drop(\"island\", axis=1)\n",
    "y = penguins[\"island\"]\n",
    "\n",
    "# Encode categorical variables\n",
    "enc = LabelEncoder()\n",
    "y = enc.fit_transform(y)\n",
    "X = pd.get_dummies(X)"
   ]
  },
  {
   "cell_type": "code",
   "execution_count": null,
   "id": "15a998fd-553c-4687-9816-e38f3adf8a59",
   "metadata": {},
   "outputs": [],
   "source": [
    "models = [LogisticRegression, SVC, RandomForestClassifier]"
   ]
  },
  {
   "cell_type": "markdown",
   "id": "cb0e043a-0410-44ac-ba32-bbf80f10b03c",
   "metadata": {},
   "source": [
    "### Unsupervised learning\n",
    "To identify structure or relationships.\n",
    "\n",
    "**Clustering**\n",
    "\n",
    "For example, can we group the penguins to identify the species using their characteristics?"
   ]
  },
  {
   "cell_type": "code",
   "execution_count": null,
   "id": "75fd27d9-5c6f-48cc-b0c0-7ab302deadae",
   "metadata": {},
   "outputs": [],
   "source": [
    "from sklearn.cluster import KMeans\n",
    "from sklearn.metrics import confusion_matrix"
   ]
  },
  {
   "cell_type": "code",
   "execution_count": null,
   "id": "bc32c689-c3e4-4aa2-94ff-e2d04a8cd275",
   "metadata": {},
   "outputs": [],
   "source": [
    "# Define input and output\n",
    "X = penguins.drop([\"species\", \"island\", 'sex'], axis=1)\n",
    "y = penguins[\"species\"]\n",
    "\n",
    "# Encode categorical variables\n",
    "enc = LabelEncoder()\n",
    "y = enc.fit_transform(y)"
   ]
  },
  {
   "cell_type": "code",
   "execution_count": null,
   "id": "332eea51-9a7d-4f09-b118-5bb8c0693fac",
   "metadata": {},
   "outputs": [],
   "source": [
    "# clustering fitting and prediction\n",
    "\n",
    "\n",
    "penguins['species_pred'] = y_pred"
   ]
  },
  {
   "cell_type": "code",
   "execution_count": null,
   "id": "1f16c3bb-5f83-4bf6-a7d1-df1abcd78ff9",
   "metadata": {},
   "outputs": [],
   "source": [
    "fig, ax = plt.subplots(1, 2, figsize=(10, 5))\n",
    "sns.scatterplot(y='body_mass_g', x='flipper_length_mm', hue='species', data=penguins, ax=ax[0])\n",
    "sns.scatterplot(y='body_mass_g', x='flipper_length_mm', hue='species_pred', data=penguins, ax=ax[1])"
   ]
  },
  {
   "cell_type": "markdown",
   "id": "e5a27fa8-c755-41a8-b25c-e3b2335b1b1a",
   "metadata": {},
   "source": [
    "### Semi-supervised learning\n",
    "Some outputs are \"labeled\", most are not, typically in classification problems."
   ]
  },
  {
   "cell_type": "markdown",
   "id": "6e19e36f-214b-47d6-9648-6bc969450ab2",
   "metadata": {},
   "source": [
    "```{figure} ../img/ex-semi-supervised.png\n",
    "---\n",
    "width: 80%\n",
    "name: ex-semi-supervised\n",
    "---\n",
    "Example of a semi-supervised learning model {cite:p}`berthelot2019mixmatch`.\n",
    "```"
   ]
  },
  {
   "cell_type": "markdown",
   "id": "d9d0deb2-04ed-4db8-90c4-73ad4225ad7c",
   "metadata": {},
   "source": [
    "### Reinforcement learning\n",
    "The algorithm learns by acting and observing reward.  The goal is to identify an \"optimal\" policy."
   ]
  },
  {
   "cell_type": "markdown",
   "id": "46c4d1f5-e12f-46aa-b89d-a4a162379273",
   "metadata": {},
   "source": [
    "```{figure} ../img/reinforcement-learning.png\n",
    "---\n",
    "width: 70%\n",
    "name: reinforcement\n",
    "---\n",
    "Generic modeling of a reinforcement learning model.\n",
    "```"
   ]
  },
  {
   "cell_type": "markdown",
   "id": "c797edb7-94ad-4e8e-9cfd-318bce2b6b09",
   "metadata": {},
   "source": [
    "## Training, testing, and validation"
   ]
  },
  {
   "cell_type": "markdown",
   "id": "23351cfc-7c3d-44dc-8886-17c54a19ca69",
   "metadata": {},
   "source": [
    "A brief word through https://mlu-explain.github.io/train-test-validation/."
   ]
  },
  {
   "cell_type": "markdown",
   "id": "d285ce64-4d3a-4699-81a7-a6f08d529dbb",
   "metadata": {},
   "source": [
    "## Regularization and hyperparameter tuning"
   ]
  },
  {
   "cell_type": "markdown",
   "id": "9ce2dbf4-091a-4162-96ff-b88f8ae336d0",
   "metadata": {},
   "source": [
    "Example: with a linear regression base.\n",
    "\n",
    "Lasso ($\\ell_1$):\n",
    "\n",
    "$$\\min_{w} { \\frac{1}{2n} ||X w - y||_2 ^ 2 + \\alpha ||w||_1}$$\n",
    "\n",
    "Ridge ($\\ell_2$):\n",
    "\n",
    "$$\\min_{w} { \\frac{1}{2n} ||X w - y||_2 ^ 2 + \\alpha ||w||_2 ^ 2}$$\n",
    "Elastic Net:\n",
    "\n",
    "$$\\min_{w} { \\frac{1}{2n} ||X w - y||_2 ^ 2 + \\alpha \\rho ||w||_1 +\n",
    "\\frac{\\alpha(1-\\rho)}{2} ||w||_2 ^ 2}$$"
   ]
  },
  {
   "cell_type": "markdown",
   "id": "362b05c7-278a-47f4-87bc-c427d75f6cbb",
   "metadata": {},
   "source": [
    "```{figure} ../img/lasso-ridge.png\n",
    "---\n",
    "width: 70%\n",
    "name: lasso-ridge\n",
    "---\n",
    "Lasso vs. ridge regularization {cite:p}`efron2021computer`.\n",
    "```"
   ]
  },
  {
   "cell_type": "code",
   "execution_count": null,
   "id": "b6888a78-9498-40c1-ad86-d64b8307a003",
   "metadata": {},
   "outputs": [],
   "source": [
    "from sklearn.linear_model import lasso_path, enet_path\n",
    "\n",
    "X = penguins.drop(['body_mass_g'], axis=1)\n",
    "X = pd.get_dummies(X)\n",
    "\n",
    "y = penguins['body_mass_g']"
   ]
  },
  {
   "cell_type": "code",
   "execution_count": null,
   "id": "fa2862c4-86e4-4a2a-93c3-fa553a7c8399",
   "metadata": {},
   "outputs": [],
   "source": [
    "# print(\"Computing regularization path using the lasso...\")\n",
    "eps = 5e-4\n",
    "alphas_lasso, coefs_lasso, _ = lasso_path(X, y, eps=eps)\n",
    "alphas_enet, coefs_enet, _ = enet_path(X, y, eps=eps, l1_ratio=0.8)"
   ]
  },
  {
   "cell_type": "code",
   "execution_count": null,
   "id": "c9ca1d26-3ce5-444d-8249-a38fc17aa00b",
   "metadata": {},
   "outputs": [],
   "source": [
    "import numpy as np \n",
    "from itertools import cycle\n",
    "\n",
    "plt.figure(1)\n",
    "colors = cycle([\"b\", \"r\", \"g\", \"c\", \"k\"])\n",
    "neg_log_alphas_lasso = -np.log10(alphas_lasso)\n",
    "neg_log_alphas_enet = -np.log10(alphas_enet)\n",
    "for coef_l, coef_e, c in zip(coefs_lasso, coefs_enet, colors):\n",
    "    l1 = plt.plot(neg_log_alphas_lasso, coef_l, c=c)\n",
    "    l2 = plt.plot(neg_log_alphas_enet, coef_e, linestyle=\"--\", c=c)\n",
    "\n",
    "plt.xlabel(\"-Log(alpha)\")\n",
    "plt.ylabel(\"coefficients\")\n",
    "plt.title(\"Lasso and Elastic-Net Paths\")\n",
    "plt.legend((l1[-1], l2[-1]), (\"Lasso\", \"Elastic-Net\"), loc=\"lower left\")\n",
    "plt.axis(\"tight\")"
   ]
  },
  {
   "cell_type": "code",
   "execution_count": null,
   "id": "aeff8086-ae27-44ce-a1d8-3b9e46428936",
   "metadata": {},
   "outputs": [],
   "source": [
    "X.columns"
   ]
  },
  {
   "cell_type": "code",
   "execution_count": null,
   "id": "b667b2a5-a305-4bfa-ac45-e1ad3fe544f9",
   "metadata": {},
   "outputs": [],
   "source": [
    "coefs_lasso[:, 99]"
   ]
  },
  {
   "cell_type": "markdown",
   "id": "00d0fc74-b81d-4567-8507-016a820b95af",
   "metadata": {},
   "source": [
    "## One step toward automating machine learning model selection"
   ]
  },
  {
   "cell_type": "code",
   "execution_count": null,
   "id": "ab997696-a48e-4976-ad90-90ee331934ef",
   "metadata": {},
   "outputs": [],
   "source": [
    "from autogluon.tabular import TabularDataset, TabularPredictor\n",
    "\n",
    "penguins = sns.load_dataset('penguins')\n",
    "penguins = penguins[~penguins.isna().any(axis='columns')]"
   ]
  },
  {
   "cell_type": "markdown",
   "id": "fdaefb01-e93a-47cd-a3f7-b46847ca587b",
   "metadata": {},
   "source": [
    "### Regression"
   ]
  },
  {
   "cell_type": "code",
   "execution_count": null,
   "id": "41218b50-631b-427a-8ad3-99db03154b5c",
   "metadata": {},
   "outputs": [],
   "source": []
  },
  {
   "cell_type": "markdown",
   "id": "f4af5b4b-36b0-46a1-a215-5d0cb3209637",
   "metadata": {},
   "source": [
    "### Classification"
   ]
  },
  {
   "cell_type": "code",
   "execution_count": null,
   "id": "ad19b4e6-0222-45a6-913c-f0747144b415",
   "metadata": {},
   "outputs": [],
   "source": []
  }
 ],
 "metadata": {
  "kernelspec": {
   "display_name": "Python 3 (ipykernel)",
   "language": "python",
   "name": "python3"
  },
  "language_info": {
   "codemirror_mode": {
    "name": "ipython",
    "version": 3
   },
   "file_extension": ".py",
   "mimetype": "text/x-python",
   "name": "python",
   "nbconvert_exporter": "python",
   "pygments_lexer": "ipython3",
   "version": "3.11.8"
  }
 },
 "nbformat": 4,
 "nbformat_minor": 5
}
