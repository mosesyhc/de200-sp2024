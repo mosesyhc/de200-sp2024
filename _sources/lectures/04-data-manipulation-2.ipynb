{
 "cells": [
  {
   "cell_type": "markdown",
   "id": "4abd1e78-cc90-44e4-83ce-86e7511cdebc",
   "metadata": {},
   "source": [
    "# `pandas` Part II - Group and aggregation\n",
    "\n",
    "This document continues to cover data manipulation with `pandas`, including grouping, aggregating, and reorganizing data."
   ]
  },
  {
   "cell_type": "markdown",
   "id": "fbeb81f0-36c3-448b-a184-43668a895ee6",
   "metadata": {},
   "source": [
    "## Grouping data\n",
    "\n",
    "Grouping together that are in the same category to aggregate over rows in each category.\n",
    "\n",
    "Useful in \n",
    "- performing large operations, and\n",
    "- summarizing trends in a dataset."
   ]
  },
  {
   "cell_type": "markdown",
   "id": "dd53b6a5-27a0-4477-afae-0a7edf229da5",
   "metadata": {},
   "source": [
    "Say we have a dataset with baby naming frequency throughout the years.  Perhaps we are first interested in \n",
    "\n",
    "- how many babies are born in each year? (Good indicator of societal confidence..)"
   ]
  },
  {
   "cell_type": "markdown",
   "id": "b6e5ac39-445f-459f-819c-713deb18e15d",
   "metadata": {},
   "source": [
    "```{figure} ../img/pandas-group-schema.png\n",
    "---\n",
    "width: 80%\n",
    "name: pandas-group\n",
    "---\n",
    "Example of aggregation in `pandas` {cite:p}`lau2023learning`\n",
    "```"
   ]
  },
  {
   "cell_type": "code",
   "execution_count": 1,
   "id": "ba266c58-7369-40cc-b5c3-0c020bfa5e46",
   "metadata": {},
   "outputs": [],
   "source": [
    "import pandas as pd\n",
    "\n",
    "baby = pd.read_csv('../data/ssa-names.csv.zip')"
   ]
  },
  {
   "cell_type": "code",
   "execution_count": null,
   "id": "51c2e789-5f41-4b8b-9d3a-cfad60f95e9f",
   "metadata": {},
   "outputs": [],
   "source": [
    "# number of total babies\n",
    "baby['Count'].sum()"
   ]
  },
  {
   "cell_type": "markdown",
   "id": "778b1cad-883e-45f3-8c20-3c0e2e07306d",
   "metadata": {},
   "source": [
    "### Grouping and aggregating"
   ]
  },
  {
   "cell_type": "markdown",
   "id": "09459bf7-2be4-4857-94bf-304d461314a4",
   "metadata": {},
   "source": [
    "**How many babies are born each year?**"
   ]
  },
  {
   "cell_type": "code",
   "execution_count": null,
   "id": "f8f77a95-4a9d-4cdd-bf53-36d0f6464130",
   "metadata": {},
   "outputs": [],
   "source": [
    "counts_by_year = baby.groupby('Year')['Count'].sum()"
   ]
  },
  {
   "cell_type": "markdown",
   "id": "e89f8625-ccfd-42c0-b2a0-5f209eaaa03b",
   "metadata": {},
   "source": [
    "### A general recipe for grouping\n",
    "\n",
    "```python\n",
    "(baby                # the dataframe\n",
    " .groupby('Year')    # column(s) to group\n",
    " ['Count']           # column(s) to aggregate\n",
    " .sum()              # how to aggregate\n",
    ")\n",
    "\n",
    "# general form\n",
    "dataframe.groupby(column_name).agg(aggregation_function)\n",
    "```"
   ]
  },
  {
   "cell_type": "markdown",
   "id": "1ebb0039-cc75-43f3-9096-1bfc3573bac7",
   "metadata": {},
   "source": [
    "### Grouping by multiple attributes\n",
    "\n",
    "**How many female and male babies are born each year?**"
   ]
  },
  {
   "cell_type": "code",
   "execution_count": null,
   "id": "50c4c960-bdda-4b2a-8d6c-47792bbc2174",
   "metadata": {},
   "outputs": [],
   "source": [
    "counts_by_year_and_sex = baby.groupby(['Year', 'Sex'])['Count'].sum()\n",
    "counts_by_year_and_sex"
   ]
  },
  {
   "cell_type": "markdown",
   "id": "8e92f7f8-53a4-4f8f-995a-7d7fef38bb28",
   "metadata": {},
   "source": [
    "### Aggregating by a custom function"
   ]
  },
  {
   "cell_type": "markdown",
   "id": "80df9d6b-1607-4da4-a89e-07597827623b",
   "metadata": {},
   "source": [
    "**What about number of unique names by year?**"
   ]
  },
  {
   "cell_type": "code",
   "execution_count": null,
   "id": "853b2631-7f2a-4a59-9b70-6a69a5bc65f5",
   "metadata": {
    "scrolled": true
   },
   "outputs": [],
   "source": [
    "def count_unique(names):\n",
    "    return len(names.unique())\n",
    "\n",
    "unique_names_by_year = (baby\n",
    " .groupby('Year')\n",
    " ['Name']\n",
    " .agg(count_unique) # aggregate using the custom count_unique function\n",
    ")\n",
    "unique_names_by_year"
   ]
  },
  {
   "cell_type": "markdown",
   "id": "1d7fcc1e-28cc-4dde-a9f6-180da0b63f13",
   "metadata": {},
   "source": [
    "## Apply\n",
    "The `Series.apply()` function applies an arbitrary function on each row entry.\n",
    "\n",
    "**Retrieve first letter of name**"
   ]
  },
  {
   "cell_type": "code",
   "execution_count": null,
   "id": "7d019df2-91fb-45a4-872d-68787682a3f0",
   "metadata": {},
   "outputs": [],
   "source": [
    "def get_first_letter(s):\n",
    "    return s[0]  # assumes string input"
   ]
  },
  {
   "cell_type": "code",
   "execution_count": null,
   "id": "1404ae44-b6cb-4857-b474-11a5fd3de26b",
   "metadata": {},
   "outputs": [],
   "source": [
    "names = baby['Name']\n",
    "names.apply(get_first_letter)"
   ]
  },
  {
   "cell_type": "markdown",
   "id": "b791dd40-0ef4-4263-8718-8284b44aea98",
   "metadata": {},
   "source": [
    "**Number of letters in name**"
   ]
  },
  {
   "cell_type": "markdown",
   "id": "43c8ecd1-8ba6-44ee-83a4-7db234cf375b",
   "metadata": {},
   "source": [
    "### Quick word about `apply()` effectiveness"
   ]
  },
  {
   "cell_type": "markdown",
   "id": "4fe71004-780b-476e-b8c7-ebc6d62463cb",
   "metadata": {},
   "source": [
    "The `apply()` function is flexible, accommodating custom operations.  But it is *slow*."
   ]
  },
  {
   "cell_type": "code",
   "execution_count": null,
   "id": "1b187208-f0cc-423e-8222-1c917958c616",
   "metadata": {},
   "outputs": [],
   "source": [
    "def does_nothing(year):\n",
    "    return year / 10 * 10"
   ]
  },
  {
   "cell_type": "code",
   "execution_count": 61,
   "id": "8d8fedba-405b-47f8-8b92-4f141563656a",
   "metadata": {},
   "outputs": [],
   "source": [
    "years = baby['Year']"
   ]
  },
  {
   "cell_type": "code",
   "execution_count": 63,
   "id": "045e9a4b-57af-4ea6-ad8b-5071d427d974",
   "metadata": {},
   "outputs": [
    {
     "name": "stdout",
     "output_type": "stream",
     "text": [
      "85.8 ms ± 8.66 ms per loop (mean ± std. dev. of 7 runs, 10 loops each)\n"
     ]
    }
   ],
   "source": [
    "%timeit years / 10 * 10"
   ]
  },
  {
   "cell_type": "code",
   "execution_count": 64,
   "id": "849ac9d2-a843-4bfb-9804-52f9479b23ab",
   "metadata": {},
   "outputs": [
    {
     "name": "stdout",
     "output_type": "stream",
     "text": [
      "2.53 s ± 142 ms per loop (mean ± std. dev. of 7 runs, 1 loop each)\n"
     ]
    }
   ],
   "source": [
    "%timeit years.apply(does_nothing)"
   ]
  },
  {
   "cell_type": "markdown",
   "id": "45e4cd68-fc7e-447e-8da4-32c1145f4aeb",
   "metadata": {},
   "source": [
    "## Pivoting\n",
    "Pivoting is one way to organize and present data, by arranging the results of a group and aggregation when grouping with two columns."
   ]
  },
  {
   "cell_type": "markdown",
   "id": "11860d07-e06b-4d57-ade3-410ba383d288",
   "metadata": {},
   "source": [
    "```{figure} ../img/pandas-pivot.png\n",
    "---\n",
    "width: 80%\n",
    "name: pandas-pivot\n",
    "---\n",
    "Example of pivoting in `pandas` (Data 100)\n",
    "```"
   ]
  },
  {
   "cell_type": "code",
   "execution_count": null,
   "id": "b40c8c3c-0159-4ccc-bc2e-f1ece7461d64",
   "metadata": {},
   "outputs": [],
   "source": [
    "mf_pivot = pd.pivot_table(\n",
    "    baby,\n",
    "    index='Year',   # Column to turn into new index\n",
    "    columns='Sex',  # Column to turn into new columns\n",
    "    values='Count', # Column to aggregate for values\n",
    "    aggfunc='sum')    # Aggregation function\n",
    "mf_pivot"
   ]
  },
  {
   "cell_type": "markdown",
   "id": "83520d69-80a9-4252-a9b1-8dc29ffeccb1",
   "metadata": {},
   "source": [
    "## Melting\n",
    "Melting is the \"reverse\" of pivoting, transforming *wide* tables into *long* tables."
   ]
  },
  {
   "cell_type": "code",
   "execution_count": null,
   "id": "be8dfd2f-13af-4d9f-8cbb-7852c8d784b0",
   "metadata": {},
   "outputs": [],
   "source": [
    "mf_long = mf_pivot.reset_index().melt(\n",
    "    id_vars='Year', # column that uniquely identifies a row (can be multiple)\n",
    "    var_name='Sex', # name for the new column created by melting\n",
    "    value_name='Count' # name for new column containing values from melted columns\n",
    ")\n",
    "mf_long"
   ]
  },
  {
   "cell_type": "markdown",
   "id": "3636d2e0-a8d8-45f7-a543-a7c294f21f3d",
   "metadata": {},
   "source": [
    "*Why do we need* `reset_index()`?"
   ]
  },
  {
   "cell_type": "markdown",
   "id": "8475a616-d839-4af6-9cdb-745822ba4352",
   "metadata": {},
   "source": [
    "## Practice 3"
   ]
  },
  {
   "cell_type": "markdown",
   "id": "2656cec9-2f4b-4a8e-95ce-350dea33c13d",
   "metadata": {},
   "source": [
    "Using the baby names data, find the names with most occurrences in each year for both sexes."
   ]
  },
  {
   "cell_type": "code",
   "execution_count": 8,
   "id": "94986957-1be0-4546-abab-a7f1b03e7060",
   "metadata": {},
   "outputs": [
    {
     "name": "stdout",
     "output_type": "stream",
     "text": [
      "<class 'pandas.core.frame.DataFrame'>\n",
      "RangeIndex: 6311504 entries, 0 to 6311503\n",
      "Data columns (total 5 columns):\n",
      " #   Column  Dtype \n",
      "---  ------  ----- \n",
      " 0   State   object\n",
      " 1   Sex     object\n",
      " 2   Year    int64 \n",
      " 3   Name    object\n",
      " 4   Count   int64 \n",
      "dtypes: int64(2), object(3)\n",
      "memory usage: 240.8+ MB\n"
     ]
    }
   ],
   "source": [
    "baby.info()"
   ]
  },
  {
   "cell_type": "code",
   "execution_count": 29,
   "id": "740a3c63-c255-49e8-b67f-c350bc5047ef",
   "metadata": {},
   "outputs": [
    {
     "data": {
      "text/plain": [
       "Year  Sex\n",
       "1910  F        Mary\n",
       "      M        John\n",
       "1911  F        Mary\n",
       "      M        John\n",
       "1912  F        Mary\n",
       "              ...  \n",
       "2019  M        Noah\n",
       "2020  F      Olivia\n",
       "      M        Noah\n",
       "2021  F      Olivia\n",
       "      M        Noah\n",
       "Name: Count, Length: 224, dtype: object"
      ]
     },
     "execution_count": 29,
     "metadata": {},
     "output_type": "execute_result"
    }
   ],
   "source": [
    "# First attempt: most occurred names over all states for each year and sex\n",
    "def max_count_name(column):\n",
    "    max_index = column.idxmax()\n",
    "    return baby.loc[max_index, 'Name']\n",
    "\n",
    "baby.groupby(['Year', 'Sex'])['Count'].agg(max_count_name)"
   ]
  },
  {
   "cell_type": "code",
   "execution_count": 4,
   "id": "79f94aaa-df84-46b5-8787-22f668a19585",
   "metadata": {},
   "outputs": [
    {
     "data": {
      "text/html": [
       "<div>\n",
       "<style scoped>\n",
       "    .dataframe tbody tr th:only-of-type {\n",
       "        vertical-align: middle;\n",
       "    }\n",
       "\n",
       "    .dataframe tbody tr th {\n",
       "        vertical-align: top;\n",
       "    }\n",
       "\n",
       "    .dataframe thead th {\n",
       "        text-align: right;\n",
       "    }\n",
       "</style>\n",
       "<table border=\"1\" class=\"dataframe\">\n",
       "  <thead>\n",
       "    <tr style=\"text-align: right;\">\n",
       "      <th></th>\n",
       "      <th>State</th>\n",
       "      <th>Sex</th>\n",
       "      <th>Year</th>\n",
       "      <th>Name</th>\n",
       "      <th>Count</th>\n",
       "    </tr>\n",
       "  </thead>\n",
       "  <tbody>\n",
       "    <tr>\n",
       "      <th>4917850</th>\n",
       "      <td>PA</td>\n",
       "      <td>F</td>\n",
       "      <td>1910</td>\n",
       "      <td>Mary</td>\n",
       "      <td>2913</td>\n",
       "    </tr>\n",
       "    <tr>\n",
       "      <th>5036503</th>\n",
       "      <td>PA</td>\n",
       "      <td>M</td>\n",
       "      <td>1910</td>\n",
       "      <td>John</td>\n",
       "      <td>1326</td>\n",
       "    </tr>\n",
       "    <tr>\n",
       "      <th>4918257</th>\n",
       "      <td>PA</td>\n",
       "      <td>F</td>\n",
       "      <td>1911</td>\n",
       "      <td>Mary</td>\n",
       "      <td>3188</td>\n",
       "    </tr>\n",
       "    <tr>\n",
       "      <th>5036756</th>\n",
       "      <td>PA</td>\n",
       "      <td>M</td>\n",
       "      <td>1911</td>\n",
       "      <td>John</td>\n",
       "      <td>1672</td>\n",
       "    </tr>\n",
       "    <tr>\n",
       "      <th>4918688</th>\n",
       "      <td>PA</td>\n",
       "      <td>F</td>\n",
       "      <td>1912</td>\n",
       "      <td>Mary</td>\n",
       "      <td>4106</td>\n",
       "    </tr>\n",
       "    <tr>\n",
       "      <th>...</th>\n",
       "      <td>...</td>\n",
       "      <td>...</td>\n",
       "      <td>...</td>\n",
       "      <td>...</td>\n",
       "      <td>...</td>\n",
       "    </tr>\n",
       "    <tr>\n",
       "      <th>6302995</th>\n",
       "      <td>CA</td>\n",
       "      <td>M</td>\n",
       "      <td>2019</td>\n",
       "      <td>Noah</td>\n",
       "      <td>2677</td>\n",
       "    </tr>\n",
       "    <tr>\n",
       "      <th>6139273</th>\n",
       "      <td>CA</td>\n",
       "      <td>F</td>\n",
       "      <td>2020</td>\n",
       "      <td>Olivia</td>\n",
       "      <td>2350</td>\n",
       "    </tr>\n",
       "    <tr>\n",
       "      <th>6305858</th>\n",
       "      <td>CA</td>\n",
       "      <td>M</td>\n",
       "      <td>2020</td>\n",
       "      <td>Noah</td>\n",
       "      <td>2625</td>\n",
       "    </tr>\n",
       "    <tr>\n",
       "      <th>6142887</th>\n",
       "      <td>CA</td>\n",
       "      <td>F</td>\n",
       "      <td>2021</td>\n",
       "      <td>Olivia</td>\n",
       "      <td>2395</td>\n",
       "    </tr>\n",
       "    <tr>\n",
       "      <th>6308651</th>\n",
       "      <td>CA</td>\n",
       "      <td>M</td>\n",
       "      <td>2021</td>\n",
       "      <td>Noah</td>\n",
       "      <td>2591</td>\n",
       "    </tr>\n",
       "  </tbody>\n",
       "</table>\n",
       "<p>224 rows × 5 columns</p>\n",
       "</div>"
      ],
      "text/plain": [
       "        State Sex  Year    Name  Count\n",
       "4917850    PA   F  1910    Mary   2913\n",
       "5036503    PA   M  1910    John   1326\n",
       "4918257    PA   F  1911    Mary   3188\n",
       "5036756    PA   M  1911    John   1672\n",
       "4918688    PA   F  1912    Mary   4106\n",
       "...       ...  ..   ...     ...    ...\n",
       "6302995    CA   M  2019    Noah   2677\n",
       "6139273    CA   F  2020  Olivia   2350\n",
       "6305858    CA   M  2020    Noah   2625\n",
       "6142887    CA   F  2021  Olivia   2395\n",
       "6308651    CA   M  2021    Noah   2591\n",
       "\n",
       "[224 rows x 5 columns]"
      ]
     },
     "execution_count": 4,
     "metadata": {},
     "output_type": "execute_result"
    }
   ],
   "source": [
    "baby.loc[baby.groupby(['Year', 'Sex'])['Count'].idxmax()]"
   ]
  },
  {
   "cell_type": "code",
   "execution_count": 30,
   "id": "d14fc7c1-1227-4511-9731-68bef7ac44dc",
   "metadata": {},
   "outputs": [
    {
     "data": {
      "text/html": [
       "<div>\n",
       "<style scoped>\n",
       "    .dataframe tbody tr th:only-of-type {\n",
       "        vertical-align: middle;\n",
       "    }\n",
       "\n",
       "    .dataframe tbody tr th {\n",
       "        vertical-align: top;\n",
       "    }\n",
       "\n",
       "    .dataframe thead th {\n",
       "        text-align: right;\n",
       "    }\n",
       "</style>\n",
       "<table border=\"1\" class=\"dataframe\">\n",
       "  <thead>\n",
       "    <tr style=\"text-align: right;\">\n",
       "      <th></th>\n",
       "      <th>Year</th>\n",
       "      <th>Sex</th>\n",
       "      <th>Name</th>\n",
       "      <th>Count</th>\n",
       "    </tr>\n",
       "  </thead>\n",
       "  <tbody>\n",
       "    <tr>\n",
       "      <th>724</th>\n",
       "      <td>1910</td>\n",
       "      <td>F</td>\n",
       "      <td>Mary</td>\n",
       "      <td>22848</td>\n",
       "    </tr>\n",
       "    <tr>\n",
       "      <th>1444</th>\n",
       "      <td>1910</td>\n",
       "      <td>M</td>\n",
       "      <td>John</td>\n",
       "      <td>11450</td>\n",
       "    </tr>\n",
       "    <tr>\n",
       "      <th>2489</th>\n",
       "      <td>1911</td>\n",
       "      <td>F</td>\n",
       "      <td>Mary</td>\n",
       "      <td>24390</td>\n",
       "    </tr>\n",
       "    <tr>\n",
       "      <th>3245</th>\n",
       "      <td>1911</td>\n",
       "      <td>M</td>\n",
       "      <td>John</td>\n",
       "      <td>13446</td>\n",
       "    </tr>\n",
       "    <tr>\n",
       "      <th>4439</th>\n",
       "      <td>1912</td>\n",
       "      <td>F</td>\n",
       "      <td>Mary</td>\n",
       "      <td>32304</td>\n",
       "    </tr>\n",
       "    <tr>\n",
       "      <th>...</th>\n",
       "      <td>...</td>\n",
       "      <td>...</td>\n",
       "      <td>...</td>\n",
       "      <td>...</td>\n",
       "    </tr>\n",
       "    <tr>\n",
       "      <th>631732</th>\n",
       "      <td>2019</td>\n",
       "      <td>M</td>\n",
       "      <td>Liam</td>\n",
       "      <td>20578</td>\n",
       "    </tr>\n",
       "    <tr>\n",
       "      <th>637395</th>\n",
       "      <td>2020</td>\n",
       "      <td>F</td>\n",
       "      <td>Olivia</td>\n",
       "      <td>17641</td>\n",
       "    </tr>\n",
       "    <tr>\n",
       "      <th>641096</th>\n",
       "      <td>2020</td>\n",
       "      <td>M</td>\n",
       "      <td>Liam</td>\n",
       "      <td>19777</td>\n",
       "    </tr>\n",
       "    <tr>\n",
       "      <th>646827</th>\n",
       "      <td>2021</td>\n",
       "      <td>F</td>\n",
       "      <td>Olivia</td>\n",
       "      <td>17728</td>\n",
       "    </tr>\n",
       "    <tr>\n",
       "      <th>650600</th>\n",
       "      <td>2021</td>\n",
       "      <td>M</td>\n",
       "      <td>Liam</td>\n",
       "      <td>20272</td>\n",
       "    </tr>\n",
       "  </tbody>\n",
       "</table>\n",
       "<p>224 rows × 4 columns</p>\n",
       "</div>"
      ],
      "text/plain": [
       "        Year Sex    Name  Count\n",
       "724     1910   F    Mary  22848\n",
       "1444    1910   M    John  11450\n",
       "2489    1911   F    Mary  24390\n",
       "3245    1911   M    John  13446\n",
       "4439    1912   F    Mary  32304\n",
       "...      ...  ..     ...    ...\n",
       "631732  2019   M    Liam  20578\n",
       "637395  2020   F  Olivia  17641\n",
       "641096  2020   M    Liam  19777\n",
       "646827  2021   F  Olivia  17728\n",
       "650600  2021   M    Liam  20272\n",
       "\n",
       "[224 rows x 4 columns]"
      ]
     },
     "execution_count": 30,
     "metadata": {},
     "output_type": "execute_result"
    }
   ],
   "source": [
    "# Second attempt: finding the total number of babies by year, sex, and name\n",
    "# then group to find the most occurred name in each year for each sex\n",
    "baby_allstates = baby.groupby(['Year', 'Sex', 'Name'])['Count'].sum().reset_index()\n",
    "baby_allstates.loc[baby_allstates.groupby(['Year', 'Sex'])['Count'].idxmax()]"
   ]
  },
  {
   "cell_type": "code",
   "execution_count": 17,
   "id": "efe9fc7b-2825-4ca6-9dba-0f527efebd25",
   "metadata": {},
   "outputs": [
    {
     "data": {
      "text/html": [
       "<div>\n",
       "<style scoped>\n",
       "    .dataframe tbody tr th:only-of-type {\n",
       "        vertical-align: middle;\n",
       "    }\n",
       "\n",
       "    .dataframe tbody tr th {\n",
       "        vertical-align: top;\n",
       "    }\n",
       "\n",
       "    .dataframe thead th {\n",
       "        text-align: right;\n",
       "    }\n",
       "</style>\n",
       "<table border=\"1\" class=\"dataframe\">\n",
       "  <thead>\n",
       "    <tr style=\"text-align: right;\">\n",
       "      <th></th>\n",
       "      <th></th>\n",
       "      <th>Count</th>\n",
       "      <th>Name</th>\n",
       "    </tr>\n",
       "    <tr>\n",
       "      <th>Year</th>\n",
       "      <th>Sex</th>\n",
       "      <th></th>\n",
       "      <th></th>\n",
       "    </tr>\n",
       "  </thead>\n",
       "  <tbody>\n",
       "    <tr>\n",
       "      <th rowspan=\"2\" valign=\"top\">1910</th>\n",
       "      <th>F</th>\n",
       "      <td>22848</td>\n",
       "      <td>Zula</td>\n",
       "    </tr>\n",
       "    <tr>\n",
       "      <th>M</th>\n",
       "      <td>11450</td>\n",
       "      <td>Zennie</td>\n",
       "    </tr>\n",
       "    <tr>\n",
       "      <th rowspan=\"2\" valign=\"top\">1911</th>\n",
       "      <th>F</th>\n",
       "      <td>24390</td>\n",
       "      <td>Zula</td>\n",
       "    </tr>\n",
       "    <tr>\n",
       "      <th>M</th>\n",
       "      <td>13446</td>\n",
       "      <td>Zeb</td>\n",
       "    </tr>\n",
       "    <tr>\n",
       "      <th>1912</th>\n",
       "      <th>F</th>\n",
       "      <td>32304</td>\n",
       "      <td>Zula</td>\n",
       "    </tr>\n",
       "    <tr>\n",
       "      <th>...</th>\n",
       "      <th>...</th>\n",
       "      <td>...</td>\n",
       "      <td>...</td>\n",
       "    </tr>\n",
       "    <tr>\n",
       "      <th>2019</th>\n",
       "      <th>M</th>\n",
       "      <td>20578</td>\n",
       "      <td>Zyon</td>\n",
       "    </tr>\n",
       "    <tr>\n",
       "      <th rowspan=\"2\" valign=\"top\">2020</th>\n",
       "      <th>F</th>\n",
       "      <td>17641</td>\n",
       "      <td>Zyrah</td>\n",
       "    </tr>\n",
       "    <tr>\n",
       "      <th>M</th>\n",
       "      <td>19777</td>\n",
       "      <td>Zyon</td>\n",
       "    </tr>\n",
       "    <tr>\n",
       "      <th rowspan=\"2\" valign=\"top\">2021</th>\n",
       "      <th>F</th>\n",
       "      <td>17728</td>\n",
       "      <td>Zyra</td>\n",
       "    </tr>\n",
       "    <tr>\n",
       "      <th>M</th>\n",
       "      <td>20272</td>\n",
       "      <td>Zyrus</td>\n",
       "    </tr>\n",
       "  </tbody>\n",
       "</table>\n",
       "<p>224 rows × 2 columns</p>\n",
       "</div>"
      ],
      "text/plain": [
       "          Count    Name\n",
       "Year Sex               \n",
       "1910 F    22848    Zula\n",
       "     M    11450  Zennie\n",
       "1911 F    24390    Zula\n",
       "     M    13446     Zeb\n",
       "1912 F    32304    Zula\n",
       "...         ...     ...\n",
       "2019 M    20578    Zyon\n",
       "2020 F    17641   Zyrah\n",
       "     M    19777    Zyon\n",
       "2021 F    17728    Zyra\n",
       "     M    20272   Zyrus\n",
       "\n",
       "[224 rows x 2 columns]"
      ]
     },
     "execution_count": 17,
     "metadata": {},
     "output_type": "execute_result"
    }
   ],
   "source": [
    "# This attempt does NOT work, because max() applies to the columns 'Count' and 'Name' independently.\n",
    "baby_allstates.groupby(['Year', 'Sex'])[['Count', 'Name']].max()"
   ]
  },
  {
   "cell_type": "markdown",
   "id": "19495d65-8b11-498e-92e6-e9d7f647f403",
   "metadata": {},
   "source": [
    "Using the meteorite data from the `Meteorite_Landings.csv` file, \n",
    "\n",
    "1. use `groupby` to examine the number of meteors recorded each year.\n",
    "2. use `groupby` to find the heaviest meteorite from each year and report its name and mass.\n",
    "3. create a pivot table that shows for each year\n",
    "    - the number of meteorites, and\n",
    "    - the 95th percentile of meteorite mass.\n",
    "4. create a pivot table to compare for each year\n",
    "    - the 5%, 25%, 50%, 75%, and 95% percentile of the mass column for the meteorites that were found versus observed falling.\n",
    "5. melt the two tables above to create a *long*-format table."
   ]
  },
  {
   "cell_type": "code",
   "execution_count": 18,
   "id": "ac10f012-deda-4149-913f-98746edd1a35",
   "metadata": {},
   "outputs": [],
   "source": [
    "meteor = pd.read_csv('../data/Meteorite_Landings.csv')"
   ]
  },
  {
   "cell_type": "code",
   "execution_count": null,
   "id": "e9499134-4926-4760-b3f2-95220bfbca26",
   "metadata": {},
   "outputs": [],
   "source": [
    "meteor.info()"
   ]
  },
  {
   "cell_type": "code",
   "execution_count": 27,
   "id": "c9c7593d-e8a9-4197-a6dc-165a37748a0e",
   "metadata": {},
   "outputs": [],
   "source": [
    "import numpy as np\n",
    "pivot_table_3 = pd.pivot_table(meteor,\n",
    "                               index='year',\n",
    "                               values='mass (g)',\n",
    "                               aggfunc=[len, lambda x: np.quantile(x, 0.95)])\n",
    "pivot_table_3.columns = ['num. meteorites', '95th percentile mass']"
   ]
  },
  {
   "cell_type": "code",
   "execution_count": 28,
   "id": "17fd62cd-6346-4db8-8568-4880c402365c",
   "metadata": {},
   "outputs": [
    {
     "data": {
      "text/html": [
       "<div>\n",
       "<style scoped>\n",
       "    .dataframe tbody tr th:only-of-type {\n",
       "        vertical-align: middle;\n",
       "    }\n",
       "\n",
       "    .dataframe tbody tr th {\n",
       "        vertical-align: top;\n",
       "    }\n",
       "\n",
       "    .dataframe thead th {\n",
       "        text-align: right;\n",
       "    }\n",
       "</style>\n",
       "<table border=\"1\" class=\"dataframe\">\n",
       "  <thead>\n",
       "    <tr style=\"text-align: right;\">\n",
       "      <th></th>\n",
       "      <th>num. meteorites</th>\n",
       "      <th>95th percentile mass</th>\n",
       "    </tr>\n",
       "    <tr>\n",
       "      <th>year</th>\n",
       "      <th></th>\n",
       "      <th></th>\n",
       "    </tr>\n",
       "  </thead>\n",
       "  <tbody>\n",
       "    <tr>\n",
       "      <th>860.0</th>\n",
       "      <td>1</td>\n",
       "      <td>472.00</td>\n",
       "    </tr>\n",
       "    <tr>\n",
       "      <th>920.0</th>\n",
       "      <td>1</td>\n",
       "      <td>NaN</td>\n",
       "    </tr>\n",
       "    <tr>\n",
       "      <th>1399.0</th>\n",
       "      <td>1</td>\n",
       "      <td>107000.00</td>\n",
       "    </tr>\n",
       "    <tr>\n",
       "      <th>1490.0</th>\n",
       "      <td>1</td>\n",
       "      <td>103.30</td>\n",
       "    </tr>\n",
       "    <tr>\n",
       "      <th>1491.0</th>\n",
       "      <td>1</td>\n",
       "      <td>127000.00</td>\n",
       "    </tr>\n",
       "    <tr>\n",
       "      <th>...</th>\n",
       "      <td>...</td>\n",
       "      <td>...</td>\n",
       "    </tr>\n",
       "    <tr>\n",
       "      <th>2010.0</th>\n",
       "      <td>1005</td>\n",
       "      <td>2071.60</td>\n",
       "    </tr>\n",
       "    <tr>\n",
       "      <th>2011.0</th>\n",
       "      <td>713</td>\n",
       "      <td>3381.80</td>\n",
       "    </tr>\n",
       "    <tr>\n",
       "      <th>2012.0</th>\n",
       "      <td>234</td>\n",
       "      <td>3639.45</td>\n",
       "    </tr>\n",
       "    <tr>\n",
       "      <th>2013.0</th>\n",
       "      <td>11</td>\n",
       "      <td>50500.00</td>\n",
       "    </tr>\n",
       "    <tr>\n",
       "      <th>2101.0</th>\n",
       "      <td>1</td>\n",
       "      <td>55.00</td>\n",
       "    </tr>\n",
       "  </tbody>\n",
       "</table>\n",
       "<p>265 rows × 2 columns</p>\n",
       "</div>"
      ],
      "text/plain": [
       "        num. meteorites  95th percentile mass\n",
       "year                                         \n",
       "860.0                 1                472.00\n",
       "920.0                 1                   NaN\n",
       "1399.0                1             107000.00\n",
       "1490.0                1                103.30\n",
       "1491.0                1             127000.00\n",
       "...                 ...                   ...\n",
       "2010.0             1005               2071.60\n",
       "2011.0              713               3381.80\n",
       "2012.0              234               3639.45\n",
       "2013.0               11              50500.00\n",
       "2101.0                1                 55.00\n",
       "\n",
       "[265 rows x 2 columns]"
      ]
     },
     "execution_count": 28,
     "metadata": {},
     "output_type": "execute_result"
    }
   ],
   "source": [
    "pivot_table_3"
   ]
  },
  {
   "cell_type": "code",
   "execution_count": null,
   "id": "46935875-e27a-44ee-928d-8da2a884e4db",
   "metadata": {},
   "outputs": [],
   "source": []
  }
 ],
 "metadata": {
  "kernelspec": {
   "display_name": "Python 3 (ipykernel)",
   "language": "python",
   "name": "python3"
  },
  "language_info": {
   "codemirror_mode": {
    "name": "ipython",
    "version": 3
   },
   "file_extension": ".py",
   "mimetype": "text/x-python",
   "name": "python",
   "nbconvert_exporter": "python",
   "pygments_lexer": "ipython3",
   "version": "3.11.8"
  }
 },
 "nbformat": 4,
 "nbformat_minor": 5
}
