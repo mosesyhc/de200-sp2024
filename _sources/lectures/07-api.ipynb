{
 "cells": [
  {
   "cell_type": "markdown",
   "id": "5af7d7b3-3719-440e-9f9b-0f4b00db1512",
   "metadata": {},
   "source": [
    "# Application Programming Interface (API)\n",
    "\n",
    "This document introduces the use of API to access and query data.  We focus on data access with APIs in this document."
   ]
  },
  {
   "cell_type": "markdown",
   "id": "20f5d0df-3fcf-4928-997d-0fdd1fed0cb3",
   "metadata": {},
   "source": [
    "## What is an API?\n",
    "Broadly speaking, an API is a set of rules and procedures that facilitate interactions between computers and their applications.\n",
    "\n",
    "A very common type of API is the **Web API**, which, among other things, allows users to query a remote database over the internet.\n",
    "\n",
    "An API specifies **how** a user or application accesses the data.\n",
    "\n",
    "Examples: \n",
    "- Twitter: tweets, users, replies, etc.\n",
    "- Art Institute of Chicago: artworks, exhibits, ticketing, etc.\n",
    "- New York Times archive: articles, headlines, book reviews, etc.\n",
    "\n",
    "### Representational State Transfer (REST)\n",
    "\n",
    "RESTful\n",
    "- APIs are convenient for querying databases by URLs.\n",
    "- requests are self-contained, meaning that they do not rely on previous requests.\n",
    "- responses can be cached to improve server response time.\n",
    "\n",
    "**General methods:**\n",
    "\n",
    "- GET: access resources located at a URL\n",
    "- POST: send data to the server\n",
    "- PUT: update existing resources\n",
    "- DELETE: delete resources in a server"
   ]
  },
  {
   "cell_type": "markdown",
   "id": "26d1dec2-5b3d-466c-909d-a8f74a95ff91",
   "metadata": {},
   "source": [
    "## Request via a URL"
   ]
  },
  {
   "cell_type": "markdown",
   "id": "35a52a37-2085-48f0-947c-7b12eb23f639",
   "metadata": {},
   "source": [
    "```{figure} ../img/url.svg\n",
    "---\n",
    "width: 90%\n",
    "name: url-example\n",
    "---\n",
    "Anatomy of a URL request (rows.com)\n",
    "```"
   ]
  },
  {
   "cell_type": "markdown",
   "id": "f03fa311-3153-4bcf-a0b1-306c140151b5",
   "metadata": {},
   "source": [
    "## Example: Art Institute of Chicago API\n",
    "\n",
    "The Art Institute of Chicago hosts a JSON-response API.  The preferrable way of using an API is to refer to its documentation, e.g. https://api.artic.edu/docs/.\n",
    "\n",
    "**Important for any API usage (Terms and conditions):**\n",
    "\n",
    "- Check rate limits\n",
    "- Check authentication methods"
   ]
  },
  {
   "cell_type": "code",
   "execution_count": 2,
   "id": "5f172488-66a6-4baf-9c4e-baf0c39070a5",
   "metadata": {},
   "outputs": [],
   "source": [
    "import requests  # requests.readthedocs.io/\n",
    "import pandas as pd"
   ]
  },
  {
   "cell_type": "markdown",
   "id": "2b7e63dd-0c17-4a43-8857-cf6cd6c628d7",
   "metadata": {},
   "source": [
    "### First request"
   ]
  },
  {
   "cell_type": "code",
   "execution_count": 4,
   "id": "3edcd21c-baad-4a30-ba64-31ececb408f6",
   "metadata": {},
   "outputs": [],
   "source": [
    "url_artist = 'https://api.artic.edu/api/v1/artists'\n",
    "\n",
    "r = requests.get(url_artist)"
   ]
  },
  {
   "cell_type": "markdown",
   "id": "e8ccbe01-a962-42b0-92dd-83901e000272",
   "metadata": {},
   "source": [
    "**Note:** We only retrieve 12 records from a total of > 10000 records."
   ]
  },
  {
   "cell_type": "markdown",
   "id": "6af50238-6ee3-45a2-b88d-053d6b73f059",
   "metadata": {},
   "source": [
    "### Request with parameters"
   ]
  },
  {
   "cell_type": "code",
   "execution_count": 15,
   "id": "6c37b4e6-f5da-414a-a5e1-324ee364b9af",
   "metadata": {},
   "outputs": [],
   "source": [
    "r = requests.get(url_artist, params={'limit': 100})"
   ]
  },
  {
   "cell_type": "markdown",
   "id": "9891b709-dbfb-4e48-8b1b-5f3d6b9c508a",
   "metadata": {},
   "source": [
    "### A considerable way to retrieve multiple pages of data"
   ]
  },
  {
   "cell_type": "markdown",
   "id": "1d0589e9-bc6a-4d08-b9c8-8e7a29d00b51",
   "metadata": {},
   "source": [
    "1. Check how much data there are.\n",
    "2. Use a for loop with `time.sleep()`."
   ]
  },
  {
   "cell_type": "markdown",
   "id": "90940537-87e4-465e-8ce3-743640c73e6e",
   "metadata": {},
   "source": [
    "**Note:* Even though we can \"scrape\" through the entire database, we typically should not.  See for example, discussion in [Data dump vs API](https://api.artic.edu/docs/#data-dumps-vs-api)."
   ]
  },
  {
   "cell_type": "markdown",
   "id": "d56af9bf-a24e-4190-8f82-84378fdf0004",
   "metadata": {},
   "source": [
    "### Search query\n",
    "\n",
    "Simply having access or a copy of the data is not inheritly useful.  Most APIs allow for either filtering or searching."
   ]
  },
  {
   "cell_type": "code",
   "execution_count": 50,
   "id": "0b97b547-b834-4f07-9661-d5ad6feb071a",
   "metadata": {},
   "outputs": [],
   "source": [
    "url_artist_search = url_artist + '/search'"
   ]
  },
  {
   "cell_type": "markdown",
   "id": "ddd11737-de53-4d06-82dd-b62647236eb6",
   "metadata": {},
   "source": [
    "## Practice 9 - API usage\n",
    "Several endpoints for this API include `artists`, `exhibits`, `artworks`, etc.  Refer to https://api.artic.edu/docs/#endpoints.\n",
    "\n",
    "1. How many artworks are in the Art Institute collection?\n",
    "2. Find the exhibits that has \"Van Gogh\" in the title.\n",
    "3. Search for a painting called \"A Sunday on La Grande Jatte\".  Who is the artist?  When was it painted?"
   ]
  },
  {
   "cell_type": "markdown",
   "id": "5e714ab2-58e5-4c26-856a-bc732b92f461",
   "metadata": {},
   "source": [
    "## Possible available APIs with/without authorizations\n",
    "\n",
    "- See https://github.com/public-apis/public-apis.\n",
    "- See https://mixedanalytics.com/blog/list-actually-free-open-no-auth-needed-apis/."
   ]
  },
  {
   "cell_type": "markdown",
   "id": "d77dc63e-e7ac-457f-b421-91d7ca3849dc",
   "metadata": {},
   "source": [
    "## Example with New York Times API\n"
   ]
  },
  {
   "cell_type": "markdown",
   "id": "c44bd51a-7d0c-4b68-84ab-d9924ddc877e",
   "metadata": {},
   "source": [
    "The New York Times API uses an API key to authenticate users.  The [FAQs](https://developer.nytimes.com/faq) page has some good information about the usage of these APIs.  You may request a NYT API key using the instructions listed in https://developer.nytimes.com/get-started."
   ]
  },
  {
   "cell_type": "markdown",
   "id": "07a2c330-1076-4913-801a-bb3c84f4c10e",
   "metadata": {},
   "source": [
    "### Brief word about the use of an API key\n",
    "An API key is a unique generated string that \n",
    "\n",
    "- identifies a particular application (or project),\n",
    "- authenticates and grants access to a user,\n",
    "- provides guardrails to controlling API usage traffic, and\n",
    "- enables resource management over the flow of data.\n"
   ]
  },
  {
   "cell_type": "markdown",
   "id": "0e9f0e4d-db97-4580-a4bc-c0cf87b57712",
   "metadata": {},
   "source": [
    "### Best practices in using an API key\n",
    "\n",
    "- **Do not** hardcode your API key into any scripts.\n",
    "  - For example, save your API key in a local file (or environment variables) and access it from your code.\n",
    "- **Do not** upload your API key anywhere publicly accessible.  \n",
    "- Rotate API keys.\n",
    "- Revoke access after the lifespan of a project."
   ]
  },
  {
   "cell_type": "code",
   "execution_count": 1,
   "id": "4a7b1c05-664e-41f4-8795-6bc2ff4c15fa",
   "metadata": {},
   "outputs": [],
   "source": [
    "import requests\n",
    "import pandas as pd\n",
    "\n",
    "with open('../data/nyt_api.key', 'r') as f:\n",
    "    apikey = f.readlines()[0]\n"
   ]
  },
  {
   "cell_type": "code",
   "execution_count": 3,
   "id": "c60bf917-1b56-41f1-9b88-9ae9bd95e059",
   "metadata": {},
   "outputs": [],
   "source": [
    "# formatted string example\n",
    "url = 'https://api.nytimes.com/svc/search/v2/articlesearch.json?&api-key={:s}'.format(apikey)\n",
    "url = f'https://api.nytimes.com/svc/search/v2/articlesearch.json?&api-key={apikey}'\r",
    "\t"
   ]
  },
  {
   "cell_type": "markdown",
   "id": "62c3574b-4d56-4b18-89e7-3e2f8c18edbd",
   "metadata": {},
   "source": [
    "### Search articles\n",
    "\n",
    "Example API: https://developer.nytimes.com/docs/articlesearch-product/1/routes/articlesearch.json/get"
   ]
  },
  {
   "cell_type": "code",
   "execution_count": 17,
   "id": "142deabb-65e1-4edf-b9e0-f677626db873",
   "metadata": {},
   "outputs": [],
   "source": [
    "r = requests.get(url, params={'q':'carlos alvarez',\n",
    "                              'begin_date': '20140101',\n",
    "                              'facet': 'true',\n",
    "                              'facet_fields': 'pub_year'})"
   ]
  },
  {
   "cell_type": "code",
   "execution_count": 21,
   "id": "2698af25-9f36-4ef7-9bf7-ace4c6a33bce",
   "metadata": {},
   "outputs": [
    {
     "data": {
      "text/plain": [
       "{'pub_year': {'terms': [{'term': '2023', 'count': 36},\n",
       "   {'term': '2024', 'count': 32},\n",
       "   {'term': '2019', 'count': 25},\n",
       "   {'term': '2014', 'count': 24},\n",
       "   {'term': '2016', 'count': 24},\n",
       "   {'term': '2015', 'count': 23},\n",
       "   {'term': '2022', 'count': 21},\n",
       "   {'term': '2021', 'count': 20},\n",
       "   {'term': '2017', 'count': 16},\n",
       "   {'term': '2020', 'count': 16}]}}"
      ]
     },
     "execution_count": 21,
     "metadata": {},
     "output_type": "execute_result"
    }
   ],
   "source": [
    "r.json()['response']['facets']"
   ]
  },
  {
   "cell_type": "markdown",
   "id": "c98992fc-0b48-4877-b07d-36de2df8408a",
   "metadata": {},
   "source": [
    "### How many articles matched the search?"
   ]
  },
  {
   "cell_type": "markdown",
   "id": "1b0b2439-e96c-40bf-8293-56e0e4c84357",
   "metadata": {},
   "source": [
    "### How many articles did we get?"
   ]
  },
  {
   "cell_type": "markdown",
   "id": "54631901-2a1a-40a4-afe3-fb92b6156485",
   "metadata": {},
   "source": [
    "### How many articles are there for the last 10 years (2014 - 2024)?"
   ]
  },
  {
   "cell_type": "markdown",
   "id": "8090bfe4-820e-4fb1-bda8-73b8ca2de12d",
   "metadata": {},
   "source": [
    "### How many articles are there in each of the last 10 years?"
   ]
  },
  {
   "cell_type": "markdown",
   "id": "ee8e6759-e415-4c2a-8cbb-29a9a7703fde",
   "metadata": {},
   "source": [
    "### Get the first 50 articles"
   ]
  },
  {
   "cell_type": "markdown",
   "id": "a003547c-d639-4e37-9ca1-a45eee4b4023",
   "metadata": {},
   "source": [
    "## Practice 10 - MTFBWY\n",
    "\n",
    "1. Find out (if you don't already know) the year when the first Star Wars movie came out.\n",
    "2. Retrieve the number of hits per year since then for the following terms:\n",
    "   - 'Carrie Fisher'\n",
    "   - 'Harrison Ford'\n",
    "   - 'Daisy Ridley'\n",
    "   - 'Star Wars'\n",
    "   - Add more if you wish...\n",
    "3. Store the numbers into a dataframe.\n",
    "4. Plot the number of hits against year on the same graph."
   ]
  }
 ],
 "metadata": {
  "kernelspec": {
   "display_name": "Python 3 (ipykernel)",
   "language": "python",
   "name": "python3"
  },
  "language_info": {
   "codemirror_mode": {
    "name": "ipython",
    "version": 3
   },
   "file_extension": ".py",
   "mimetype": "text/x-python",
   "name": "python",
   "nbconvert_exporter": "python",
   "pygments_lexer": "ipython3",
   "version": "3.11.8"
  }
 },
 "nbformat": 4,
 "nbformat_minor": 5
}
