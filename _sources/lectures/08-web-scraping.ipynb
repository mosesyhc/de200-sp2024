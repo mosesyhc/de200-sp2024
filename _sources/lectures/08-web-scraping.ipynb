{
 "cells": [
  {
   "cell_type": "markdown",
   "id": "17e9f365-d14c-4cf1-99f4-27bc44320f2c",
   "metadata": {},
   "source": [
    "# Web-scraping with `BeautifulSoup4`\n",
    "\n",
    "This document covers basic usage of `bs4` (Beautiful Soup 4) for scraping a webpage.  We will primarily discuss extracting information from *one* webpage, and leave web-crawling to an advanced class on web scraping."
   ]
  },
  {
   "cell_type": "markdown",
   "id": "f554aafc-0c51-4b8e-bb02-cf31d0f3fd5a",
   "metadata": {},
   "source": [
    "## To scrape or not to scrape\n",
    "\n",
    "Unlike APIs, which are designed for programs/applications to interact with the data, web-scraping is directly working with user-facing websites for humans."
   ]
  },
  {
   "cell_type": "markdown",
   "id": "11604afd-e1ed-4b65-9ee8-56ec5ce33bf2",
   "metadata": {},
   "source": [
    "| Web scraping benefits:                                      | Web scraping challenges:           |\n",
    "|-------------------------------------------------------------|------------------------------------|\n",
    "| Any content that can be viewed on a webpage can be scraped. | Rarely tailored for researchers.   |\n",
    "| No API needed.                                              | Your IP can be blocked (403)       |\n",
    "| No rate-limiting or authentication (usually).               | Messy, unstructured, inconsistent. |\n",
    "|                                                             | Entirely site-dependent.           |"
   ]
  },
  {
   "cell_type": "markdown",
   "id": "9b2bae0c-fa78-4136-ab57-452caac4751b",
   "metadata": {},
   "source": [
    "**Rule of thumb:**\n",
    "Check if there is an API.  If not, then consider scraping."
   ]
  },
  {
   "cell_type": "markdown",
   "id": "e5fc4c3c-fbaf-460e-aad7-715b844cf547",
   "metadata": {},
   "source": [
    "## Ethics of web scraping\n",
    "\n",
    "Several considerations before scraping:\n",
    "- Read the terms and conditions of data use.\n",
    "- `robots.txt`\n",
    "- Self-throttle, as in API usage.\n",
    "- Web-scrapers require regular maintenance (best coupled with CI/CD)."
   ]
  },
  {
   "cell_type": "markdown",
   "id": "274bee6c-df05-48f4-8283-13ae29fd9f76",
   "metadata": {},
   "source": [
    "## Anatomy of a webpage"
   ]
  },
  {
   "cell_type": "markdown",
   "id": "d4ffc992-2102-4dfb-82a8-74e589f15ce5",
   "metadata": {},
   "source": [
    "A website is typically built up from some combination of codebase and database.  The front-end product combines HTML, CSS stylesheets, and javascript."
   ]
  },
  {
   "cell_type": "markdown",
   "id": "3e2e8bfc-b03e-475b-b179-333fcfe69213",
   "metadata": {},
   "source": [
    "```{figure} ../img/anatomy-html.jpg\n",
    "---\n",
    "width: 60%\n",
    "name: html-anatomy\n",
    "---\n",
    "Anatomy of a website (Adobe)\n",
    "```"
   ]
  },
  {
   "cell_type": "markdown",
   "id": "94f875e0-45b9-450a-9b12-30cd26a12089",
   "metadata": {},
   "source": [
    "```{figure} ../img/anatomy-html-css.jpg\n",
    "---\n",
    "width: 60%\n",
    "name: anatomy-html-css\n",
    "---\n",
    "Anatomy of a website, with CSS styles (Adobe)\n",
    "```"
   ]
  },
  {
   "cell_type": "markdown",
   "id": "df34c5e0-16d0-4ce9-ba6a-adb46db06cf6",
   "metadata": {},
   "source": [
    "## Parsing a website\n",
    "Retrieving the website content is not difficult - extracting the exact useful information is.\n",
    "\n",
    "### HTML, briefly\n"
   ]
  },
  {
   "cell_type": "markdown",
   "id": "b1a28425-595f-4a2f-8c92-91105ea91de7",
   "metadata": {},
   "source": [
    "```{figure} ../img/html-doc.png\n",
    "---\n",
    "width: 75%\n",
    "name: jb-html\n",
    "---\n",
    "HTML structure of this Jupyter notebook.\n",
    "```"
   ]
  },
  {
   "cell_type": "markdown",
   "id": "a1e660f2-98d1-4bdc-8867-85489b78ed6d",
   "metadata": {},
   "source": [
    "### HTML as a tree"
   ]
  },
  {
   "cell_type": "markdown",
   "id": "77ce68cc-f170-4649-a68d-337207be211c",
   "metadata": {},
   "source": [
    "```{figure} ../img/html-tree.png\n",
    "---\n",
    "width: 75%\n",
    "name: html-tree\n",
    "---\n",
    "HTML as a tree.  Each branch is an **element**.\n",
    "```"
   ]
  },
  {
   "cell_type": "markdown",
   "id": "c57ac24c-ddb0-4fe9-afba-aa4a56959221",
   "metadata": {},
   "source": [
    "### Three components of HTML (*Tags*, *Attributes*, and *Content*)"
   ]
  },
  {
   "cell_type": "markdown",
   "id": "4b5dcf6d-1ac0-48ef-9716-0f5249a4f1ba",
   "metadata": {},
   "source": [
    "```{figure} ../img/html-element.png\n",
    "---\n",
    "width: 60%\n",
    "name: html-element\n",
    "---\n",
    "An example of an HTML element.\n",
    "```"
   ]
  },
  {
   "cell_type": "markdown",
   "id": "8e1551ee-8a63-4ee4-b5f4-e0e6aa7f2081",
   "metadata": {},
   "source": [
    "### Example tags\n",
    "\n",
    "|          Tag         |                         Meaning                        |\n",
    "|:--------------------:|:------------------------------------------------------:|\n",
    "| `<head>`               | page header (metadata, etc                             |\n",
    "| `<body>`               | holds all of the content                               |\n",
    "| `<p>`                  | regular text (paragraph)                               |\n",
    "| `<h1>,<h2>,<h3>`       | header text, levels 1, 2, 3                            |\n",
    "| `ol,<ul>,<li>`        | ordered list, unordered list, list item                |\n",
    "| `<a href=\"page.html\">` | link to \"page.html\"                                    |\n",
    "| `<table>,<tr>,<td>`    | table, table row, table item                           |\n",
    "| `<div>,<span>`         | general containers (can contain CSS, JavaScript, etc.) |"
   ]
  },
  {
   "cell_type": "markdown",
   "id": "86c59def-565d-4b9b-82da-21f71bf6865b",
   "metadata": {},
   "source": [
    "## Example with weather.com"
   ]
  },
  {
   "cell_type": "code",
   "execution_count": null,
   "id": "a8c7c6a4-d345-45ff-8be2-a2f979ac28e6",
   "metadata": {},
   "outputs": [],
   "source": [
    "# beautifulsoup4 package and lxml parser\n",
    "!pip install beautifulsoup4\n",
    "!pip install lxml"
   ]
  },
  {
   "cell_type": "code",
   "execution_count": null,
   "id": "727f6f0a-a11b-4b74-a484-75783d56c576",
   "metadata": {},
   "outputs": [],
   "source": [
    "from bs4 import BeautifulSoup\n",
    "import requests\n",
    "\n",
    "headers =\n",
    "url = \n",
    "\n",
    "r = requests.get(url, headers=headers)"
   ]
  },
  {
   "cell_type": "code",
   "execution_count": null,
   "id": "6c06bd86-40b9-489b-bcc9-0ad0a59e435a",
   "metadata": {},
   "outputs": [],
   "source": [
    "# accessing content\n",
    "r.content[:100]"
   ]
  },
  {
   "cell_type": "code",
   "execution_count": null,
   "id": "f2d295ac-6e70-4104-9c3e-6e500e48002d",
   "metadata": {},
   "outputs": [],
   "source": [
    "# using bs4\n"
   ]
  },
  {
   "cell_type": "code",
   "execution_count": null,
   "id": "b049ed29-eb92-48f0-83f2-5e21ef77a1f4",
   "metadata": {},
   "outputs": [],
   "source": [
    "# selecting by tags\n"
   ]
  },
  {
   "cell_type": "code",
   "execution_count": null,
   "id": "45d7585b-0b28-4aec-aa29-cc5d2a657a53",
   "metadata": {},
   "outputs": [],
   "source": [
    "# locate by tags\n"
   ]
  },
  {
   "cell_type": "code",
   "execution_count": null,
   "id": "972aa7e9-4b98-4015-9d03-4a44a90b3f48",
   "metadata": {},
   "outputs": [],
   "source": [
    "# locate neighboring content\n"
   ]
  },
  {
   "cell_type": "markdown",
   "id": "6ccf60c0-70fd-4b45-a388-31169a5f231b",
   "metadata": {},
   "source": [
    "## Practice 11 - BeautifulSoup\n",
    "\n",
    "1. Locate the tags and attributes for the following items:"
   ]
  },
  {
   "cell_type": "markdown",
   "id": "d0e423a3-9dbd-4691-aaf0-894ba7f0ee5b",
   "metadata": {},
   "source": [
    "```{figure} ../img/weather-elements.png\n",
    "---\n",
    "width: 50%\n",
    "name: weather-element\n",
    "---\n",
    "Fact card from weather.com.\n",
    "```"
   ]
  },
  {
   "cell_type": "markdown",
   "id": "5278ff44-abee-45a0-9432-b69a31386692",
   "metadata": {},
   "source": [
    "2. Create a dataframe with columns as the items:\n",
    "   - DateDay\n",
    "   - Temperature\n",
    "   - Rain\n",
    "   - UV\n",
    "   - Description"
   ]
  },
  {
   "cell_type": "markdown",
   "id": "c13bc3c7-5642-423c-ba01-6be10bdf90d5",
   "metadata": {},
   "source": [
    "3. Using `BeautifulSoup`, populate the table for the first day (May 7).\n",
    "4. Repeat for the next nine days (May 8 - May 16)."
   ]
  },
  {
   "cell_type": "markdown",
   "id": "43221193-594c-4f49-96fe-95080cc1a72e",
   "metadata": {},
   "source": [
    "## Further reference\n",
    "Read *The Legalities and Ethics of Web Scraping* `cite:p`{mitchell2018web} for a brief discussion on web-scraping ethics."
   ]
  }
 ],
 "metadata": {
  "kernelspec": {
   "display_name": "Python 3 (ipykernel)",
   "language": "python",
   "name": "python3"
  },
  "language_info": {
   "codemirror_mode": {
    "name": "ipython",
    "version": 3
   },
   "file_extension": ".py",
   "mimetype": "text/x-python",
   "name": "python",
   "nbconvert_exporter": "python",
   "pygments_lexer": "ipython3",
   "version": "3.11.8"
  }
 },
 "nbformat": 4,
 "nbformat_minor": 5
}
