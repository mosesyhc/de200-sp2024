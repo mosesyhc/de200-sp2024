{
 "cells": [
  {
   "cell_type": "markdown",
   "id": "68639546-8b8c-45be-8f07-f2300f84c559",
   "metadata": {},
   "source": [
    "# Data exploration and visualization with Tableau\n",
    "\n",
    "Refer to [Canvas](canvas.northwestern.edu) for Tableau lectures."
   ]
  },
  {
   "cell_type": "code",
   "execution_count": null,
   "id": "f1318bcb-c8d5-4e08-8eba-69eb9cdf26db",
   "metadata": {},
   "outputs": [],
   "source": []
  }
 ],
 "metadata": {
  "kernelspec": {
   "display_name": "Python 3 (ipykernel)",
   "language": "python",
   "name": "python3"
  },
  "language_info": {
   "codemirror_mode": {
    "name": "ipython",
    "version": 3
   },
   "file_extension": ".py",
   "mimetype": "text/x-python",
   "name": "python",
   "nbconvert_exporter": "python",
   "pygments_lexer": "ipython3",
   "version": "3.11.8"
  }
 },
 "nbformat": 4,
 "nbformat_minor": 5
}
