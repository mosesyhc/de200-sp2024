{
 "cells": [
  {
   "cell_type": "markdown",
   "id": "68639546-8b8c-45be-8f07-f2300f84c559",
   "metadata": {},
   "source": [
    "# Data exploration and visualization with Tableau\n",
    "\n",
    "Refer to [Canvas](https://canvas.northwestern.edu) for Tableau lectures."
   ]
  },
  {
   "cell_type": "markdown",
   "id": "3797cdb2-bc88-4d93-b3ce-d2c815b9f781",
   "metadata": {},
   "source": [
    "## Final takeaway\n",
    "\n",
    "There is not one \"correct\" way of exploring and presenting a data set, especially a complex data set.  However, good data visualization often share the following features (Spiegelhalter, 2019):\n",
    "\n",
    "1. It contains reliable information.\n",
    "2. The design has been chosen so that relevant patterns become noticeable.\n",
    "3. It is presented in an attractive manner, but appearance should not get in the way of honesty, clarity and depth.\n",
    "4. When appropriate, it is organized in a way that enables some exploration."
   ]
  },
  {
   "cell_type": "code",
   "execution_count": null,
   "id": "669348c5-81da-4fb8-b75b-2675df5cc951",
   "metadata": {},
   "outputs": [],
   "source": []
  }
 ],
 "metadata": {
  "kernelspec": {
   "display_name": "Python 3 (ipykernel)",
   "language": "python",
   "name": "python3"
  },
  "language_info": {
   "codemirror_mode": {
    "name": "ipython",
    "version": 3
   },
   "file_extension": ".py",
   "mimetype": "text/x-python",
   "name": "python",
   "nbconvert_exporter": "python",
   "pygments_lexer": "ipython3",
   "version": "3.11.8"
  }
 },
 "nbformat": 4,
 "nbformat_minor": 5
}
