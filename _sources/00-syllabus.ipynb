{
 "cells": [
  {
   "cell_type": "markdown",
   "id": "4dee73db-d936-4b3c-8ceb-3ab71ce207eb",
   "metadata": {
    "tags": []
   },
   "source": [
    "# DATA_ENG 200: Foundations of Data Science\n",
    "## Syllabus"
   ]
  },
  {
   "cell_type": "markdown",
   "id": "c1ef8f60-04ae-4abd-9c2e-5e11ecf40fd7",
   "metadata": {
    "scrolled": true
   },
   "source": [
    "Updated March 28, 2024  \n",
    "Moses Chan\n",
    "\n",
    "**Instructor:** Moses Chan, `moses.chan@northwestern.edu`\n",
    "\n",
    "**TA:** Guyi (Michelle) Chen\n",
    "\n",
    "**Peer Mentors:** Gabe Drayton, Dietmar Krause\n",
    "\n",
    "**Office Hours:** See [Canvas](https://canvas.northwestern.edu).\n",
    "\n",
    "**Prerequisites:** CS 150 - Fundamentals of Computer Programming"
   ]
  },
  {
   "cell_type": "markdown",
   "id": "43662ba6-8397-4c95-b4a4-028f16607b15",
   "metadata": {},
   "source": [
    "## Course Description\n",
    "\n",
    "This course will cover the fundamentals of data science and the context within which this field operates. Students will learn how to design their data analysis by thinking critically about what questions are answerable with data. They will learn about common pitfalls in data analytics such as algorithmic bias and best practices for handling the sensitive data of others. It will also introduce students to computational thinking, a methodology for problem-solving the technological challenges they will encounter as data scientists. This course will also introduce the steps of the data science lifecycle and common tools and techniques for data science. We will cover data exploration, the principles of data cleaning and integration, version control, and building reproducible data science pipelines. \n",
    "\n",
    "This class is the first part of a two-part sequence with DATA_ENG 300."
   ]
  },
  {
   "cell_type": "markdown",
   "id": "ad783dbb-8729-4c42-91d0-68f2a59feed9",
   "metadata": {
    "scrolled": true
   },
   "source": [
    "## Course Materials\n",
    "\n",
    "All required materials will be communicated through notes and codes via Canvas.\n",
    "\n",
    "## Grading\n",
    "\n",
    "|                     |                   |                   |\n",
    "|---------------------|-------------------|-------------------|\n",
    "|                     |   **Count**       |  **Contribution** |\n",
    "| In-class exercise   | 10, *tentatively* |  30 %             |\n",
    "| Homeworks           |   5               |  50 %             |\n",
    "| Group Project       |   1               |  20 %             |\n",
    "*Note:* The lowest in-class exercise will be dropped.\n",
    "\n",
    "## Class policy\n",
    "\n",
    "### Inclusivity\n",
    "\n",
    "This course strives to be an inclusive learning community, respecting those of differing backgrounds and beliefs. As a community, we aim to be respectful to all students in this class, regardless of race, ethnicity, socio-economic status, religion, gender identity or sexual orientation.\n",
    "\n",
    "### Accessibility\n",
    "\n",
    "Northwestern University is committed to providing the most accessible learning environment as possible for students with disabilities. Should you anticipate or experience disability-related barriers in the academic setting, please contact AccessibleNU to move forward with the university's established accommodation process (e: [accessiblenu@northwestern.edu](mailto:accessiblenu@northwestern.edu); p: 847-467-5530). Disability information, including academic accommodations, is confidential under the Family Educational Rights and Privacy Act.\n",
    "\n",
    "### Office Hour\n",
    "\n",
    "Weekly office hours are a dedicated time that the teaching team is available to answer your questions, discuss course content, and generally be of support. If none of the offered times in the syllabus works for you, please email the instructor to schedule an appointment.\n",
    "\n",
    "Office hours are listed on [Canvas](https://canvas.northwestern.edu)."
   ]
  },
  {
   "cell_type": "markdown",
   "id": "9c961381-e4aa-4da8-a831-7890edcb114d",
   "metadata": {},
   "source": [
    "### Assignment policy\n",
    "\n",
    "You are encouraged to work together on in-class exercises and homeworks, but each student must turn in their own assignment and not an exact duplicate of someone else's solutions. The lowest in-class exercise will be dropped in calculating your final grades.  \n",
    "\n",
    "**Homework policy:**\n",
    "Without prior approval, late submissions \n",
    "- get a 15% penalty (< 24 hours),\n",
    "- get a 30% penalty (24 - 48 hours),\n",
    "- will not be graded (> 48 hours).\n",
    "\n",
    "A total of 3 late days will be applied towards the homeworks at the end of the quarter.  *If the extension in place is insufficient to address your needs, please contact the Dean's office.*\n",
    "\n",
    "**In-class exercise policy:**\n",
    "There will be simple in-class exercises at the end of some lectures.  In-class exercise is a way to make sure all students keep up with the pace of the class.  We will go over these exercises during the lecture and a submission is required by the end of the day. \n",
    "\n",
    "The Canvas submission page for in-class exercise will be open at the beginning of class. A rough grade will be given to each submission. Students will get \n",
    "\n",
    "- 0: no submission, or completely irrelevant,\n",
    "- 1: < 50% completeness,\n",
    "- 2: > 50% completeness, and\n",
    "- 3: mostly correct, with very minor errors.\n",
    "\n",
    "*Late in-class exercise submissions will not be accepted.*\n",
    "\n",
    "If you cannot attend the lecture, you will have to go over the lecture materials and submit the in-class exercise on time.\n",
    "\n",
    "**Project policy:**\n",
    "\n",
    "There will be one group project.  Each group may consist of 2 to 3 students.  Details of the project will be included in the project descriptions.\n",
    "\n",
    "*Late project submission will not be accepted.*"
   ]
  },
  {
   "cell_type": "markdown",
   "id": "86de79cc-b991-4252-ae4b-5c4eb989bc43",
   "metadata": {
    "scrolled": true
   },
   "source": [
    "### Communications\n",
    "\n",
    "[Canvas](https://canvas.northwestern.edu), where the syllabus, class announcements, notes, and assignments are posted.\n",
    "\n",
    "[Campuswire](https://campuswire.com/p/GBC612CE4), where forum-style discussion and Q/As can happen in the class feed.  You will receive an invitation email in the first week of class.\n",
    "\n",
    "Email, through which formal communications happen, e.g., accommodation, progress discussion.  The teaching team observes a 24-hour response policy.  Questions about assignments should be directed to Campuswire.\n",
    "\n",
    "### Regrade Policy\n",
    "\n",
    "In a case where you believe your assignment or exam is misgraded, submit a regrade request via <https://forms.gle/A649XR72X36cziig9>.\n",
    "\n",
    "Please observe the following instructions when submitting your request:\n",
    "\n",
    "-   Please be polite and professional. Mistakes happen, and we will make every effort to ensure everyone gets the grade they earned.\n",
    "-   Submit **one** form per assignment or exam.\n",
    "-   All regrade requests should be submitted within **48 hours** from when the assignment or exam is returned to you. After the time period, the regrade request will not be processed.\n",
    "-   Amount of point deductions is not eligible for regrade.\n",
    "-   Your entire assignment may be regraded. It is possible to lose points if the regrade uncovers further mistakes.\n",
    "-   Do not modify an answer and request regrading. You may receive a failing grade for the class, and may be reported for academic dishonesty.\n",
    "\n",
    "### Ethical Policy\n",
    "\n",
    "The professor, any TAs, any peer mentors, and the students are expected to abide by all rules and regulations put in place by the Northwestern University, and the School of Engineering.  The School of Engineering provides guidance on [Academic Integrity](https://www.mccormick.northwestern.edu/students/academic-integrity.html).\n",
    "\n",
    "### Generative AI Policy\n",
    "In this course, you are generally allowed to use Generative Artificial Intelligence (GAI). Any use of GAI should be accompanied by a disclosure at the end of an assignment explaining (1) what you used GAI for; (2) the specific tool(s) you used; and (3) what prompts you used to get the results.\n",
    "\n",
    "## Grading Scale\n",
    "\n",
    "The grading scale is predetermined so as to eliminate competition with other students, and to ensure that you always know your grade in the class. Your grade is based upon your performance only.\n",
    "\n",
    "| Numerical Range | Grade |\n",
    "|-----------------|:------|\n",
    "| \\> 93           | A     |\n",
    "| 90 -- 93        | A-    |\n",
    "| 87 -- 90        | B+    |\n",
    "| 83 -- 87        | B     |\n",
    "| 80 -- 83        | B-    |\n",
    "| 77 -- 80        | C+    |\n",
    "| 73 -- 77        | C     |\n",
    "| 70 -- 73        | C-    |\n",
    "| 60 -- 70        | D     |\n",
    "| \\< 60           | F     |"
   ]
  }
 ],
 "metadata": {
  "kernelspec": {
   "display_name": "Python 3 (ipykernel)",
   "language": "python",
   "name": "python3"
  },
  "language_info": {
   "codemirror_mode": {
    "name": "ipython",
    "version": 3
   },
   "file_extension": ".py",
   "mimetype": "text/x-python",
   "name": "python",
   "nbconvert_exporter": "python",
   "pygments_lexer": "ipython3",
   "version": "3.11.5"
  }
 },
 "nbformat": 4,
 "nbformat_minor": 5
}
