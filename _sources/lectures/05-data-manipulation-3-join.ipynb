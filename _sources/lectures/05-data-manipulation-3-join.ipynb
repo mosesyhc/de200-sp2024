{
 "cells": [
  {
   "cell_type": "markdown",
   "id": "27a1c9a7-62ad-4c33-b64d-f1677c3d95bf",
   "metadata": {},
   "source": [
    "# `pandas` Part III\n",
    "\n",
    "This document introduces the joining of multiple datasets in `pandas`.\n",
    "\n",
    "## Basic idea of relational databases\n",
    "\n",
    "In many occasions data do not reside in one single table.  Instead, they reside in multiple tables connected by identifiers, because of \n",
    "\n",
    "- storage efficiency: the same data do not have to be stored multiple times. \n",
    "- data consistency: multiple copies of data are prone to inconsistency.\n",
    "- standard access: all *relational databases* offer a similar way of accessing the data.\n",
    "\n",
    "In CS 217, you will dive into the design of relational databases and the language to access them, Structured Query Language (SQL)."
   ]
  },
  {
   "cell_type": "markdown",
   "id": "12a1c477-2985-4012-85a0-77aad01e58df",
   "metadata": {},
   "source": [
    "## A truncated example with healthcare data ([MIMIC-III](https://mimic.mit.edu/docs/iii/))"
   ]
  },
  {
   "cell_type": "markdown",
   "id": "644eee17-a4d1-4ac7-9f6d-0279ec155f07",
   "metadata": {},
   "source": [
    "```{figure} ../img/table-join-mimic.png\n",
    "---\n",
    "width: 80%\n",
    "name: mimic-erd\n",
    "---\n",
    "Example of a relational database (MIMIC III)\n",
    "```"
   ]
  },
  {
   "cell_type": "markdown",
   "id": "523c41e5-96fb-41f0-8ed7-c8ed8ee2b6a4",
   "metadata": {},
   "source": [
    "## Coded example with baby names\n",
    "\n",
    "{cite:t}`tzioumis2018demographic` has studied how often various first names are used by people of certain racial and Hispanic origin groups.  \n",
    "The data contain the following information (columns):"
   ]
  },
  {
   "cell_type": "code",
   "execution_count": null,
   "id": "3e29455f-cc29-4eb7-ad71-ce4b977c45a9",
   "metadata": {},
   "outputs": [],
   "source": [
    "import pandas as pd\n",
    "\n",
    "baby = pd.read_csv('../data/ssa-names.csv.zip')\n",
    "names_demo_meta = pd.read_excel('../data/firstnames.xlsx')\n",
    "names_demo = pd.read_excel('../data/firstnames.xlsx', sheet_name='Data')"
   ]
  },
  {
   "cell_type": "code",
   "execution_count": null,
   "id": "518879f9-42a4-4ff0-a26b-c2b9ca6d51b4",
   "metadata": {},
   "outputs": [],
   "source": [
    "pd.set_option('display.max_colwidth', 80)\n",
    "names_demo_meta"
   ]
  },
  {
   "cell_type": "markdown",
   "id": "7ff6748e-b01a-4fd3-9ab0-bedde3a6662a",
   "metadata": {},
   "source": [
    "**Are the most popular baby names used by people of a variety of ethnic groups?**"
   ]
  },
  {
   "cell_type": "code",
   "execution_count": null,
   "id": "48d7801d-2fa7-4f1e-ab8c-a42206807160",
   "metadata": {},
   "outputs": [],
   "source": [
    "# data cleanup for baby names\n",
    "baby.columns = baby.columns.str.lower()\n",
    "baby['name'] = baby['name'].str.lower()"
   ]
  },
  {
   "cell_type": "code",
   "execution_count": null,
   "id": "f691a263-2c48-47b1-a6ac-650d88c51370",
   "metadata": {},
   "outputs": [],
   "source": [
    "# data cleanup for demographics info\n",
    "names_demo['firstname'] = names_demo['firstname'].str.lower()"
   ]
  },
  {
   "cell_type": "code",
   "execution_count": null,
   "id": "78e8aa79-424c-4022-986c-e2218356b074",
   "metadata": {},
   "outputs": [],
   "source": [
    "most_occurrence_names = baby.loc[baby.groupby(['year', 'sex'])['count'].idxmax(), ['year', 'name', 'sex', 'count']].reset_index()\n",
    "most_occurrence_names = most_occurrence_names.drop(columns='index')"
   ]
  },
  {
   "cell_type": "code",
   "execution_count": null,
   "id": "2a63e99a-2313-4d92-a6ec-6aee7e7b44f8",
   "metadata": {},
   "outputs": [],
   "source": [
    "most_occurrence_names.merge(names_demo,           # which two datasets to join\n",
    "                            how='inner',          # method of join\n",
    "                            left_on='name',       # which column (key) to connect with in the first dataset\n",
    "                            right_on='firstname') # which column (key) to connect with in the second dataset"
   ]
  },
  {
   "cell_type": "markdown",
   "id": "874930b2-80b9-45fa-83db-bd567e168d0b",
   "metadata": {},
   "source": [
    "**Comparison to a query using SQL (CS 217)**\n",
    "\n",
    "```sql\n",
    "SELECT * \n",
    "FROM most_occurrence_names \n",
    "INNER JOIN names_demo\n",
    "ON most_occurrence_names.name = names_demo.firstname\n",
    "```"
   ]
  },
  {
   "cell_type": "markdown",
   "id": "288431eb-6b1c-4d84-b311-64ef7c8c93f3",
   "metadata": {},
   "source": [
    "**Many types of \"joining\" two tables**"
   ]
  },
  {
   "cell_type": "markdown",
   "id": "ff666f26-0bef-42b0-ab6e-aabd949be346",
   "metadata": {
    "jp-MarkdownHeadingCollapsed": true
   },
   "source": [
    "```{figure} ../img/table-join-sql.png\n",
    "---\n",
    "width: 80%\n",
    "name: sql-join\n",
    "---\n",
    "Types of JOIN (merge) statements (source: Taylor Brownlow)\n",
    "```"
   ]
  },
  {
   "cell_type": "markdown",
   "id": "eb2edbe3-12f6-4e4c-86f1-cd1e2b81da78",
   "metadata": {},
   "source": [
    "## Practice 4\n",
    "\n",
    "Using the MIMIC-III demo dataset (`PATIENTS.csv` and `ADMISSIONS.csv`), \n",
    "\n",
    "1. Create a table that includes all admissions with the corresponding patient information.  (*Think about which way to join/merge.*)\n",
    "2. Report the number of admissions for each patient.\n",
    "3. Report the number of admissions grouped by gender and ethnicity."
   ]
  }
 ],
 "metadata": {
  "kernelspec": {
   "display_name": "Python 3 (ipykernel)",
   "language": "python",
   "name": "python3"
  },
  "language_info": {
   "codemirror_mode": {
    "name": "ipython",
    "version": 3
   },
   "file_extension": ".py",
   "mimetype": "text/x-python",
   "name": "python",
   "nbconvert_exporter": "python",
   "pygments_lexer": "ipython3",
   "version": "3.11.8"
  }
 },
 "nbformat": 4,
 "nbformat_minor": 5
}
